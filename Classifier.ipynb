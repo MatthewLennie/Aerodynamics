{
 "cells": [
  {
   "cell_type": "markdown",
   "metadata": {},
   "source": [
    "# Lesson 1 - What's your pet"
   ]
  },
  {
   "cell_type": "markdown",
   "metadata": {},
   "source": [
    "Welcome to lesson 1! For those of you who are using a Jupyter Notebook for the first time, you can learn about this useful tool in a tutorial we prepared specially for you; click `File`->`Open` now and click `00_notebook_tutorial.ipynb`. \n",
    "\n",
    "In this lesson we will build our first image classifier from scratch, and see if we can achieve world-class results. Let's dive in!\n",
    "\n",
    "Every notebook starts with the following three lines; they ensure that any edits to libraries you make are reloaded here automatically, and also that any charts or images displayed are shown in this notebook."
   ]
  },
  {
   "cell_type": "code",
   "execution_count": 1,
   "metadata": {},
   "outputs": [],
   "source": [
    "%reload_ext autoreload\n",
    "%autoreload 2\n",
    "%matplotlib inline"
   ]
  },
  {
   "cell_type": "code",
   "execution_count": 33,
   "metadata": {},
   "outputs": [],
   "source": [
    "from PIL.Image import open"
   ]
  },
  {
   "cell_type": "markdown",
   "metadata": {},
   "source": [
    "We import all the necessary packages. We are going to work with the [fastai V1 library](http://www.fast.ai/2018/10/02/fastai-ai/) which sits on top of [Pytorch 1.0](https://hackernoon.com/pytorch-1-0-468332ba5163). The fastai library provides many useful functions that enable us to quickly and easily build neural networks and train our models."
   ]
  },
  {
   "cell_type": "code",
   "execution_count": 89,
   "metadata": {},
   "outputs": [],
   "source": [
    "from fastai.vision import *\n",
    "from fastai.metrics import error_rate\n",
    "from fastai.vision.transform import *\n",
    "import posixpath"
   ]
  },
  {
   "cell_type": "markdown",
   "metadata": {},
   "source": [
    "If you're using a computer with an unusually small GPU, you may get an out of memory error when running this notebook. If this happens, click Kernel->Restart, uncomment the 2nd line below to use a smaller *batch size* (you'll learn all about what this means during the course), and try again."
   ]
  },
  {
   "cell_type": "code",
   "execution_count": 3,
   "metadata": {},
   "outputs": [],
   "source": [
    "bs = 1024\n",
    "# bs = 16   # uncomment this line if you run out of memory even after clicking Kernel->Restart"
   ]
  },
  {
   "cell_type": "markdown",
   "metadata": {},
   "source": [
    "## Looking at the data"
   ]
  },
  {
   "cell_type": "markdown",
   "metadata": {},
   "source": [
    "We are going to use the [Oxford-IIIT Pet Dataset](http://www.robots.ox.ac.uk/~vgg/data/pets/) by [O. M. Parkhi et al., 2012](http://www.robots.ox.ac.uk/~vgg/publications/2012/parkhi12a/parkhi12a.pdf) which features 12 cat breeds and 25 dogs breeds. Our model will need to learn to differentiate between these 37 distinct categories. According to their paper, the best accuracy they could get in 2012 was 59.21%, using a complex model that was specific to pet detection, with separate \"Image\", \"Head\", and \"Body\" models for the pet photos. Let's see how accurate we can be using deep learning!\n",
    "\n",
    "We are going to use the `untar_data` function to which we must pass a URL as an argument and which will download and extract the data."
   ]
  },
  {
   "cell_type": "code",
   "execution_count": 5,
   "metadata": {},
   "outputs": [
    {
     "name": "stdout",
     "output_type": "stream",
     "text": [
      "Help on function untar_data in module fastai.datasets:\n",
      "\n",
      "untar_data(url:str, fname:Union[pathlib.Path, str]=None, dest:Union[pathlib.Path, str]=None, data=True, force_download=False) -> pathlib.Path\n",
      "    Download `url` to `fname` if it doesn't exist, and un-tgz to folder `dest`.\n",
      "\n"
     ]
    }
   ],
   "source": [
    "help(untar_data)"
   ]
  },
  {
   "cell_type": "code",
   "execution_count": null,
   "metadata": {},
   "outputs": [
    {
     "data": {
      "text/plain": [
       "PosixPath('/home/ubuntu/.fastai/data/oxford-iiit-pet')"
      ]
     },
     "execution_count": null,
     "metadata": {},
     "output_type": "execute_result"
    }
   ],
   "source": []
  },
  {
   "cell_type": "code",
   "execution_count": null,
   "metadata": {},
   "outputs": [
    {
     "data": {
      "text/plain": [
       "[PosixPath('/home/ubuntu/.fastai/data/oxford-iiit-pet/images'),\n",
       " PosixPath('/home/ubuntu/.fastai/data/oxford-iiit-pet/annotations')]"
      ]
     },
     "execution_count": null,
     "metadata": {},
     "output_type": "execute_result"
    }
   ],
   "source": []
  },
  {
   "cell_type": "code",
   "execution_count": null,
   "metadata": {},
   "outputs": [],
   "source": []
  },
  {
   "cell_type": "markdown",
   "metadata": {},
   "source": [
    "The first thing we do when we approach a problem is to take a look at the data. We _always_ need to understand very well what the problem is and what the data looks like before we can figure out how to solve it. Taking a look at the data means understanding how the data directories are structured, what the labels are and what some sample images look like.\n",
    "\n",
    "The main difference between the handling of image classification datasets is the way labels are stored. In this particular dataset, labels are stored in the filenames themselves. We will need to extract them to be able to classify the images into the correct categories. Fortunately, the fastai library has a handy function made exactly for this, `ImageDataBunch.from_name_re` gets the labels from the filenames using a [regular expression](https://docs.python.org/3.6/library/re.html)."
   ]
  },
  {
   "cell_type": "code",
   "execution_count": null,
   "metadata": {},
   "outputs": [
    {
     "data": {
      "text/plain": [
       "[PosixPath('/home/ubuntu/.fastai/data/oxford-iiit-pet/images/saint_bernard_188.jpg'),\n",
       " PosixPath('/home/ubuntu/.fastai/data/oxford-iiit-pet/images/staffordshire_bull_terrier_114.jpg'),\n",
       " PosixPath('/home/ubuntu/.fastai/data/oxford-iiit-pet/images/Persian_144.jpg'),\n",
       " PosixPath('/home/ubuntu/.fastai/data/oxford-iiit-pet/images/Maine_Coon_268.jpg'),\n",
       " PosixPath('/home/ubuntu/.fastai/data/oxford-iiit-pet/images/newfoundland_95.jpg')]"
      ]
     },
     "execution_count": null,
     "metadata": {},
     "output_type": "execute_result"
    }
   ],
   "source": []
  },
  {
   "cell_type": "code",
   "execution_count": null,
   "metadata": {},
   "outputs": [],
   "source": []
  },
  {
   "cell_type": "code",
   "execution_count": 4,
   "metadata": {},
   "outputs": [],
   "source": [
    "data = ImageDataBunch.from_folder(\"./Pictures/\", size=49, bs=bs).normalize(imagenet_stats)"
   ]
  },
  {
   "cell_type": "code",
   "execution_count": 36,
   "metadata": {},
   "outputs": [
    {
     "data": {
      "image/png": "[encoded data removed]",
      "text/plain": [
       "<Figure size 504x432 with 9 Axes>"
      ]
     },
     "metadata": {
      "needs_background": "light"
     },
     "output_type": "display_data"
    }
   ],
   "source": [
    "data.show_batch(rows=3, figsize=(7,6))"
   ]
  },
  {
   "cell_type": "code",
   "execution_count": 8,
   "metadata": {},
   "outputs": [
    {
     "name": "stdout",
     "output_type": "stream",
     "text": [
      "['0', '1']\n"
     ]
    },
    {
     "data": {
      "text/plain": [
       "(2, 2)"
      ]
     },
     "execution_count": 8,
     "metadata": {},
     "output_type": "execute_result"
    }
   ],
   "source": [
    "data."
   ]
  },
  {
   "cell_type": "markdown",
   "metadata": {},
   "source": [
    "## Training: resnet34"
   ]
  },
  {
   "cell_type": "markdown",
   "metadata": {},
   "source": [
    "Now we will start training our model. We will use a [convolutional neural network](http://cs231n.github.io/convolutional-networks/) backbone and a fully connected head with a single hidden layer as a classifier. Don't know what these things mean? Not to worry, we will dive deeper in the coming lessons. For the moment you need to know that we are building a model which will take images as input and will output the predicted probability for each of the categories (in this case, it will have 37 outputs).\n",
    "\n",
    "We will train for 4 epochs (4 cycles through all our data)."
   ]
  },
  {
   "cell_type": "code",
   "execution_count": 5,
   "metadata": {},
   "outputs": [],
   "source": [
    "learn = create_cnn(data, models.resnet34, metrics=error_rate)"
   ]
  },
  {
   "cell_type": "code",
   "execution_count": 41,
   "metadata": {},
   "outputs": [
    {
     "data": {
      "text/plain": [
       "Sequential(\n",
       "  (0): Sequential(\n",
       "    (0): Conv2d(3, 64, kernel_size=(7, 7), stride=(2, 2), padding=(3, 3), bias=False)\n",
       "    (1): BatchNorm2d(64, eps=1e-05, momentum=0.1, affine=True, track_running_stats=True)\n",
       "    (2): ReLU(inplace)\n",
       "    (3): MaxPool2d(kernel_size=3, stride=2, padding=1, dilation=1, ceil_mode=False)\n",
       "    (4): Sequential(\n",
       "      (0): BasicBlock(\n",
       "        (conv1): Conv2d(64, 64, kernel_size=(3, 3), stride=(1, 1), padding=(1, 1), bias=False)\n",
       "        (bn1): BatchNorm2d(64, eps=1e-05, momentum=0.1, affine=True, track_running_stats=True)\n",
       "        (relu): ReLU(inplace)\n",
       "        (conv2): Conv2d(64, 64, kernel_size=(3, 3), stride=(1, 1), padding=(1, 1), bias=False)\n",
       "        (bn2): BatchNorm2d(64, eps=1e-05, momentum=0.1, affine=True, track_running_stats=True)\n",
       "      )\n",
       "      (1): BasicBlock(\n",
       "        (conv1): Conv2d(64, 64, kernel_size=(3, 3), stride=(1, 1), padding=(1, 1), bias=False)\n",
       "        (bn1): BatchNorm2d(64, eps=1e-05, momentum=0.1, affine=True, track_running_stats=True)\n",
       "        (relu): ReLU(inplace)\n",
       "        (conv2): Conv2d(64, 64, kernel_size=(3, 3), stride=(1, 1), padding=(1, 1), bias=False)\n",
       "        (bn2): BatchNorm2d(64, eps=1e-05, momentum=0.1, affine=True, track_running_stats=True)\n",
       "      )\n",
       "      (2): BasicBlock(\n",
       "        (conv1): Conv2d(64, 64, kernel_size=(3, 3), stride=(1, 1), padding=(1, 1), bias=False)\n",
       "        (bn1): BatchNorm2d(64, eps=1e-05, momentum=0.1, affine=True, track_running_stats=True)\n",
       "        (relu): ReLU(inplace)\n",
       "        (conv2): Conv2d(64, 64, kernel_size=(3, 3), stride=(1, 1), padding=(1, 1), bias=False)\n",
       "        (bn2): BatchNorm2d(64, eps=1e-05, momentum=0.1, affine=True, track_running_stats=True)\n",
       "      )\n",
       "    )\n",
       "    (5): Sequential(\n",
       "      (0): BasicBlock(\n",
       "        (conv1): Conv2d(64, 128, kernel_size=(3, 3), stride=(2, 2), padding=(1, 1), bias=False)\n",
       "        (bn1): BatchNorm2d(128, eps=1e-05, momentum=0.1, affine=True, track_running_stats=True)\n",
       "        (relu): ReLU(inplace)\n",
       "        (conv2): Conv2d(128, 128, kernel_size=(3, 3), stride=(1, 1), padding=(1, 1), bias=False)\n",
       "        (bn2): BatchNorm2d(128, eps=1e-05, momentum=0.1, affine=True, track_running_stats=True)\n",
       "        (downsample): Sequential(\n",
       "          (0): Conv2d(64, 128, kernel_size=(1, 1), stride=(2, 2), bias=False)\n",
       "          (1): BatchNorm2d(128, eps=1e-05, momentum=0.1, affine=True, track_running_stats=True)\n",
       "        )\n",
       "      )\n",
       "      (1): BasicBlock(\n",
       "        (conv1): Conv2d(128, 128, kernel_size=(3, 3), stride=(1, 1), padding=(1, 1), bias=False)\n",
       "        (bn1): BatchNorm2d(128, eps=1e-05, momentum=0.1, affine=True, track_running_stats=True)\n",
       "        (relu): ReLU(inplace)\n",
       "        (conv2): Conv2d(128, 128, kernel_size=(3, 3), stride=(1, 1), padding=(1, 1), bias=False)\n",
       "        (bn2): BatchNorm2d(128, eps=1e-05, momentum=0.1, affine=True, track_running_stats=True)\n",
       "      )\n",
       "      (2): BasicBlock(\n",
       "        (conv1): Conv2d(128, 128, kernel_size=(3, 3), stride=(1, 1), padding=(1, 1), bias=False)\n",
       "        (bn1): BatchNorm2d(128, eps=1e-05, momentum=0.1, affine=True, track_running_stats=True)\n",
       "        (relu): ReLU(inplace)\n",
       "        (conv2): Conv2d(128, 128, kernel_size=(3, 3), stride=(1, 1), padding=(1, 1), bias=False)\n",
       "        (bn2): BatchNorm2d(128, eps=1e-05, momentum=0.1, affine=True, track_running_stats=True)\n",
       "      )\n",
       "      (3): BasicBlock(\n",
       "        (conv1): Conv2d(128, 128, kernel_size=(3, 3), stride=(1, 1), padding=(1, 1), bias=False)\n",
       "        (bn1): BatchNorm2d(128, eps=1e-05, momentum=0.1, affine=True, track_running_stats=True)\n",
       "        (relu): ReLU(inplace)\n",
       "        (conv2): Conv2d(128, 128, kernel_size=(3, 3), stride=(1, 1), padding=(1, 1), bias=False)\n",
       "        (bn2): BatchNorm2d(128, eps=1e-05, momentum=0.1, affine=True, track_running_stats=True)\n",
       "      )\n",
       "    )\n",
       "    (6): Sequential(\n",
       "      (0): BasicBlock(\n",
       "        (conv1): Conv2d(128, 256, kernel_size=(3, 3), stride=(2, 2), padding=(1, 1), bias=False)\n",
       "        (bn1): BatchNorm2d(256, eps=1e-05, momentum=0.1, affine=True, track_running_stats=True)\n",
       "        (relu): ReLU(inplace)\n",
       "        (conv2): Conv2d(256, 256, kernel_size=(3, 3), stride=(1, 1), padding=(1, 1), bias=False)\n",
       "        (bn2): BatchNorm2d(256, eps=1e-05, momentum=0.1, affine=True, track_running_stats=True)\n",
       "        (downsample): Sequential(\n",
       "          (0): Conv2d(128, 256, kernel_size=(1, 1), stride=(2, 2), bias=False)\n",
       "          (1): BatchNorm2d(256, eps=1e-05, momentum=0.1, affine=True, track_running_stats=True)\n",
       "        )\n",
       "      )\n",
       "      (1): BasicBlock(\n",
       "        (conv1): Conv2d(256, 256, kernel_size=(3, 3), stride=(1, 1), padding=(1, 1), bias=False)\n",
       "        (bn1): BatchNorm2d(256, eps=1e-05, momentum=0.1, affine=True, track_running_stats=True)\n",
       "        (relu): ReLU(inplace)\n",
       "        (conv2): Conv2d(256, 256, kernel_size=(3, 3), stride=(1, 1), padding=(1, 1), bias=False)\n",
       "        (bn2): BatchNorm2d(256, eps=1e-05, momentum=0.1, affine=True, track_running_stats=True)\n",
       "      )\n",
       "      (2): BasicBlock(\n",
       "        (conv1): Conv2d(256, 256, kernel_size=(3, 3), stride=(1, 1), padding=(1, 1), bias=False)\n",
       "        (bn1): BatchNorm2d(256, eps=1e-05, momentum=0.1, affine=True, track_running_stats=True)\n",
       "        (relu): ReLU(inplace)\n",
       "        (conv2): Conv2d(256, 256, kernel_size=(3, 3), stride=(1, 1), padding=(1, 1), bias=False)\n",
       "        (bn2): BatchNorm2d(256, eps=1e-05, momentum=0.1, affine=True, track_running_stats=True)\n",
       "      )\n",
       "      (3): BasicBlock(\n",
       "        (conv1): Conv2d(256, 256, kernel_size=(3, 3), stride=(1, 1), padding=(1, 1), bias=False)\n",
       "        (bn1): BatchNorm2d(256, eps=1e-05, momentum=0.1, affine=True, track_running_stats=True)\n",
       "        (relu): ReLU(inplace)\n",
       "        (conv2): Conv2d(256, 256, kernel_size=(3, 3), stride=(1, 1), padding=(1, 1), bias=False)\n",
       "        (bn2): BatchNorm2d(256, eps=1e-05, momentum=0.1, affine=True, track_running_stats=True)\n",
       "      )\n",
       "      (4): BasicBlock(\n",
       "        (conv1): Conv2d(256, 256, kernel_size=(3, 3), stride=(1, 1), padding=(1, 1), bias=False)\n",
       "        (bn1): BatchNorm2d(256, eps=1e-05, momentum=0.1, affine=True, track_running_stats=True)\n",
       "        (relu): ReLU(inplace)\n",
       "        (conv2): Conv2d(256, 256, kernel_size=(3, 3), stride=(1, 1), padding=(1, 1), bias=False)\n",
       "        (bn2): BatchNorm2d(256, eps=1e-05, momentum=0.1, affine=True, track_running_stats=True)\n",
       "      )\n",
       "      (5): BasicBlock(\n",
       "        (conv1): Conv2d(256, 256, kernel_size=(3, 3), stride=(1, 1), padding=(1, 1), bias=False)\n",
       "        (bn1): BatchNorm2d(256, eps=1e-05, momentum=0.1, affine=True, track_running_stats=True)\n",
       "        (relu): ReLU(inplace)\n",
       "        (conv2): Conv2d(256, 256, kernel_size=(3, 3), stride=(1, 1), padding=(1, 1), bias=False)\n",
       "        (bn2): BatchNorm2d(256, eps=1e-05, momentum=0.1, affine=True, track_running_stats=True)\n",
       "      )\n",
       "    )\n",
       "    (7): Sequential(\n",
       "      (0): BasicBlock(\n",
       "        (conv1): Conv2d(256, 512, kernel_size=(3, 3), stride=(2, 2), padding=(1, 1), bias=False)\n",
       "        (bn1): BatchNorm2d(512, eps=1e-05, momentum=0.1, affine=True, track_running_stats=True)\n",
       "        (relu): ReLU(inplace)\n",
       "        (conv2): Conv2d(512, 512, kernel_size=(3, 3), stride=(1, 1), padding=(1, 1), bias=False)\n",
       "        (bn2): BatchNorm2d(512, eps=1e-05, momentum=0.1, affine=True, track_running_stats=True)\n",
       "        (downsample): Sequential(\n",
       "          (0): Conv2d(256, 512, kernel_size=(1, 1), stride=(2, 2), bias=False)\n",
       "          (1): BatchNorm2d(512, eps=1e-05, momentum=0.1, affine=True, track_running_stats=True)\n",
       "        )\n",
       "      )\n",
       "      (1): BasicBlock(\n",
       "        (conv1): Conv2d(512, 512, kernel_size=(3, 3), stride=(1, 1), padding=(1, 1), bias=False)\n",
       "        (bn1): BatchNorm2d(512, eps=1e-05, momentum=0.1, affine=True, track_running_stats=True)\n",
       "        (relu): ReLU(inplace)\n",
       "        (conv2): Conv2d(512, 512, kernel_size=(3, 3), stride=(1, 1), padding=(1, 1), bias=False)\n",
       "        (bn2): BatchNorm2d(512, eps=1e-05, momentum=0.1, affine=True, track_running_stats=True)\n",
       "      )\n",
       "      (2): BasicBlock(\n",
       "        (conv1): Conv2d(512, 512, kernel_size=(3, 3), stride=(1, 1), padding=(1, 1), bias=False)\n",
       "        (bn1): BatchNorm2d(512, eps=1e-05, momentum=0.1, affine=True, track_running_stats=True)\n",
       "        (relu): ReLU(inplace)\n",
       "        (conv2): Conv2d(512, 512, kernel_size=(3, 3), stride=(1, 1), padding=(1, 1), bias=False)\n",
       "        (bn2): BatchNorm2d(512, eps=1e-05, momentum=0.1, affine=True, track_running_stats=True)\n",
       "      )\n",
       "    )\n",
       "  )\n",
       "  (1): Sequential(\n",
       "    (0): AdaptiveConcatPool2d(\n",
       "      (ap): AdaptiveAvgPool2d(output_size=1)\n",
       "      (mp): AdaptiveMaxPool2d(output_size=1)\n",
       "    )\n",
       "    (1): Flatten()\n",
       "    (2): BatchNorm1d(1024, eps=1e-05, momentum=0.1, affine=True, track_running_stats=True)\n",
       "    (3): Dropout(p=0.25)\n",
       "    (4): Linear(in_features=1024, out_features=512, bias=True)\n",
       "    (5): ReLU(inplace)\n",
       "    (6): BatchNorm1d(512, eps=1e-05, momentum=0.1, affine=True, track_running_stats=True)\n",
       "    (7): Dropout(p=0.5)\n",
       "    (8): Linear(in_features=512, out_features=2, bias=True)\n",
       "  )\n",
       ")"
      ]
     },
     "execution_count": 41,
     "metadata": {},
     "output_type": "execute_result"
    }
   ],
   "source": [
    "learn.model"
   ]
  },
  {
   "cell_type": "code",
   "execution_count": null,
   "metadata": {},
   "outputs": [],
   "source": [
    "learn.lr_find()"
   ]
  },
  {
   "cell_type": "code",
   "execution_count": null,
   "metadata": {},
   "outputs": [],
   "source": [
    "learn.recorder.plot()"
   ]
  },
  {
   "cell_type": "code",
   "execution_count": 11,
   "metadata": {},
   "outputs": [
    {
     "data": {
      "text/html": [
       "Total time: 05:24 <p><table style='width:300px; margin-bottom:10px'>\n",
       "  <tr>\n",
       "    <th>epoch</th>\n",
       "    <th>train_loss</th>\n",
       "    <th>valid_loss</th>\n",
       "    <th>error_rate</th>\n",
       "  </tr>\n",
       "  <tr>\n",
       "    <th>1</th>\n",
       "    <th>0.355793</th>\n",
       "    <th>0.200532</th>\n",
       "    <th>0.077414</th>\n",
       "  </tr>\n",
       "  <tr>\n",
       "    <th>2</th>\n",
       "    <th>0.265655</th>\n",
       "    <th>0.187706</th>\n",
       "    <th>0.073600</th>\n",
       "  </tr>\n",
       "  <tr>\n",
       "    <th>3</th>\n",
       "    <th>0.239036</th>\n",
       "    <th>0.184935</th>\n",
       "    <th>0.069495</th>\n",
       "  </tr>\n",
       "  <tr>\n",
       "    <th>4</th>\n",
       "    <th>0.228236</th>\n",
       "    <th>0.183978</th>\n",
       "    <th>0.069329</th>\n",
       "  </tr>\n",
       "</table>\n"
      ],
      "text/plain": [
       "<IPython.core.display.HTML object>"
      ]
     },
     "metadata": {},
     "output_type": "display_data"
    }
   ],
   "source": [
    "learn.fit_one_cycle(4)"
   ]
  },
  {
   "cell_type": "code",
   "execution_count": 34,
   "metadata": {},
   "outputs": [],
   "source": [
    "learn.save('stage-1')"
   ]
  },
  {
   "cell_type": "markdown",
   "metadata": {},
   "source": [
    "## Results"
   ]
  },
  {
   "cell_type": "markdown",
   "metadata": {},
   "source": [
    "Let's see what results we have got. \n",
    "\n",
    "We will first see which were the categories that the model most confused with one another. We will try to see if what the model predicted was reasonable or not. In this case the mistakes look reasonable (none of the mistakes seems obviously naive). This is an indicator that our classifier is working correctly. \n",
    "\n",
    "Furthermore, when we plot the confusion matrix, we can see that the distribution is heavily skewed: the model makes the same mistakes over and over again but it rarely confuses other categories. This suggests that it just finds it difficult to distinguish some specific categories between each other; this is normal behaviour."
   ]
  },
  {
   "cell_type": "code",
   "execution_count": 7,
   "metadata": {},
   "outputs": [
    {
     "data": {
      "text/plain": [
       "True"
      ]
     },
     "execution_count": 7,
     "metadata": {},
     "output_type": "execute_result"
    }
   ],
   "source": [
    "interp = ClassificationInterpretation.from_learner(learn)\n",
    "\n",
    "losses,idxs = interp.top_losses()\n",
    "\n",
    "len(data.valid_ds)==len(losses)==len(idxs)"
   ]
  },
  {
   "cell_type": "code",
   "execution_count": 171,
   "metadata": {},
   "outputs": [],
   "source": [
    "img = learn.data.train_ds[0][0]\n",
    "predictions = [learn.predict(img)[1].numpy().item() for img in learn.data.valid_ds.x[:15000]]"
   ]
  },
  {
   "cell_type": "code",
   "execution_count": 172,
   "metadata": {},
   "outputs": [],
   "source": [
    "paths = [posixpath.basename(posixpath.splitext(item)[0]) for item in data.valid_ds.items]"
   ]
  },
  {
   "cell_type": "code",
   "execution_count": 173,
   "metadata": {},
   "outputs": [],
   "source": [
    "dfPredict = pd.DataFrame({\"real\":data.valid_ds.y.items[:15000],\"nnLabel\":predictions[:15000],\"path\":paths[:15000]})"
   ]
  },
  {
   "cell_type": "code",
   "execution_count": 174,
   "metadata": {},
   "outputs": [],
   "source": [
    "dfPredict.set_index(\"path\",inplace=True)"
   ]
  },
  {
   "cell_type": "code",
   "execution_count": 175,
   "metadata": {},
   "outputs": [
    {
     "data": {
      "application/javascript": [
       "/* Put everything inside the global mpl namespace */\n",
       "window.mpl = {};\n",
       "\n",
       "\n",
       "mpl.get_websocket_type = function() {\n",
       "    if (typeof(WebSocket) !== 'undefined') {\n",
       "        return WebSocket;\n",
       "    } else if (typeof(MozWebSocket) !== 'undefined') {\n",
       "        return MozWebSocket;\n",
       "    } else {\n",
       "        alert('Your browser does not have WebSocket support.' +\n",
       "              'Please try Chrome, Safari or Firefox ≥ 6. ' +\n",
       "              'Firefox 4 and 5 are also supported but you ' +\n",
       "              'have to enable WebSockets in about:config.');\n",
       "    };\n",
       "}\n",
       "\n",
       "mpl.figure = function(figure_id, websocket, ondownload, parent_element) {\n",
       "    this.id = figure_id;\n",
       "\n",
       "    this.ws = websocket;\n",
       "\n",
       "    this.supports_binary = (this.ws.binaryType != undefined);\n",
       "\n",
       "    if (!this.supports_binary) {\n",
       "        var warnings = document.getElementById(\"mpl-warnings\");\n",
       "        if (warnings) {\n",
       "            warnings.style.display = 'block';\n",
       "            warnings.textContent = (\n",
       "                \"This browser does not support binary websocket messages. \" +\n",
       "                    \"Performance may be slow.\");\n",
       "        }\n",
       "    }\n",
       "\n",
       "    this.imageObj = new Image();\n",
       "\n",
       "    this.context = undefined;\n",
       "    this.message = undefined;\n",
       "    this.canvas = undefined;\n",
       "    this.rubberband_canvas = undefined;\n",
       "    this.rubberband_context = undefined;\n",
       "    this.format_dropdown = undefined;\n",
       "\n",
       "    this.image_mode = 'full';\n",
       "\n",
       "    this.root = $('<div/>');\n",
       "    this._root_extra_style(this.root)\n",
       "    this.root.attr('style', 'display: inline-block');\n",
       "\n",
       "    $(parent_element).append(this.root);\n",
       "\n",
       "    this._init_header(this);\n",
       "    this._init_canvas(this);\n",
       "    this._init_toolbar(this);\n",
       "\n",
       "    var fig = this;\n",
       "\n",
       "    this.waiting = false;\n",
       "\n",
       "    this.ws.onopen =  function () {\n",
       "            fig.send_message(\"supports_binary\", {value: fig.supports_binary});\n",
       "            fig.send_message(\"send_image_mode\", {});\n",
       "            if (mpl.ratio != 1) {\n",
       "                fig.send_message(\"set_dpi_ratio\", {'dpi_ratio': mpl.ratio});\n",
       "            }\n",
       "            fig.send_message(\"refresh\", {});\n",
       "        }\n",
       "\n",
       "    this.imageObj.onload = function() {\n",
       "            if (fig.image_mode == 'full') {\n",
       "                // Full images could contain transparency (where diff images\n",
       "                // almost always do), so we need to clear the canvas so that\n",
       "                // there is no ghosting.\n",
       "                fig.context.clearRect(0, 0, fig.canvas.width, fig.canvas.height);\n",
       "            }\n",
       "            fig.context.drawImage(fig.imageObj, 0, 0);\n",
       "        };\n",
       "\n",
       "    this.imageObj.onunload = function() {\n",
       "        fig.ws.close();\n",
       "    }\n",
       "\n",
       "    this.ws.onmessage = this._make_on_message_function(this);\n",
       "\n",
       "    this.ondownload = ondownload;\n",
       "}\n",
       "\n",
       "mpl.figure.prototype._init_header = function() {\n",
       "    var titlebar = $(\n",
       "        '<div class=\"ui-dialog-titlebar ui-widget-header ui-corner-all ' +\n",
       "        'ui-helper-clearfix\"/>');\n",
       "    var titletext = $(\n",
       "        '<div class=\"ui-dialog-title\" style=\"width: 100%; ' +\n",
       "        'text-align: center; padding: 3px;\"/>');\n",
       "    titlebar.append(titletext)\n",
       "    this.root.append(titlebar);\n",
       "    this.header = titletext[0];\n",
       "}\n",
       "\n",
       "\n",
       "\n",
       "mpl.figure.prototype._canvas_extra_style = function(canvas_div) {\n",
       "\n",
       "}\n",
       "\n",
       "\n",
       "mpl.figure.prototype._root_extra_style = function(canvas_div) {\n",
       "\n",
       "}\n",
       "\n",
       "mpl.figure.prototype._init_canvas = function() {\n",
       "    var fig = this;\n",
       "\n",
       "    var canvas_div = $('<div/>');\n",
       "\n",
       "    canvas_div.attr('style', 'position: relative; clear: both; outline: 0');\n",
       "\n",
       "    function canvas_keyboard_event(event) {\n",
       "        return fig.key_event(event, event['data']);\n",
       "    }\n",
       "\n",
       "    canvas_div.keydown('key_press', canvas_keyboard_event);\n",
       "    canvas_div.keyup('key_release', canvas_keyboard_event);\n",
       "    this.canvas_div = canvas_div\n",
       "    this._canvas_extra_style(canvas_div)\n",
       "    this.root.append(canvas_div);\n",
       "\n",
       "    var canvas = $('<canvas/>');\n",
       "    canvas.addClass('mpl-canvas');\n",
       "    canvas.attr('style', \"left: 0; top: 0; z-index: 0; outline: 0\")\n",
       "\n",
       "    this.canvas = canvas[0];\n",
       "    this.context = canvas[0].getContext(\"2d\");\n",
       "\n",
       "    var backingStore = this.context.backingStorePixelRatio ||\n",
       "\tthis.context.webkitBackingStorePixelRatio ||\n",
       "\tthis.context.mozBackingStorePixelRatio ||\n",
       "\tthis.context.msBackingStorePixelRatio ||\n",
       "\tthis.context.oBackingStorePixelRatio ||\n",
       "\tthis.context.backingStorePixelRatio || 1;\n",
       "\n",
       "    mpl.ratio = (window.devicePixelRatio || 1) / backingStore;\n",
       "\n",
       "    var rubberband = $('<canvas/>');\n",
       "    rubberband.attr('style', \"position: absolute; left: 0; top: 0; z-index: 1;\")\n",
       "\n",
       "    var pass_mouse_events = true;\n",
       "\n",
       "    canvas_div.resizable({\n",
       "        start: function(event, ui) {\n",
       "            pass_mouse_events = false;\n",
       "        },\n",
       "        resize: function(event, ui) {\n",
       "            fig.request_resize(ui.size.width, ui.size.height);\n",
       "        },\n",
       "        stop: function(event, ui) {\n",
       "            pass_mouse_events = true;\n",
       "            fig.request_resize(ui.size.width, ui.size.height);\n",
       "        },\n",
       "    });\n",
       "\n",
       "    function mouse_event_fn(event) {\n",
       "        if (pass_mouse_events)\n",
       "            return fig.mouse_event(event, event['data']);\n",
       "    }\n",
       "\n",
       "    rubberband.mousedown('button_press', mouse_event_fn);\n",
       "    rubberband.mouseup('button_release', mouse_event_fn);\n",
       "    // Throttle sequential mouse events to 1 every 20ms.\n",
       "    rubberband.mousemove('motion_notify', mouse_event_fn);\n",
       "\n",
       "    rubberband.mouseenter('figure_enter', mouse_event_fn);\n",
       "    rubberband.mouseleave('figure_leave', mouse_event_fn);\n",
       "\n",
       "    canvas_div.on(\"wheel\", function (event) {\n",
       "        event = event.originalEvent;\n",
       "        event['data'] = 'scroll'\n",
       "        if (event.deltaY < 0) {\n",
       "            event.step = 1;\n",
       "        } else {\n",
       "            event.step = -1;\n",
       "        }\n",
       "        mouse_event_fn(event);\n",
       "    });\n",
       "\n",
       "    canvas_div.append(canvas);\n",
       "    canvas_div.append(rubberband);\n",
       "\n",
       "    this.rubberband = rubberband;\n",
       "    this.rubberband_canvas = rubberband[0];\n",
       "    this.rubberband_context = rubberband[0].getContext(\"2d\");\n",
       "    this.rubberband_context.strokeStyle = \"#000000\";\n",
       "\n",
       "    this._resize_canvas = function(width, height) {\n",
       "        // Keep the size of the canvas, canvas container, and rubber band\n",
       "        // canvas in synch.\n",
       "        canvas_div.css('width', width)\n",
       "        canvas_div.css('height', height)\n",
       "\n",
       "        canvas.attr('width', width * mpl.ratio);\n",
       "        canvas.attr('height', height * mpl.ratio);\n",
       "        canvas.attr('style', 'width: ' + width + 'px; height: ' + height + 'px;');\n",
       "\n",
       "        rubberband.attr('width', width);\n",
       "        rubberband.attr('height', height);\n",
       "    }\n",
       "\n",
       "    // Set the figure to an initial 600x600px, this will subsequently be updated\n",
       "    // upon first draw.\n",
       "    this._resize_canvas(600, 600);\n",
       "\n",
       "    // Disable right mouse context menu.\n",
       "    $(this.rubberband_canvas).bind(\"contextmenu\",function(e){\n",
       "        return false;\n",
       "    });\n",
       "\n",
       "    function set_focus () {\n",
       "        canvas.focus();\n",
       "        canvas_div.focus();\n",
       "    }\n",
       "\n",
       "    window.setTimeout(set_focus, 100);\n",
       "}\n",
       "\n",
       "mpl.figure.prototype._init_toolbar = function() {\n",
       "    var fig = this;\n",
       "\n",
       "    var nav_element = $('<div/>')\n",
       "    nav_element.attr('style', 'width: 100%');\n",
       "    this.root.append(nav_element);\n",
       "\n",
       "    // Define a callback function for later on.\n",
       "    function toolbar_event(event) {\n",
       "        return fig.toolbar_button_onclick(event['data']);\n",
       "    }\n",
       "    function toolbar_mouse_event(event) {\n",
       "        return fig.toolbar_button_onmouseover(event['data']);\n",
       "    }\n",
       "\n",
       "    for(var toolbar_ind in mpl.toolbar_items) {\n",
       "        var name = mpl.toolbar_items[toolbar_ind][0];\n",
       "        var tooltip = mpl.toolbar_items[toolbar_ind][1];\n",
       "        var image = mpl.toolbar_items[toolbar_ind][2];\n",
       "        var method_name = mpl.toolbar_items[toolbar_ind][3];\n",
       "\n",
       "        if (!name) {\n",
       "            // put a spacer in here.\n",
       "            continue;\n",
       "        }\n",
       "        var button = $('<button/>');\n",
       "        button.addClass('ui-button ui-widget ui-state-default ui-corner-all ' +\n",
       "                        'ui-button-icon-only');\n",
       "        button.attr('role', 'button');\n",
       "        button.attr('aria-disabled', 'false');\n",
       "        button.click(method_name, toolbar_event);\n",
       "        button.mouseover(tooltip, toolbar_mouse_event);\n",
       "\n",
       "        var icon_img = $('<span/>');\n",
       "        icon_img.addClass('ui-button-icon-primary ui-icon');\n",
       "        icon_img.addClass(image);\n",
       "        icon_img.addClass('ui-corner-all');\n",
       "\n",
       "        var tooltip_span = $('<span/>');\n",
       "        tooltip_span.addClass('ui-button-text');\n",
       "        tooltip_span.html(tooltip);\n",
       "\n",
       "        button.append(icon_img);\n",
       "        button.append(tooltip_span);\n",
       "\n",
       "        nav_element.append(button);\n",
       "    }\n",
       "\n",
       "    var fmt_picker_span = $('<span/>');\n",
       "\n",
       "    var fmt_picker = $('<select/>');\n",
       "    fmt_picker.addClass('mpl-toolbar-option ui-widget ui-widget-content');\n",
       "    fmt_picker_span.append(fmt_picker);\n",
       "    nav_element.append(fmt_picker_span);\n",
       "    this.format_dropdown = fmt_picker[0];\n",
       "\n",
       "    for (var ind in mpl.extensions) {\n",
       "        var fmt = mpl.extensions[ind];\n",
       "        var option = $(\n",
       "            '<option/>', {selected: fmt === mpl.default_extension}).html(fmt);\n",
       "        fmt_picker.append(option)\n",
       "    }\n",
       "\n",
       "    // Add hover states to the ui-buttons\n",
       "    $( \".ui-button\" ).hover(\n",
       "        function() { $(this).addClass(\"ui-state-hover\");},\n",
       "        function() { $(this).removeClass(\"ui-state-hover\");}\n",
       "    );\n",
       "\n",
       "    var status_bar = $('<span class=\"mpl-message\"/>');\n",
       "    nav_element.append(status_bar);\n",
       "    this.message = status_bar[0];\n",
       "}\n",
       "\n",
       "mpl.figure.prototype.request_resize = function(x_pixels, y_pixels) {\n",
       "    // Request matplotlib to resize the figure. Matplotlib will then trigger a resize in the client,\n",
       "    // which will in turn request a refresh of the image.\n",
       "    this.send_message('resize', {'width': x_pixels, 'height': y_pixels});\n",
       "}\n",
       "\n",
       "mpl.figure.prototype.send_message = function(type, properties) {\n",
       "    properties['type'] = type;\n",
       "    properties['figure_id'] = this.id;\n",
       "    this.ws.send(JSON.stringify(properties));\n",
       "}\n",
       "\n",
       "mpl.figure.prototype.send_draw_message = function() {\n",
       "    if (!this.waiting) {\n",
       "        this.waiting = true;\n",
       "        this.ws.send(JSON.stringify({type: \"draw\", figure_id: this.id}));\n",
       "    }\n",
       "}\n",
       "\n",
       "\n",
       "mpl.figure.prototype.handle_save = function(fig, msg) {\n",
       "    var format_dropdown = fig.format_dropdown;\n",
       "    var format = format_dropdown.options[format_dropdown.selectedIndex].value;\n",
       "    fig.ondownload(fig, format);\n",
       "}\n",
       "\n",
       "\n",
       "mpl.figure.prototype.handle_resize = function(fig, msg) {\n",
       "    var size = msg['size'];\n",
       "    if (size[0] != fig.canvas.width || size[1] != fig.canvas.height) {\n",
       "        fig._resize_canvas(size[0], size[1]);\n",
       "        fig.send_message(\"refresh\", {});\n",
       "    };\n",
       "}\n",
       "\n",
       "mpl.figure.prototype.handle_rubberband = function(fig, msg) {\n",
       "    var x0 = msg['x0'] / mpl.ratio;\n",
       "    var y0 = (fig.canvas.height - msg['y0']) / mpl.ratio;\n",
       "    var x1 = msg['x1'] / mpl.ratio;\n",
       "    var y1 = (fig.canvas.height - msg['y1']) / mpl.ratio;\n",
       "    x0 = Math.floor(x0) + 0.5;\n",
       "    y0 = Math.floor(y0) + 0.5;\n",
       "    x1 = Math.floor(x1) + 0.5;\n",
       "    y1 = Math.floor(y1) + 0.5;\n",
       "    var min_x = Math.min(x0, x1);\n",
       "    var min_y = Math.min(y0, y1);\n",
       "    var width = Math.abs(x1 - x0);\n",
       "    var height = Math.abs(y1 - y0);\n",
       "\n",
       "    fig.rubberband_context.clearRect(\n",
       "        0, 0, fig.canvas.width, fig.canvas.height);\n",
       "\n",
       "    fig.rubberband_context.strokeRect(min_x, min_y, width, height);\n",
       "}\n",
       "\n",
       "mpl.figure.prototype.handle_figure_label = function(fig, msg) {\n",
       "    // Updates the figure title.\n",
       "    fig.header.textContent = msg['label'];\n",
       "}\n",
       "\n",
       "mpl.figure.prototype.handle_cursor = function(fig, msg) {\n",
       "    var cursor = msg['cursor'];\n",
       "    switch(cursor)\n",
       "    {\n",
       "    case 0:\n",
       "        cursor = 'pointer';\n",
       "        break;\n",
       "    case 1:\n",
       "        cursor = 'default';\n",
       "        break;\n",
       "    case 2:\n",
       "        cursor = 'crosshair';\n",
       "        break;\n",
       "    case 3:\n",
       "        cursor = 'move';\n",
       "        break;\n",
       "    }\n",
       "    fig.rubberband_canvas.style.cursor = cursor;\n",
       "}\n",
       "\n",
       "mpl.figure.prototype.handle_message = function(fig, msg) {\n",
       "    fig.message.textContent = msg['message'];\n",
       "}\n",
       "\n",
       "mpl.figure.prototype.handle_draw = function(fig, msg) {\n",
       "    // Request the server to send over a new figure.\n",
       "    fig.send_draw_message();\n",
       "}\n",
       "\n",
       "mpl.figure.prototype.handle_image_mode = function(fig, msg) {\n",
       "    fig.image_mode = msg['mode'];\n",
       "}\n",
       "\n",
       "mpl.figure.prototype.updated_canvas_event = function() {\n",
       "    // Called whenever the canvas gets updated.\n",
       "    this.send_message(\"ack\", {});\n",
       "}\n",
       "\n",
       "// A function to construct a web socket function for onmessage handling.\n",
       "// Called in the figure constructor.\n",
       "mpl.figure.prototype._make_on_message_function = function(fig) {\n",
       "    return function socket_on_message(evt) {\n",
       "        if (evt.data instanceof Blob) {\n",
       "            /* FIXME: We get \"Resource interpreted as Image but\n",
       "             * transferred with MIME type text/plain:\" errors on\n",
       "             * Chrome.  But how to set the MIME type?  It doesn't seem\n",
       "             * to be part of the websocket stream */\n",
       "            evt.data.type = \"image/png\";\n",
       "\n",
       "            /* Free the memory for the previous frames */\n",
       "            if (fig.imageObj.src) {\n",
       "                (window.URL || window.webkitURL).revokeObjectURL(\n",
       "                    fig.imageObj.src);\n",
       "            }\n",
       "\n",
       "            fig.imageObj.src = (window.URL || window.webkitURL).createObjectURL(\n",
       "                evt.data);\n",
       "            fig.updated_canvas_event();\n",
       "            fig.waiting = false;\n",
       "            return;\n",
       "        }\n",
       "        else if (typeof evt.data === 'string' && evt.data.slice(0, 21) == \"data:image/png;base64\") {\n",
       "            fig.imageObj.src = evt.data;\n",
       "            fig.updated_canvas_event();\n",
       "            fig.waiting = false;\n",
       "            return;\n",
       "        }\n",
       "\n",
       "        var msg = JSON.parse(evt.data);\n",
       "        var msg_type = msg['type'];\n",
       "\n",
       "        // Call the  \"handle_{type}\" callback, which takes\n",
       "        // the figure and JSON message as its only arguments.\n",
       "        try {\n",
       "            var callback = fig[\"handle_\" + msg_type];\n",
       "        } catch (e) {\n",
       "            console.log(\"No handler for the '\" + msg_type + \"' message type: \", msg);\n",
       "            return;\n",
       "        }\n",
       "\n",
       "        if (callback) {\n",
       "            try {\n",
       "                // console.log(\"Handling '\" + msg_type + \"' message: \", msg);\n",
       "                callback(fig, msg);\n",
       "            } catch (e) {\n",
       "                console.log(\"Exception inside the 'handler_\" + msg_type + \"' callback:\", e, e.stack, msg);\n",
       "            }\n",
       "        }\n",
       "    };\n",
       "}\n",
       "\n",
       "// from http://stackoverflow.com/questions/1114465/getting-mouse-location-in-canvas\n",
       "mpl.findpos = function(e) {\n",
       "    //this section is from http://www.quirksmode.org/js/events_properties.html\n",
       "    var targ;\n",
       "    if (!e)\n",
       "        e = window.event;\n",
       "    if (e.target)\n",
       "        targ = e.target;\n",
       "    else if (e.srcElement)\n",
       "        targ = e.srcElement;\n",
       "    if (targ.nodeType == 3) // defeat Safari bug\n",
       "        targ = targ.parentNode;\n",
       "\n",
       "    // jQuery normalizes the pageX and pageY\n",
       "    // pageX,Y are the mouse positions relative to the document\n",
       "    // offset() returns the position of the element relative to the document\n",
       "    var x = e.pageX - $(targ).offset().left;\n",
       "    var y = e.pageY - $(targ).offset().top;\n",
       "\n",
       "    return {\"x\": x, \"y\": y};\n",
       "};\n",
       "\n",
       "/*\n",
       " * return a copy of an object with only non-object keys\n",
       " * we need this to avoid circular references\n",
       " * http://stackoverflow.com/a/24161582/3208463\n",
       " */\n",
       "function simpleKeys (original) {\n",
       "  return Object.keys(original).reduce(function (obj, key) {\n",
       "    if (typeof original[key] !== 'object')\n",
       "        obj[key] = original[key]\n",
       "    return obj;\n",
       "  }, {});\n",
       "}\n",
       "\n",
       "mpl.figure.prototype.mouse_event = function(event, name) {\n",
       "    var canvas_pos = mpl.findpos(event)\n",
       "\n",
       "    if (name === 'button_press')\n",
       "    {\n",
       "        this.canvas.focus();\n",
       "        this.canvas_div.focus();\n",
       "    }\n",
       "\n",
       "    var x = canvas_pos.x * mpl.ratio;\n",
       "    var y = canvas_pos.y * mpl.ratio;\n",
       "\n",
       "    this.send_message(name, {x: x, y: y, button: event.button,\n",
       "                             step: event.step,\n",
       "                             guiEvent: simpleKeys(event)});\n",
       "\n",
       "    /* This prevents the web browser from automatically changing to\n",
       "     * the text insertion cursor when the button is pressed.  We want\n",
       "     * to control all of the cursor setting manually through the\n",
       "     * 'cursor' event from matplotlib */\n",
       "    event.preventDefault();\n",
       "    return false;\n",
       "}\n",
       "\n",
       "mpl.figure.prototype._key_event_extra = function(event, name) {\n",
       "    // Handle any extra behaviour associated with a key event\n",
       "}\n",
       "\n",
       "mpl.figure.prototype.key_event = function(event, name) {\n",
       "\n",
       "    // Prevent repeat events\n",
       "    if (name == 'key_press')\n",
       "    {\n",
       "        if (event.which === this._key)\n",
       "            return;\n",
       "        else\n",
       "            this._key = event.which;\n",
       "    }\n",
       "    if (name == 'key_release')\n",
       "        this._key = null;\n",
       "\n",
       "    var value = '';\n",
       "    if (event.ctrlKey && event.which != 17)\n",
       "        value += \"ctrl+\";\n",
       "    if (event.altKey && event.which != 18)\n",
       "        value += \"alt+\";\n",
       "    if (event.shiftKey && event.which != 16)\n",
       "        value += \"shift+\";\n",
       "\n",
       "    value += 'k';\n",
       "    value += event.which.toString();\n",
       "\n",
       "    this._key_event_extra(event, name);\n",
       "\n",
       "    this.send_message(name, {key: value,\n",
       "                             guiEvent: simpleKeys(event)});\n",
       "    return false;\n",
       "}\n",
       "\n",
       "mpl.figure.prototype.toolbar_button_onclick = function(name) {\n",
       "    if (name == 'download') {\n",
       "        this.handle_save(this, null);\n",
       "    } else {\n",
       "        this.send_message(\"toolbar_button\", {name: name});\n",
       "    }\n",
       "};\n",
       "\n",
       "mpl.figure.prototype.toolbar_button_onmouseover = function(tooltip) {\n",
       "    this.message.textContent = tooltip;\n",
       "};\n",
       "mpl.toolbar_items = [[\"Home\", \"Reset original view\", \"fa fa-home icon-home\", \"home\"], [\"Back\", \"Back to previous view\", \"fa fa-arrow-left icon-arrow-left\", \"back\"], [\"Forward\", \"Forward to next view\", \"fa fa-arrow-right icon-arrow-right\", \"forward\"], [\"\", \"\", \"\", \"\"], [\"Pan\", \"Pan axes with left mouse, zoom with right\", \"fa fa-arrows icon-move\", \"pan\"], [\"Zoom\", \"Zoom to rectangle\", \"fa fa-square-o icon-check-empty\", \"zoom\"], [\"\", \"\", \"\", \"\"], [\"Download\", \"Download plot\", \"fa fa-floppy-o icon-save\", \"download\"]];\n",
       "\n",
       "mpl.extensions = [\"eps\", \"jpeg\", \"pdf\", \"png\", \"ps\", \"raw\", \"svg\", \"tif\"];\n",
       "\n",
       "mpl.default_extension = \"png\";var comm_websocket_adapter = function(comm) {\n",
       "    // Create a \"websocket\"-like object which calls the given IPython comm\n",
       "    // object with the appropriate methods. Currently this is a non binary\n",
       "    // socket, so there is still some room for performance tuning.\n",
       "    var ws = {};\n",
       "\n",
       "    ws.close = function() {\n",
       "        comm.close()\n",
       "    };\n",
       "    ws.send = function(m) {\n",
       "        //console.log('sending', m);\n",
       "        comm.send(m);\n",
       "    };\n",
       "    // Register the callback with on_msg.\n",
       "    comm.on_msg(function(msg) {\n",
       "        //console.log('receiving', msg['content']['data'], msg);\n",
       "        // Pass the mpl event to the overridden (by mpl) onmessage function.\n",
       "        ws.onmessage(msg['content']['data'])\n",
       "    });\n",
       "    return ws;\n",
       "}\n",
       "\n",
       "mpl.mpl_figure_comm = function(comm, msg) {\n",
       "    // This is the function which gets called when the mpl process\n",
       "    // starts-up an IPython Comm through the \"matplotlib\" channel.\n",
       "\n",
       "    var id = msg.content.data.id;\n",
       "    // Get hold of the div created by the display call when the Comm\n",
       "    // socket was opened in Python.\n",
       "    var element = $(\"#\" + id);\n",
       "    var ws_proxy = comm_websocket_adapter(comm)\n",
       "\n",
       "    function ondownload(figure, format) {\n",
       "        window.open(figure.imageObj.src);\n",
       "    }\n",
       "\n",
       "    var fig = new mpl.figure(id, ws_proxy,\n",
       "                           ondownload,\n",
       "                           element.get(0));\n",
       "\n",
       "    // Call onopen now - mpl needs it, as it is assuming we've passed it a real\n",
       "    // web socket which is closed, not our websocket->open comm proxy.\n",
       "    ws_proxy.onopen();\n",
       "\n",
       "    fig.parent_element = element.get(0);\n",
       "    fig.cell_info = mpl.find_output_cell(\"<div id='\" + id + \"'></div>\");\n",
       "    if (!fig.cell_info) {\n",
       "        console.error(\"Failed to find cell for figure\", id, fig);\n",
       "        return;\n",
       "    }\n",
       "\n",
       "    var output_index = fig.cell_info[2]\n",
       "    var cell = fig.cell_info[0];\n",
       "\n",
       "};\n",
       "\n",
       "mpl.figure.prototype.handle_close = function(fig, msg) {\n",
       "    var width = fig.canvas.width/mpl.ratio\n",
       "    fig.root.unbind('remove')\n",
       "\n",
       "    // Update the output cell to use the data from the current canvas.\n",
       "    fig.push_to_output();\n",
       "    var dataURL = fig.canvas.toDataURL();\n",
       "    // Re-enable the keyboard manager in IPython - without this line, in FF,\n",
       "    // the notebook keyboard shortcuts fail.\n",
       "    IPython.keyboard_manager.enable()\n",
       "    $(fig.parent_element).html('<img src=\"' + dataURL + '\" width=\"' + width + '\">');\n",
       "    fig.close_ws(fig, msg);\n",
       "}\n",
       "\n",
       "mpl.figure.prototype.close_ws = function(fig, msg){\n",
       "    fig.send_message('closing', msg);\n",
       "    // fig.ws.close()\n",
       "}\n",
       "\n",
       "mpl.figure.prototype.push_to_output = function(remove_interactive) {\n",
       "    // Turn the data on the canvas into data in the output cell.\n",
       "    var width = this.canvas.width/mpl.ratio\n",
       "    var dataURL = this.canvas.toDataURL();\n",
       "    this.cell_info[1]['text/html'] = '<img src=\"' + dataURL + '\" width=\"' + width + '\">';\n",
       "}\n",
       "\n",
       "mpl.figure.prototype.updated_canvas_event = function() {\n",
       "    // Tell IPython that the notebook contents must change.\n",
       "    IPython.notebook.set_dirty(true);\n",
       "    this.send_message(\"ack\", {});\n",
       "    var fig = this;\n",
       "    // Wait a second, then push the new image to the DOM so\n",
       "    // that it is saved nicely (might be nice to debounce this).\n",
       "    setTimeout(function () { fig.push_to_output() }, 1000);\n",
       "}\n",
       "\n",
       "mpl.figure.prototype._init_toolbar = function() {\n",
       "    var fig = this;\n",
       "\n",
       "    var nav_element = $('<div/>')\n",
       "    nav_element.attr('style', 'width: 100%');\n",
       "    this.root.append(nav_element);\n",
       "\n",
       "    // Define a callback function for later on.\n",
       "    function toolbar_event(event) {\n",
       "        return fig.toolbar_button_onclick(event['data']);\n",
       "    }\n",
       "    function toolbar_mouse_event(event) {\n",
       "        return fig.toolbar_button_onmouseover(event['data']);\n",
       "    }\n",
       "\n",
       "    for(var toolbar_ind in mpl.toolbar_items){\n",
       "        var name = mpl.toolbar_items[toolbar_ind][0];\n",
       "        var tooltip = mpl.toolbar_items[toolbar_ind][1];\n",
       "        var image = mpl.toolbar_items[toolbar_ind][2];\n",
       "        var method_name = mpl.toolbar_items[toolbar_ind][3];\n",
       "\n",
       "        if (!name) { continue; };\n",
       "\n",
       "        var button = $('<button class=\"btn btn-default\" href=\"#\" title=\"' + name + '\"><i class=\"fa ' + image + ' fa-lg\"></i></button>');\n",
       "        button.click(method_name, toolbar_event);\n",
       "        button.mouseover(tooltip, toolbar_mouse_event);\n",
       "        nav_element.append(button);\n",
       "    }\n",
       "\n",
       "    // Add the status bar.\n",
       "    var status_bar = $('<span class=\"mpl-message\" style=\"text-align:right; float: right;\"/>');\n",
       "    nav_element.append(status_bar);\n",
       "    this.message = status_bar[0];\n",
       "\n",
       "    // Add the close button to the window.\n",
       "    var buttongrp = $('<div class=\"btn-group inline pull-right\"></div>');\n",
       "    var button = $('<button class=\"btn btn-mini btn-primary\" href=\"#\" title=\"Stop Interaction\"><i class=\"fa fa-power-off icon-remove icon-large\"></i></button>');\n",
       "    button.click(function (evt) { fig.handle_close(fig, {}); } );\n",
       "    button.mouseover('Stop Interaction', toolbar_mouse_event);\n",
       "    buttongrp.append(button);\n",
       "    var titlebar = this.root.find($('.ui-dialog-titlebar'));\n",
       "    titlebar.prepend(buttongrp);\n",
       "}\n",
       "\n",
       "mpl.figure.prototype._root_extra_style = function(el){\n",
       "    var fig = this\n",
       "    el.on(\"remove\", function(){\n",
       "\tfig.close_ws(fig, {});\n",
       "    });\n",
       "}\n",
       "\n",
       "mpl.figure.prototype._canvas_extra_style = function(el){\n",
       "    // this is important to make the div 'focusable\n",
       "    el.attr('tabindex', 0)\n",
       "    // reach out to IPython and tell the keyboard manager to turn it's self\n",
       "    // off when our div gets focus\n",
       "\n",
       "    // location in version 3\n",
       "    if (IPython.notebook.keyboard_manager) {\n",
       "        IPython.notebook.keyboard_manager.register_events(el);\n",
       "    }\n",
       "    else {\n",
       "        // location in version 2\n",
       "        IPython.keyboard_manager.register_events(el);\n",
       "    }\n",
       "\n",
       "}\n",
       "\n",
       "mpl.figure.prototype._key_event_extra = function(event, name) {\n",
       "    var manager = IPython.notebook.keyboard_manager;\n",
       "    if (!manager)\n",
       "        manager = IPython.keyboard_manager;\n",
       "\n",
       "    // Check for shift+enter\n",
       "    if (event.shiftKey && event.which == 13) {\n",
       "        this.canvas_div.blur();\n",
       "        event.shiftKey = false;\n",
       "        // Send a \"J\" for go to next cell\n",
       "        event.which = 74;\n",
       "        event.keyCode = 74;\n",
       "        manager.command_mode();\n",
       "        manager.handle_keydown(event);\n",
       "    }\n",
       "}\n",
       "\n",
       "mpl.figure.prototype.handle_save = function(fig, msg) {\n",
       "    fig.ondownload(fig, null);\n",
       "}\n",
       "\n",
       "\n",
       "mpl.find_output_cell = function(html_output) {\n",
       "    // Return the cell and output element which can be found *uniquely* in the notebook.\n",
       "    // Note - this is a bit hacky, but it is done because the \"notebook_saving.Notebook\"\n",
       "    // IPython event is triggered only after the cells have been serialised, which for\n",
       "    // our purposes (turning an active figure into a static one), is too late.\n",
       "    var cells = IPython.notebook.get_cells();\n",
       "    var ncells = cells.length;\n",
       "    for (var i=0; i<ncells; i++) {\n",
       "        var cell = cells[i];\n",
       "        if (cell.cell_type === 'code'){\n",
       "            for (var j=0; j<cell.output_area.outputs.length; j++) {\n",
       "                var data = cell.output_area.outputs[j];\n",
       "                if (data.data) {\n",
       "                    // IPython >= 3 moved mimebundle to data attribute of output\n",
       "                    data = data.data;\n",
       "                }\n",
       "                if (data['text/html'] == html_output) {\n",
       "                    return [cell, data, j];\n",
       "                }\n",
       "            }\n",
       "        }\n",
       "    }\n",
       "}\n",
       "\n",
       "// Register the function which deals with the matplotlib target/channel.\n",
       "// The kernel may be null if the page has been refreshed.\n",
       "if (IPython.notebook.kernel != null) {\n",
       "    IPython.notebook.kernel.comm_manager.register_target('matplotlib', mpl.mpl_figure_comm);\n",
       "}\n"
      ],
      "text/plain": [
       "<IPython.core.display.Javascript object>"
      ]
     },
     "metadata": {},
     "output_type": "display_data"
    },
    {
     "data": {
      "text/html": [
       "<img src=\"data:image/png;base64,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\" width=\"432\">"
      ],
      "text/plain": [
       "<IPython.core.display.HTML object>"
      ]
     },
     "metadata": {},
     "output_type": "display_data"
    },
    {
     "data": {
      "text/plain": [
       "<matplotlib.axes._subplots.AxesSubplot at 0x7f7c7c10f320>"
      ]
     },
     "execution_count": 175,
     "metadata": {},
     "output_type": "execute_result"
    }
   ],
   "source": [
    "%matplotlib notebook\n",
    "dfPredict[\"real\"].plot(lw=10)\n",
    "dfPredict[\"nnLabel\"].plot()"
   ]
  },
  {
   "cell_type": "code",
   "execution_count": null,
   "metadata": {},
   "outputs": [],
   "source": []
  },
  {
   "cell_type": "code",
   "execution_count": null,
   "metadata": {},
   "outputs": [],
   "source": []
  },
  {
   "cell_type": "code",
   "execution_count": null,
   "metadata": {},
   "outputs": [],
   "source": []
  },
  {
   "cell_type": "code",
   "execution_count": null,
   "metadata": {},
   "outputs": [],
   "source": []
  },
  {
   "cell_type": "code",
   "execution_count": 32,
   "metadata": {},
   "outputs": [
    {
     "ename": "ModuleNotFoundError",
     "evalue": "No module named 'PIL.image'",
     "output_type": "error",
     "traceback": [
      "\u001b[0;31m---------------------------------------------------------------------------\u001b[0m",
      "\u001b[0;31mModuleNotFoundError\u001b[0m                       Traceback (most recent call last)",
      "\u001b[0;32m<ipython-input-32-5ee73140d483>\u001b[0m in \u001b[0;36m<module>\u001b[0;34m\u001b[0m\n\u001b[0;32m----> 1\u001b[0;31m \u001b[0;32mfrom\u001b[0m \u001b[0mPIL\u001b[0m\u001b[0;34m.\u001b[0m\u001b[0mimage\u001b[0m \u001b[0;32mimport\u001b[0m \u001b[0mopen\u001b[0m\u001b[0;34m\u001b[0m\u001b[0;34m\u001b[0m\u001b[0m\n\u001b[0m",
      "\u001b[0;31mModuleNotFoundError\u001b[0m: No module named 'PIL.image'"
     ]
    }
   ],
   "source": []
  },
  {
   "cell_type": "code",
   "execution_count": 8,
   "metadata": {},
   "outputs": [
    {
     "data": {
      "image/png": "[encoded data removed]",
      "text/plain": [
       "<Figure size 1080x792 with 9 Axes>"
      ]
     },
     "metadata": {
      "needs_background": "light"
     },
     "output_type": "display_data"
    }
   ],
   "source": [
    "interp.plot_top_losses(9, figsize=(15,11))"
   ]
  },
  {
   "cell_type": "code",
   "execution_count": null,
   "metadata": {},
   "outputs": [],
   "source": [
    "doc(interp.plot_top_losses)"
   ]
  },
  {
   "cell_type": "code",
   "execution_count": 9,
   "metadata": {},
   "outputs": [
    {
     "data": {
      "image/png": "[encoded data removed]",
      "text/plain": [
       "<Figure size 480x480 with 1 Axes>"
      ]
     },
     "metadata": {
      "needs_background": "light"
     },
     "output_type": "display_data"
    }
   ],
   "source": [
    "interp.plot_confusion_matrix(figsize=(8,8), dpi=60)"
   ]
  },
  {
   "cell_type": "code",
   "execution_count": 30,
   "metadata": {},
   "outputs": [
    {
     "data": {
      "text/plain": [
       "[('1', '0', 1057), ('0', '1', 615)]"
      ]
     },
     "execution_count": 30,
     "metadata": {},
     "output_type": "execute_result"
    }
   ],
   "source": [
    "interp.most_confused(min_val=2)"
   ]
  },
  {
   "cell_type": "markdown",
   "metadata": {},
   "source": [
    "## Unfreezing, fine-tuning, and learning rates"
   ]
  },
  {
   "cell_type": "markdown",
   "metadata": {},
   "source": [
    "Since our model is working as we expect it to, we will *unfreeze* our model and train some more."
   ]
  },
  {
   "cell_type": "code",
   "execution_count": 19,
   "metadata": {},
   "outputs": [],
   "source": [
    "learn.unfreeze()"
   ]
  },
  {
   "cell_type": "code",
   "execution_count": 20,
   "metadata": {},
   "outputs": [
    {
     "data": {
      "text/html": [],
      "text/plain": [
       "<IPython.core.display.HTML object>"
      ]
     },
     "metadata": {},
     "output_type": "display_data"
    },
    {
     "name": "stdout",
     "output_type": "stream",
     "text": [
      "LR Finder is complete, type {learner_name}.recorder.plot() to see the graph.\n"
     ]
    }
   ],
   "source": [
    "learn.lr_find()"
   ]
  },
  {
   "cell_type": "raw",
   "metadata": {},
   "source": []
  },
  {
   "cell_type": "code",
   "execution_count": 21,
   "metadata": {},
   "outputs": [
    {
     "name": "stdout",
     "output_type": "stream",
     "text": [
      "Min numerical gradient: 9.12E-07\n"
     ]
    },
    {
     "data": {
      "image/png": "[encoded data removed]",
      "text/plain": [
       "<Figure size 432x288 with 1 Axes>"
      ]
     },
     "metadata": {
      "needs_background": "light"
     },
     "output_type": "display_data"
    }
   ],
   "source": [
    "learn.recorder.plot()"
   ]
  },
  {
   "cell_type": "code",
   "execution_count": 23,
   "metadata": {},
   "outputs": [
    {
     "data": {
      "text/html": [
       "Total time: 05:05 <p><table style='width:300px; margin-bottom:10px'>\n",
       "  <tr>\n",
       "    <th>epoch</th>\n",
       "    <th>train_loss</th>\n",
       "    <th>valid_loss</th>\n",
       "    <th>error_rate</th>\n",
       "  </tr>\n",
       "  <tr>\n",
       "    <th>1</th>\n",
       "    <th>0.210339</th>\n",
       "    <th>0.185146</th>\n",
       "    <th>0.068126</th>\n",
       "  </tr>\n",
       "  <tr>\n",
       "    <th>2</th>\n",
       "    <th>0.199556</th>\n",
       "    <th>0.186155</th>\n",
       "    <th>0.068790</th>\n",
       "  </tr>\n",
       "  <tr>\n",
       "    <th>3</th>\n",
       "    <th>0.183420</th>\n",
       "    <th>0.188252</th>\n",
       "    <th>0.068416</th>\n",
       "  </tr>\n",
       "</table>\n"
      ],
      "text/plain": [
       "<IPython.core.display.HTML object>"
      ]
     },
     "metadata": {},
     "output_type": "display_data"
    }
   ],
   "source": [
    "learn.fit_one_cycle(3,max_lr=slice(1e-6,1e-4))"
   ]
  },
  {
   "cell_type": "code",
   "execution_count": 6,
   "metadata": {},
   "outputs": [],
   "source": [
    "learn.load('stage-1');"
   ]
  },
  {
   "cell_type": "code",
   "execution_count": 25,
   "metadata": {},
   "outputs": [
    {
     "data": {
      "text/html": [],
      "text/plain": [
       "<IPython.core.display.HTML object>"
      ]
     },
     "metadata": {},
     "output_type": "display_data"
    },
    {
     "name": "stdout",
     "output_type": "stream",
     "text": [
      "LR Finder is complete, type {learner_name}.recorder.plot() to see the graph.\n"
     ]
    }
   ],
   "source": [
    "learn.lr_find()"
   ]
  },
  {
   "cell_type": "code",
   "execution_count": 26,
   "metadata": {},
   "outputs": [
    {
     "name": "stdout",
     "output_type": "stream",
     "text": [
      "Min numerical gradient: 2.29E-06\n"
     ]
    },
    {
     "data": {
      "image/png": "[encoded data removed]",
      "text/plain": [
       "<Figure size 432x288 with 1 Axes>"
      ]
     },
     "metadata": {
      "needs_background": "light"
     },
     "output_type": "display_data"
    }
   ],
   "source": [
    "learn.recorder.plot()"
   ]
  },
  {
   "cell_type": "code",
   "execution_count": null,
   "metadata": {},
   "outputs": [
    {
     "data": {
      "text/html": [
       "Total time: 00:53 <p><table style='width:300px; margin-bottom:10px'>\n",
       "  <tr>\n",
       "    <th>epoch</th>\n",
       "    <th>train_loss</th>\n",
       "    <th>valid_loss</th>\n",
       "    <th>error_rate</th>\n",
       "  </tr>\n",
       "  <tr>\n",
       "    <th>1</th>\n",
       "    <th>0.242544</th>\n",
       "    <th>0.208489</th>\n",
       "    <th>0.067659</th>\n",
       "  </tr>\n",
       "  <tr>\n",
       "    <th>2</th>\n",
       "    <th>0.206940</th>\n",
       "    <th>0.204482</th>\n",
       "    <th>0.062246</th>\n",
       "  </tr>\n",
       "</table>\n"
      ],
      "text/plain": [
       "<IPython.core.display.HTML object>"
      ]
     },
     "metadata": {},
     "output_type": "display_data"
    }
   ],
   "source": [
    "learn.unfreeze()\n",
    "learn.fit_one_cycle(2, max_lr=slice(1e-6,1e-4))"
   ]
  },
  {
   "cell_type": "markdown",
   "metadata": {},
   "source": [
    "That's a pretty accurate model!"
   ]
  },
  {
   "cell_type": "markdown",
   "metadata": {},
   "source": [
    "## Training: resnet50"
   ]
  },
  {
   "cell_type": "markdown",
   "metadata": {},
   "source": [
    "Now we will train in the same way as before but with one caveat: instead of using resnet34 as our backbone we will use resnet50 (resnet34 is a 34 layer residual network while resnet50 has 50 layers. It will be explained later in the course and you can learn the details in the [resnet paper](https://arxiv.org/pdf/1512.03385.pdf)).\n",
    "\n",
    "Basically, resnet50 usually performs better because it is a deeper network with more parameters. Let's see if we can achieve a higher performance here. To help it along, let's us use larger images too, since that way the network can see more detail. We reduce the batch size a bit since otherwise this larger network will require more GPU memory."
   ]
  },
  {
   "cell_type": "code",
   "execution_count": null,
   "metadata": {},
   "outputs": [],
   "source": [
    "data = ImageDataBunch.from_name_re(path_img, fnames, pat, ds_tfms=get_transforms(),\n",
    "                                   size=299, bs=bs//2).normalize(imagenet_stats)"
   ]
  },
  {
   "cell_type": "code",
   "execution_count": null,
   "metadata": {},
   "outputs": [],
   "source": [
    "learn = create_cnn(data, models.resnet50, metrics=error_rate)"
   ]
  },
  {
   "cell_type": "code",
   "execution_count": null,
   "metadata": {},
   "outputs": [
    {
     "name": "stdout",
     "output_type": "stream",
     "text": [
      "LR Finder complete, type {learner_name}.recorder.plot() to see the graph.\n"
     ]
    },
    {
     "data": {
      "image/png": "[encoded data removed]",
      "text/plain": [
       "<Figure size 432x288 with 1 Axes>"
      ]
     },
     "metadata": {
      "needs_background": "light"
     },
     "output_type": "display_data"
    }
   ],
   "source": [
    "learn.lr_find()\n",
    "learn.recorder.plot()"
   ]
  },
  {
   "cell_type": "code",
   "execution_count": null,
   "metadata": {},
   "outputs": [
    {
     "name": "stdout",
     "output_type": "stream",
     "text": [
      "Total time: 06:59\n",
      "epoch  train_loss  valid_loss  error_rate\n",
      "1      0.548006    0.268912    0.076455    (00:57)\n",
      "2      0.365533    0.193667    0.064953    (00:51)\n",
      "3      0.336032    0.211020    0.073072    (00:51)\n",
      "4      0.263173    0.212025    0.060893    (00:51)\n",
      "5      0.217016    0.183195    0.063599    (00:51)\n",
      "6      0.161002    0.167274    0.048038    (00:51)\n",
      "7      0.086668    0.143490    0.044655    (00:51)\n",
      "8      0.082288    0.154927    0.046008    (00:51)\n",
      "\n"
     ]
    }
   ],
   "source": [
    "learn.fit_one_cycle(8)"
   ]
  },
  {
   "cell_type": "code",
   "execution_count": null,
   "metadata": {},
   "outputs": [],
   "source": [
    "learn.save('stage-1-50')"
   ]
  },
  {
   "cell_type": "markdown",
   "metadata": {},
   "source": [
    "It's astonishing that it's possible to recognize pet breeds so accurately! Let's see if full fine-tuning helps:"
   ]
  },
  {
   "cell_type": "code",
   "execution_count": null,
   "metadata": {},
   "outputs": [
    {
     "name": "stdout",
     "output_type": "stream",
     "text": [
      "Total time: 03:27\n",
      "epoch  train_loss  valid_loss  error_rate\n",
      "1      0.097319    0.155017    0.048038    (01:10)\n",
      "2      0.074885    0.144853    0.044655    (01:08)\n",
      "3      0.063509    0.144917    0.043978    (01:08)\n",
      "\n"
     ]
    }
   ],
   "source": [
    "learn.unfreeze()\n",
    "learn.fit_one_cycle(3, max_lr=slice(1e-6,1e-4))"
   ]
  },
  {
   "cell_type": "markdown",
   "metadata": {},
   "source": [
    "If it doesn't, you can always go back to your previous model."
   ]
  },
  {
   "cell_type": "code",
   "execution_count": null,
   "metadata": {},
   "outputs": [],
   "source": [
    "learn.load('stage-1-50');"
   ]
  },
  {
   "cell_type": "code",
   "execution_count": null,
   "metadata": {},
   "outputs": [],
   "source": [
    "interp = ClassificationInterpretation.from_learner(learn)"
   ]
  },
  {
   "cell_type": "code",
   "execution_count": null,
   "metadata": {},
   "outputs": [
    {
     "data": {
      "text/plain": [
       "[('american_pit_bull_terrier', 'staffordshire_bull_terrier', 6),\n",
       " ('Bengal', 'Egyptian_Mau', 5),\n",
       " ('Bengal', 'Abyssinian', 4),\n",
       " ('boxer', 'american_bulldog', 4),\n",
       " ('Ragdoll', 'Birman', 4),\n",
       " ('Egyptian_Mau', 'Bengal', 3)]"
      ]
     },
     "execution_count": null,
     "metadata": {},
     "output_type": "execute_result"
    }
   ],
   "source": [
    "interp.most_confused(min_val=2)"
   ]
  },
  {
   "cell_type": "markdown",
   "metadata": {},
   "source": [
    "## Other data formats"
   ]
  },
  {
   "cell_type": "code",
   "execution_count": null,
   "metadata": {},
   "outputs": [
    {
     "data": {
      "text/plain": [
       "PosixPath('/home/ubuntu/course-v3/nbs/dl1/data/mnist_sample')"
      ]
     },
     "execution_count": null,
     "metadata": {},
     "output_type": "execute_result"
    }
   ],
   "source": [
    "path = untar_data(URLs.MNIST_SAMPLE); path"
   ]
  },
  {
   "cell_type": "code",
   "execution_count": null,
   "metadata": {},
   "outputs": [],
   "source": [
    "tfms = get_transforms(do_flip=False)\n",
    "data = ImageDataBunch.from_folder(path, ds_tfms=tfms, size=26)"
   ]
  },
  {
   "cell_type": "code",
   "execution_count": null,
   "metadata": {},
   "outputs": [
    {
     "data": {
      "image/png": "[encoded data removed]",
      "text/plain": [
       "<Figure size 360x360 with 9 Axes>"
      ]
     },
     "metadata": {},
     "output_type": "display_data"
    }
   ],
   "source": [
    "data.show_batch(rows=3, figsize=(5,5))"
   ]
  },
  {
   "cell_type": "code",
   "execution_count": null,
   "metadata": {},
   "outputs": [
    {
     "name": "stdout",
     "output_type": "stream",
     "text": [
      "Total time: 00:23\n",
      "epoch  train_loss  valid_loss  accuracy\n",
      "1      0.116117    0.029745    0.991168  (00:12)\n",
      "2      0.056860    0.015974    0.994603  (00:10)\n",
      "\n"
     ]
    }
   ],
   "source": [
    "learn = create_cnn(data, models.resnet18, metrics=accuracy)\n",
    "learn.fit(2)"
   ]
  },
  {
   "cell_type": "code",
   "execution_count": null,
   "metadata": {},
   "outputs": [
    {
     "data": {
      "text/html": [
       "<div>\n",
       "<style scoped>\n",
       "    .dataframe tbody tr th:only-of-type {\n",
       "        vertical-align: middle;\n",
       "    }\n",
       "\n",
       "    .dataframe tbody tr th {\n",
       "        vertical-align: top;\n",
       "    }\n",
       "\n",
       "    .dataframe thead th {\n",
       "        text-align: right;\n",
       "    }\n",
       "</style>\n",
       "<table border=\"1\" class=\"dataframe\">\n",
       "  <thead>\n",
       "    <tr style=\"text-align: right;\">\n",
       "      <th></th>\n",
       "      <th>name</th>\n",
       "      <th>label</th>\n",
       "    </tr>\n",
       "  </thead>\n",
       "  <tbody>\n",
       "    <tr>\n",
       "      <th>0</th>\n",
       "      <td>train/3/7463.png</td>\n",
       "      <td>0</td>\n",
       "    </tr>\n",
       "    <tr>\n",
       "      <th>1</th>\n",
       "      <td>train/3/21102.png</td>\n",
       "      <td>0</td>\n",
       "    </tr>\n",
       "    <tr>\n",
       "      <th>2</th>\n",
       "      <td>train/3/31559.png</td>\n",
       "      <td>0</td>\n",
       "    </tr>\n",
       "    <tr>\n",
       "      <th>3</th>\n",
       "      <td>train/3/46882.png</td>\n",
       "      <td>0</td>\n",
       "    </tr>\n",
       "    <tr>\n",
       "      <th>4</th>\n",
       "      <td>train/3/26209.png</td>\n",
       "      <td>0</td>\n",
       "    </tr>\n",
       "  </tbody>\n",
       "</table>\n",
       "</div>"
      ],
      "text/plain": [
       "                name  label\n",
       "0   train/3/7463.png      0\n",
       "1  train/3/21102.png      0\n",
       "2  train/3/31559.png      0\n",
       "3  train/3/46882.png      0\n",
       "4  train/3/26209.png      0"
      ]
     },
     "execution_count": null,
     "metadata": {},
     "output_type": "execute_result"
    }
   ],
   "source": [
    "df = pd.read_csv(path/'labels.csv')\n",
    "df.head()"
   ]
  },
  {
   "cell_type": "code",
   "execution_count": null,
   "metadata": {},
   "outputs": [],
   "source": [
    "data = ImageDataBunch.from_csv(path, ds_tfms=tfms, size=28)"
   ]
  },
  {
   "cell_type": "code",
   "execution_count": null,
   "metadata": {},
   "outputs": [
    {
     "data": {
      "text/plain": [
       "[0, 1]"
      ]
     },
     "execution_count": null,
     "metadata": {},
     "output_type": "execute_result"
    },
    {
     "data": {
      "image/png": "[encoded data removed]",
      "text/plain": [
       "<Figure size 360x360 with 9 Axes>"
      ]
     },
     "metadata": {},
     "output_type": "display_data"
    }
   ],
   "source": [
    "data.show_batch(rows=3, figsize=(5,5))\n",
    "data.classes"
   ]
  },
  {
   "cell_type": "code",
   "execution_count": null,
   "metadata": {},
   "outputs": [
    {
     "data": {
      "text/plain": [
       "[0, 1]"
      ]
     },
     "execution_count": null,
     "metadata": {},
     "output_type": "execute_result"
    }
   ],
   "source": [
    "data = ImageDataBunch.from_df(path, df, ds_tfms=tfms, size=24)\n",
    "data.classes"
   ]
  },
  {
   "cell_type": "code",
   "execution_count": null,
   "metadata": {},
   "outputs": [
    {
     "data": {
      "text/plain": [
       "[PosixPath('/home/ubuntu/course-v3/nbs/dl1/data/mnist_sample/train/3/7463.png'),\n",
       " PosixPath('/home/ubuntu/course-v3/nbs/dl1/data/mnist_sample/train/3/21102.png')]"
      ]
     },
     "execution_count": null,
     "metadata": {},
     "output_type": "execute_result"
    }
   ],
   "source": [
    "fn_paths = [path/name for name in df['name']]; fn_paths[:2]"
   ]
  },
  {
   "cell_type": "code",
   "execution_count": null,
   "metadata": {},
   "outputs": [
    {
     "data": {
      "text/plain": [
       "['3', '7']"
      ]
     },
     "execution_count": null,
     "metadata": {},
     "output_type": "execute_result"
    }
   ],
   "source": [
    "pat = r\"/(\\d)/\\d+\\.png$\"\n",
    "data = ImageDataBunch.from_name_re(path, fn_paths, pat=pat, ds_tfms=tfms, size=24)\n",
    "data.classes"
   ]
  },
  {
   "cell_type": "code",
   "execution_count": null,
   "metadata": {},
   "outputs": [
    {
     "data": {
      "text/plain": [
       "['3', '7']"
      ]
     },
     "execution_count": null,
     "metadata": {},
     "output_type": "execute_result"
    }
   ],
   "source": [
    "data = ImageDataBunch.from_name_func(path, fn_paths, ds_tfms=tfms, size=24,\n",
    "        label_func = lambda x: '3' if '/3/' in str(x) else '7')\n",
    "data.classes"
   ]
  },
  {
   "cell_type": "code",
   "execution_count": null,
   "metadata": {},
   "outputs": [
    {
     "data": {
      "text/plain": [
       "['3', '3', '3', '3', '3']"
      ]
     },
     "execution_count": null,
     "metadata": {},
     "output_type": "execute_result"
    }
   ],
   "source": [
    "labels = [('3' if '/3/' in str(x) else '7') for x in fn_paths]\n",
    "labels[:5]"
   ]
  },
  {
   "cell_type": "code",
   "execution_count": null,
   "metadata": {},
   "outputs": [
    {
     "data": {
      "text/plain": [
       "['3', '7']"
      ]
     },
     "execution_count": null,
     "metadata": {},
     "output_type": "execute_result"
    }
   ],
   "source": [
    "data = ImageDataBunch.from_lists(path, fn_paths, labels=labels, ds_tfms=tfms, size=24)\n",
    "data.classes"
   ]
  },
  {
   "cell_type": "code",
   "execution_count": null,
   "metadata": {},
   "outputs": [],
   "source": []
  }
 ],
 "metadata": {
  "kernelspec": {
   "display_name": "Python 3",
   "language": "python",
   "name": "python3"
  },
  "language_info": {
   "codemirror_mode": {
    "name": "ipython",
    "version": 3
   },
   "file_extension": ".py",
   "mimetype": "text/x-python",
   "name": "python",
   "nbconvert_exporter": "python",
   "pygments_lexer": "ipython3",
   "version": "3.6.8"
  }
 },
 "nbformat": 4,
 "nbformat_minor": 2
}
