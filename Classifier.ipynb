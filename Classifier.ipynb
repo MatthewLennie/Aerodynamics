{
 "cells": [
  {
   "cell_type": "markdown",
   "metadata": {},
   "source": [
    "# Lesson 1 - What's your pet"
   ]
  },
  {
   "cell_type": "markdown",
   "metadata": {},
   "source": [
    "Welcome to lesson 1! For those of you who are using a Jupyter Notebook for the first time, you can learn about this useful tool in a tutorial we prepared specially for you; click `File`->`Open` now and click `00_notebook_tutorial.ipynb`. \n",
    "\n",
    "In this lesson we will build our first image classifier from scratch, and see if we can achieve world-class results. Let's dive in!\n",
    "\n",
    "Every notebook starts with the following three lines; they ensure that any edits to libraries you make are reloaded here automatically, and also that any charts or images displayed are shown in this notebook."
   ]
  },
  {
   "cell_type": "code",
   "execution_count": 8,
   "metadata": {},
   "outputs": [],
   "source": [
    "%reload_ext autoreload\n",
    "%autoreload 2\n",
    "%matplotlib inline"
   ]
  },
  {
   "cell_type": "code",
   "execution_count": 9,
   "metadata": {},
   "outputs": [],
   "source": [
    "from PIL.Image import open"
   ]
  },
  {
   "cell_type": "markdown",
   "metadata": {},
   "source": [
    "We import all the necessary packages. We are going to work with the [fastai V1 library](http://www.fast.ai/2018/10/02/fastai-ai/) which sits on top of [Pytorch 1.0](https://hackernoon.com/pytorch-1-0-468332ba5163). The fastai library provides many useful functions that enable us to quickly and easily build neural networks and train our models."
   ]
  },
  {
   "cell_type": "code",
   "execution_count": 10,
   "metadata": {},
   "outputs": [],
   "source": [
    "from fastai.vision import *\n",
    "from fastai.metrics import error_rate\n",
    "from fastai.vision.transform import *\n",
    "import posixpath"
   ]
  },
  {
   "cell_type": "markdown",
   "metadata": {},
   "source": [
    "If you're using a computer with an unusually small GPU, you may get an out of memory error when running this notebook. If this happens, click Kernel->Restart, uncomment the 2nd line below to use a smaller *batch size* (you'll learn all about what this means during the course), and try again."
   ]
  },
  {
   "cell_type": "code",
   "execution_count": 11,
   "metadata": {},
   "outputs": [],
   "source": [
    "bs = 2056\n",
    "# bs = 16   # uncomment this line if you run out of memory even after clicking Kernel->Restart"
   ]
  },
  {
   "cell_type": "markdown",
   "metadata": {},
   "source": [
    "## Looking at the data"
   ]
  },
  {
   "cell_type": "markdown",
   "metadata": {},
   "source": [
    "We are going to use the [Oxford-IIIT Pet Dataset](http://www.robots.ox.ac.uk/~vgg/data/pets/) by [O. M. Parkhi et al., 2012](http://www.robots.ox.ac.uk/~vgg/publications/2012/parkhi12a/parkhi12a.pdf) which features 12 cat breeds and 25 dogs breeds. Our model will need to learn to differentiate between these 37 distinct categories. According to their paper, the best accuracy they could get in 2012 was 59.21%, using a complex model that was specific to pet detection, with separate \"Image\", \"Head\", and \"Body\" models for the pet photos. Let's see how accurate we can be using deep learning!\n",
    "\n",
    "We are going to use the `untar_data` function to which we must pass a URL as an argument and which will download and extract the data."
   ]
  },
  {
   "cell_type": "code",
   "execution_count": 5,
   "metadata": {},
   "outputs": [
    {
     "name": "stdout",
     "output_type": "stream",
     "text": [
      "Help on function untar_data in module fastai.datasets:\n",
      "\n",
      "untar_data(url:str, fname:Union[pathlib.Path, str]=None, dest:Union[pathlib.Path, str]=None, data=True, force_download=False) -> pathlib.Path\n",
      "    Download `url` to `fname` if it doesn't exist, and un-tgz to folder `dest`.\n",
      "\n"
     ]
    }
   ],
   "source": [
    "help(untar_data)"
   ]
  },
  {
   "cell_type": "code",
   "execution_count": null,
   "metadata": {},
   "outputs": [
    {
     "data": {
      "text/plain": [
       "PosixPath('/home/ubuntu/.fastai/data/oxford-iiit-pet')"
      ]
     },
     "execution_count": null,
     "metadata": {},
     "output_type": "execute_result"
    }
   ],
   "source": []
  },
  {
   "cell_type": "code",
   "execution_count": null,
   "metadata": {},
   "outputs": [
    {
     "data": {
      "text/plain": [
       "[PosixPath('/home/ubuntu/.fastai/data/oxford-iiit-pet/images'),\n",
       " PosixPath('/home/ubuntu/.fastai/data/oxford-iiit-pet/annotations')]"
      ]
     },
     "execution_count": null,
     "metadata": {},
     "output_type": "execute_result"
    }
   ],
   "source": []
  },
  {
   "cell_type": "code",
   "execution_count": null,
   "metadata": {},
   "outputs": [],
   "source": []
  },
  {
   "cell_type": "markdown",
   "metadata": {},
   "source": [
    "The first thing we do when we approach a problem is to take a look at the data. We _always_ need to understand very well what the problem is and what the data looks like before we can figure out how to solve it. Taking a look at the data means understanding how the data directories are structured, what the labels are and what some sample images look like.\n",
    "\n",
    "The main difference between the handling of image classification datasets is the way labels are stored. In this particular dataset, labels are stored in the filenames themselves. We will need to extract them to be able to classify the images into the correct categories. Fortunately, the fastai library has a handy function made exactly for this, `ImageDataBunch.from_name_re` gets the labels from the filenames using a [regular expression](https://docs.python.org/3.6/library/re.html)."
   ]
  },
  {
   "cell_type": "code",
   "execution_count": null,
   "metadata": {},
   "outputs": [
    {
     "data": {
      "text/plain": [
       "[PosixPath('/home/ubuntu/.fastai/data/oxford-iiit-pet/images/saint_bernard_188.jpg'),\n",
       " PosixPath('/home/ubuntu/.fastai/data/oxford-iiit-pet/images/staffordshire_bull_terrier_114.jpg'),\n",
       " PosixPath('/home/ubuntu/.fastai/data/oxford-iiit-pet/images/Persian_144.jpg'),\n",
       " PosixPath('/home/ubuntu/.fastai/data/oxford-iiit-pet/images/Maine_Coon_268.jpg'),\n",
       " PosixPath('/home/ubuntu/.fastai/data/oxford-iiit-pet/images/newfoundland_95.jpg')]"
      ]
     },
     "execution_count": null,
     "metadata": {},
     "output_type": "execute_result"
    }
   ],
   "source": []
  },
  {
   "cell_type": "code",
   "execution_count": null,
   "metadata": {},
   "outputs": [],
   "source": []
  },
  {
   "cell_type": "code",
   "execution_count": 12,
   "metadata": {},
   "outputs": [],
   "source": [
    "data = ImageDataBunch.from_folder(\"./Pictures/\", size=7, bs=bs).normalize(imagenet_stats)"
   ]
  },
  {
   "cell_type": "code",
   "execution_count": 7,
   "metadata": {},
   "outputs": [
    {
     "data": {
      "image/png": "[encoded data removed]",
      "text/plain": [
       "<Figure size 504x432 with 9 Axes>"
      ]
     },
     "metadata": {
      "needs_background": "light"
     },
     "output_type": "display_data"
    }
   ],
   "source": [
    "data.show_batch(rows=3, figsize=(7,6))"
   ]
  },
  {
   "cell_type": "code",
   "execution_count": 8,
   "metadata": {},
   "outputs": [
    {
     "name": "stdout",
     "output_type": "stream",
     "text": [
      "['0', '1']\n"
     ]
    },
    {
     "data": {
      "text/plain": [
       "(2, 2)"
      ]
     },
     "execution_count": 8,
     "metadata": {},
     "output_type": "execute_result"
    }
   ],
   "source": [
    "data."
   ]
  },
  {
   "cell_type": "markdown",
   "metadata": {},
   "source": [
    "## Training: resnet34"
   ]
  },
  {
   "cell_type": "markdown",
   "metadata": {},
   "source": [
    "Now we will start training our model. We will use a [convolutional neural network](http://cs231n.github.io/convolutional-networks/) backbone and a fully connected head with a single hidden layer as a classifier. Don't know what these things mean? Not to worry, we will dive deeper in the coming lessons. For the moment you need to know that we are building a model which will take images as input and will output the predicted probability for each of the categories (in this case, it will have 37 outputs).\n",
    "\n",
    "We will train for 4 epochs (4 cycles through all our data)."
   ]
  },
  {
   "cell_type": "code",
   "execution_count": 5,
   "metadata": {},
   "outputs": [],
   "source": [
    "learn = create_cnn(data, models.resnet34, metrics=error_rate)"
   ]
  },
  {
   "cell_type": "code",
   "execution_count": 41,
   "metadata": {},
   "outputs": [
    {
     "data": {
      "text/plain": [
       "Sequential(\n",
       "  (0): Sequential(\n",
       "    (0): Conv2d(3, 64, kernel_size=(7, 7), stride=(2, 2), padding=(3, 3), bias=False)\n",
       "    (1): BatchNorm2d(64, eps=1e-05, momentum=0.1, affine=True, track_running_stats=True)\n",
       "    (2): ReLU(inplace)\n",
       "    (3): MaxPool2d(kernel_size=3, stride=2, padding=1, dilation=1, ceil_mode=False)\n",
       "    (4): Sequential(\n",
       "      (0): BasicBlock(\n",
       "        (conv1): Conv2d(64, 64, kernel_size=(3, 3), stride=(1, 1), padding=(1, 1), bias=False)\n",
       "        (bn1): BatchNorm2d(64, eps=1e-05, momentum=0.1, affine=True, track_running_stats=True)\n",
       "        (relu): ReLU(inplace)\n",
       "        (conv2): Conv2d(64, 64, kernel_size=(3, 3), stride=(1, 1), padding=(1, 1), bias=False)\n",
       "        (bn2): BatchNorm2d(64, eps=1e-05, momentum=0.1, affine=True, track_running_stats=True)\n",
       "      )\n",
       "      (1): BasicBlock(\n",
       "        (conv1): Conv2d(64, 64, kernel_size=(3, 3), stride=(1, 1), padding=(1, 1), bias=False)\n",
       "        (bn1): BatchNorm2d(64, eps=1e-05, momentum=0.1, affine=True, track_running_stats=True)\n",
       "        (relu): ReLU(inplace)\n",
       "        (conv2): Conv2d(64, 64, kernel_size=(3, 3), stride=(1, 1), padding=(1, 1), bias=False)\n",
       "        (bn2): BatchNorm2d(64, eps=1e-05, momentum=0.1, affine=True, track_running_stats=True)\n",
       "      )\n",
       "      (2): BasicBlock(\n",
       "        (conv1): Conv2d(64, 64, kernel_size=(3, 3), stride=(1, 1), padding=(1, 1), bias=False)\n",
       "        (bn1): BatchNorm2d(64, eps=1e-05, momentum=0.1, affine=True, track_running_stats=True)\n",
       "        (relu): ReLU(inplace)\n",
       "        (conv2): Conv2d(64, 64, kernel_size=(3, 3), stride=(1, 1), padding=(1, 1), bias=False)\n",
       "        (bn2): BatchNorm2d(64, eps=1e-05, momentum=0.1, affine=True, track_running_stats=True)\n",
       "      )\n",
       "    )\n",
       "    (5): Sequential(\n",
       "      (0): BasicBlock(\n",
       "        (conv1): Conv2d(64, 128, kernel_size=(3, 3), stride=(2, 2), padding=(1, 1), bias=False)\n",
       "        (bn1): BatchNorm2d(128, eps=1e-05, momentum=0.1, affine=True, track_running_stats=True)\n",
       "        (relu): ReLU(inplace)\n",
       "        (conv2): Conv2d(128, 128, kernel_size=(3, 3), stride=(1, 1), padding=(1, 1), bias=False)\n",
       "        (bn2): BatchNorm2d(128, eps=1e-05, momentum=0.1, affine=True, track_running_stats=True)\n",
       "        (downsample): Sequential(\n",
       "          (0): Conv2d(64, 128, kernel_size=(1, 1), stride=(2, 2), bias=False)\n",
       "          (1): BatchNorm2d(128, eps=1e-05, momentum=0.1, affine=True, track_running_stats=True)\n",
       "        )\n",
       "      )\n",
       "      (1): BasicBlock(\n",
       "        (conv1): Conv2d(128, 128, kernel_size=(3, 3), stride=(1, 1), padding=(1, 1), bias=False)\n",
       "        (bn1): BatchNorm2d(128, eps=1e-05, momentum=0.1, affine=True, track_running_stats=True)\n",
       "        (relu): ReLU(inplace)\n",
       "        (conv2): Conv2d(128, 128, kernel_size=(3, 3), stride=(1, 1), padding=(1, 1), bias=False)\n",
       "        (bn2): BatchNorm2d(128, eps=1e-05, momentum=0.1, affine=True, track_running_stats=True)\n",
       "      )\n",
       "      (2): BasicBlock(\n",
       "        (conv1): Conv2d(128, 128, kernel_size=(3, 3), stride=(1, 1), padding=(1, 1), bias=False)\n",
       "        (bn1): BatchNorm2d(128, eps=1e-05, momentum=0.1, affine=True, track_running_stats=True)\n",
       "        (relu): ReLU(inplace)\n",
       "        (conv2): Conv2d(128, 128, kernel_size=(3, 3), stride=(1, 1), padding=(1, 1), bias=False)\n",
       "        (bn2): BatchNorm2d(128, eps=1e-05, momentum=0.1, affine=True, track_running_stats=True)\n",
       "      )\n",
       "      (3): BasicBlock(\n",
       "        (conv1): Conv2d(128, 128, kernel_size=(3, 3), stride=(1, 1), padding=(1, 1), bias=False)\n",
       "        (bn1): BatchNorm2d(128, eps=1e-05, momentum=0.1, affine=True, track_running_stats=True)\n",
       "        (relu): ReLU(inplace)\n",
       "        (conv2): Conv2d(128, 128, kernel_size=(3, 3), stride=(1, 1), padding=(1, 1), bias=False)\n",
       "        (bn2): BatchNorm2d(128, eps=1e-05, momentum=0.1, affine=True, track_running_stats=True)\n",
       "      )\n",
       "    )\n",
       "    (6): Sequential(\n",
       "      (0): BasicBlock(\n",
       "        (conv1): Conv2d(128, 256, kernel_size=(3, 3), stride=(2, 2), padding=(1, 1), bias=False)\n",
       "        (bn1): BatchNorm2d(256, eps=1e-05, momentum=0.1, affine=True, track_running_stats=True)\n",
       "        (relu): ReLU(inplace)\n",
       "        (conv2): Conv2d(256, 256, kernel_size=(3, 3), stride=(1, 1), padding=(1, 1), bias=False)\n",
       "        (bn2): BatchNorm2d(256, eps=1e-05, momentum=0.1, affine=True, track_running_stats=True)\n",
       "        (downsample): Sequential(\n",
       "          (0): Conv2d(128, 256, kernel_size=(1, 1), stride=(2, 2), bias=False)\n",
       "          (1): BatchNorm2d(256, eps=1e-05, momentum=0.1, affine=True, track_running_stats=True)\n",
       "        )\n",
       "      )\n",
       "      (1): BasicBlock(\n",
       "        (conv1): Conv2d(256, 256, kernel_size=(3, 3), stride=(1, 1), padding=(1, 1), bias=False)\n",
       "        (bn1): BatchNorm2d(256, eps=1e-05, momentum=0.1, affine=True, track_running_stats=True)\n",
       "        (relu): ReLU(inplace)\n",
       "        (conv2): Conv2d(256, 256, kernel_size=(3, 3), stride=(1, 1), padding=(1, 1), bias=False)\n",
       "        (bn2): BatchNorm2d(256, eps=1e-05, momentum=0.1, affine=True, track_running_stats=True)\n",
       "      )\n",
       "      (2): BasicBlock(\n",
       "        (conv1): Conv2d(256, 256, kernel_size=(3, 3), stride=(1, 1), padding=(1, 1), bias=False)\n",
       "        (bn1): BatchNorm2d(256, eps=1e-05, momentum=0.1, affine=True, track_running_stats=True)\n",
       "        (relu): ReLU(inplace)\n",
       "        (conv2): Conv2d(256, 256, kernel_size=(3, 3), stride=(1, 1), padding=(1, 1), bias=False)\n",
       "        (bn2): BatchNorm2d(256, eps=1e-05, momentum=0.1, affine=True, track_running_stats=True)\n",
       "      )\n",
       "      (3): BasicBlock(\n",
       "        (conv1): Conv2d(256, 256, kernel_size=(3, 3), stride=(1, 1), padding=(1, 1), bias=False)\n",
       "        (bn1): BatchNorm2d(256, eps=1e-05, momentum=0.1, affine=True, track_running_stats=True)\n",
       "        (relu): ReLU(inplace)\n",
       "        (conv2): Conv2d(256, 256, kernel_size=(3, 3), stride=(1, 1), padding=(1, 1), bias=False)\n",
       "        (bn2): BatchNorm2d(256, eps=1e-05, momentum=0.1, affine=True, track_running_stats=True)\n",
       "      )\n",
       "      (4): BasicBlock(\n",
       "        (conv1): Conv2d(256, 256, kernel_size=(3, 3), stride=(1, 1), padding=(1, 1), bias=False)\n",
       "        (bn1): BatchNorm2d(256, eps=1e-05, momentum=0.1, affine=True, track_running_stats=True)\n",
       "        (relu): ReLU(inplace)\n",
       "        (conv2): Conv2d(256, 256, kernel_size=(3, 3), stride=(1, 1), padding=(1, 1), bias=False)\n",
       "        (bn2): BatchNorm2d(256, eps=1e-05, momentum=0.1, affine=True, track_running_stats=True)\n",
       "      )\n",
       "      (5): BasicBlock(\n",
       "        (conv1): Conv2d(256, 256, kernel_size=(3, 3), stride=(1, 1), padding=(1, 1), bias=False)\n",
       "        (bn1): BatchNorm2d(256, eps=1e-05, momentum=0.1, affine=True, track_running_stats=True)\n",
       "        (relu): ReLU(inplace)\n",
       "        (conv2): Conv2d(256, 256, kernel_size=(3, 3), stride=(1, 1), padding=(1, 1), bias=False)\n",
       "        (bn2): BatchNorm2d(256, eps=1e-05, momentum=0.1, affine=True, track_running_stats=True)\n",
       "      )\n",
       "    )\n",
       "    (7): Sequential(\n",
       "      (0): BasicBlock(\n",
       "        (conv1): Conv2d(256, 512, kernel_size=(3, 3), stride=(2, 2), padding=(1, 1), bias=False)\n",
       "        (bn1): BatchNorm2d(512, eps=1e-05, momentum=0.1, affine=True, track_running_stats=True)\n",
       "        (relu): ReLU(inplace)\n",
       "        (conv2): Conv2d(512, 512, kernel_size=(3, 3), stride=(1, 1), padding=(1, 1), bias=False)\n",
       "        (bn2): BatchNorm2d(512, eps=1e-05, momentum=0.1, affine=True, track_running_stats=True)\n",
       "        (downsample): Sequential(\n",
       "          (0): Conv2d(256, 512, kernel_size=(1, 1), stride=(2, 2), bias=False)\n",
       "          (1): BatchNorm2d(512, eps=1e-05, momentum=0.1, affine=True, track_running_stats=True)\n",
       "        )\n",
       "      )\n",
       "      (1): BasicBlock(\n",
       "        (conv1): Conv2d(512, 512, kernel_size=(3, 3), stride=(1, 1), padding=(1, 1), bias=False)\n",
       "        (bn1): BatchNorm2d(512, eps=1e-05, momentum=0.1, affine=True, track_running_stats=True)\n",
       "        (relu): ReLU(inplace)\n",
       "        (conv2): Conv2d(512, 512, kernel_size=(3, 3), stride=(1, 1), padding=(1, 1), bias=False)\n",
       "        (bn2): BatchNorm2d(512, eps=1e-05, momentum=0.1, affine=True, track_running_stats=True)\n",
       "      )\n",
       "      (2): BasicBlock(\n",
       "        (conv1): Conv2d(512, 512, kernel_size=(3, 3), stride=(1, 1), padding=(1, 1), bias=False)\n",
       "        (bn1): BatchNorm2d(512, eps=1e-05, momentum=0.1, affine=True, track_running_stats=True)\n",
       "        (relu): ReLU(inplace)\n",
       "        (conv2): Conv2d(512, 512, kernel_size=(3, 3), stride=(1, 1), padding=(1, 1), bias=False)\n",
       "        (bn2): BatchNorm2d(512, eps=1e-05, momentum=0.1, affine=True, track_running_stats=True)\n",
       "      )\n",
       "    )\n",
       "  )\n",
       "  (1): Sequential(\n",
       "    (0): AdaptiveConcatPool2d(\n",
       "      (ap): AdaptiveAvgPool2d(output_size=1)\n",
       "      (mp): AdaptiveMaxPool2d(output_size=1)\n",
       "    )\n",
       "    (1): Flatten()\n",
       "    (2): BatchNorm1d(1024, eps=1e-05, momentum=0.1, affine=True, track_running_stats=True)\n",
       "    (3): Dropout(p=0.25)\n",
       "    (4): Linear(in_features=1024, out_features=512, bias=True)\n",
       "    (5): ReLU(inplace)\n",
       "    (6): BatchNorm1d(512, eps=1e-05, momentum=0.1, affine=True, track_running_stats=True)\n",
       "    (7): Dropout(p=0.5)\n",
       "    (8): Linear(in_features=512, out_features=2, bias=True)\n",
       "  )\n",
       ")"
      ]
     },
     "execution_count": 41,
     "metadata": {},
     "output_type": "execute_result"
    }
   ],
   "source": [
    "learn.model"
   ]
  },
  {
   "cell_type": "code",
   "execution_count": null,
   "metadata": {},
   "outputs": [],
   "source": [
    "learn.lr_find()"
   ]
  },
  {
   "cell_type": "code",
   "execution_count": null,
   "metadata": {},
   "outputs": [],
   "source": [
    "learn.recorder.plot()"
   ]
  },
  {
   "cell_type": "code",
   "execution_count": 11,
   "metadata": {},
   "outputs": [
    {
     "data": {
      "text/html": [
       "Total time: 05:24 <p><table style='width:300px; margin-bottom:10px'>\n",
       "  <tr>\n",
       "    <th>epoch</th>\n",
       "    <th>train_loss</th>\n",
       "    <th>valid_loss</th>\n",
       "    <th>error_rate</th>\n",
       "  </tr>\n",
       "  <tr>\n",
       "    <th>1</th>\n",
       "    <th>0.355793</th>\n",
       "    <th>0.200532</th>\n",
       "    <th>0.077414</th>\n",
       "  </tr>\n",
       "  <tr>\n",
       "    <th>2</th>\n",
       "    <th>0.265655</th>\n",
       "    <th>0.187706</th>\n",
       "    <th>0.073600</th>\n",
       "  </tr>\n",
       "  <tr>\n",
       "    <th>3</th>\n",
       "    <th>0.239036</th>\n",
       "    <th>0.184935</th>\n",
       "    <th>0.069495</th>\n",
       "  </tr>\n",
       "  <tr>\n",
       "    <th>4</th>\n",
       "    <th>0.228236</th>\n",
       "    <th>0.183978</th>\n",
       "    <th>0.069329</th>\n",
       "  </tr>\n",
       "</table>\n"
      ],
      "text/plain": [
       "<IPython.core.display.HTML object>"
      ]
     },
     "metadata": {},
     "output_type": "display_data"
    }
   ],
   "source": [
    "learn.fit_one_cycle(4)"
   ]
  },
  {
   "cell_type": "code",
   "execution_count": 34,
   "metadata": {},
   "outputs": [],
   "source": [
    "learn.save('stage-1')"
   ]
  },
  {
   "cell_type": "markdown",
   "metadata": {},
   "source": [
    "## Results"
   ]
  },
  {
   "cell_type": "markdown",
   "metadata": {},
   "source": [
    "Let's see what results we have got. \n",
    "\n",
    "We will first see which were the categories that the model most confused with one another. We will try to see if what the model predicted was reasonable or not. In this case the mistakes look reasonable (none of the mistakes seems obviously naive). This is an indicator that our classifier is working correctly. \n",
    "\n",
    "Furthermore, when we plot the confusion matrix, we can see that the distribution is heavily skewed: the model makes the same mistakes over and over again but it rarely confuses other categories. This suggests that it just finds it difficult to distinguish some specific categories between each other; this is normal behaviour."
   ]
  },
  {
   "cell_type": "code",
   "execution_count": 7,
   "metadata": {},
   "outputs": [
    {
     "data": {
      "text/plain": [
       "True"
      ]
     },
     "execution_count": 7,
     "metadata": {},
     "output_type": "execute_result"
    }
   ],
   "source": [
    "interp = ClassificationInterpretation.from_learner(learn)\n",
    "\n",
    "losses,idxs = interp.top_losses()\n",
    "\n",
    "len(data.valid_ds)==len(losses)==len(idxs)"
   ]
  },
  {
   "cell_type": "code",
   "execution_count": 157,
   "metadata": {},
   "outputs": [],
   "source": [
    "img = learn.data.train_ds[0][0]\n",
    "predictions = [learn.predict(img)[2][1].numpy().item() for img in learn.data.train_ds.x[:30000]]"
   ]
  },
  {
   "cell_type": "code",
   "execution_count": null,
   "metadata": {},
   "outputs": [],
   "source": []
  },
  {
   "cell_type": "code",
   "execution_count": 160,
   "metadata": {},
   "outputs": [],
   "source": [
    "paths = [int(posixpath.basename(posixpath.splitext(item)[0])) for item in data.train_ds.items]"
   ]
  },
  {
   "cell_type": "code",
   "execution_count": 161,
   "metadata": {},
   "outputs": [],
   "source": [
    "dfPredict = pd.DataFrame({\"real\":data.train_ds.y.items[:30000],\"nnLabel\":predictions[:30000],\"path\":paths[:30000]})"
   ]
  },
  {
   "cell_type": "code",
   "execution_count": 162,
   "metadata": {},
   "outputs": [],
   "source": [
    "dfPredict.set_index(\"path\",inplace=True)"
   ]
  },
  {
   "cell_type": "code",
   "execution_count": 163,
   "metadata": {},
   "outputs": [],
   "source": [
    "def bandSwitch(window):\n",
    "    if window[-1]>0.95:\n",
    "        return 1\n",
    "    elif window[-1]<0.05:\n",
    "        return 0\n",
    "    else: \n",
    "        return float('NaN')\n",
    "        "
   ]
  },
  {
   "cell_type": "code",
   "execution_count": 164,
   "metadata": {},
   "outputs": [],
   "source": [
    "dfPredict.sort_index(inplace=True)"
   ]
  },
  {
   "cell_type": "code",
   "execution_count": 153,
   "metadata": {},
   "outputs": [
    {
     "data": {
      "text/plain": [
       "Rolling [window=2,center=False,axis=0]"
      ]
     },
     "execution_count": 153,
     "metadata": {},
     "output_type": "execute_result"
    }
   ],
   "source": [
    "dfPredict['nnLabel'].rolling(2)"
   ]
  },
  {
   "cell_type": "code",
   "execution_count": 165,
   "metadata": {
    "scrolled": true
   },
   "outputs": [
    {
     "name": "stderr",
     "output_type": "stream",
     "text": [
      "/opt/conda/envs/fastai/lib/python3.6/site-packages/ipykernel_launcher.py:1: FutureWarning: Currently, 'apply' passes the values as ndarrays to the applied function. In the future, this will change to passing it as Series objects. You need to specify 'raw=True' to keep the current behaviour, and you can pass 'raw=False' to silence this warning\n",
      "  \"\"\"Entry point for launching an IPython kernel.\n"
     ]
    }
   ],
   "source": [
    "dfPredict['Filtered'] = dfPredict['nnLabel'].rolling(2).mean().rolling(2).apply(bandSwitch)"
   ]
  },
  {
   "cell_type": "code",
   "execution_count": 166,
   "metadata": {},
   "outputs": [],
   "source": [
    "dfPredict= dfPredict.fillna(method='ffill').fillna(method='bfill')"
   ]
  },
  {
   "cell_type": "code",
   "execution_count": null,
   "metadata": {},
   "outputs": [],
   "source": []
  },
  {
   "cell_type": "code",
   "execution_count": 167,
   "metadata": {},
   "outputs": [
    {
     "data": {
      "application/javascript": [
       "/* Put everything inside the global mpl namespace */\n",
       "window.mpl = {};\n",
       "\n",
       "\n",
       "mpl.get_websocket_type = function() {\n",
       "    if (typeof(WebSocket) !== 'undefined') {\n",
       "        return WebSocket;\n",
       "    } else if (typeof(MozWebSocket) !== 'undefined') {\n",
       "        return MozWebSocket;\n",
       "    } else {\n",
       "        alert('Your browser does not have WebSocket support.' +\n",
       "              'Please try Chrome, Safari or Firefox ≥ 6. ' +\n",
       "              'Firefox 4 and 5 are also supported but you ' +\n",
       "              'have to enable WebSockets in about:config.');\n",
       "    };\n",
       "}\n",
       "\n",
       "mpl.figure = function(figure_id, websocket, ondownload, parent_element) {\n",
       "    this.id = figure_id;\n",
       "\n",
       "    this.ws = websocket;\n",
       "\n",
       "    this.supports_binary = (this.ws.binaryType != undefined);\n",
       "\n",
       "    if (!this.supports_binary) {\n",
       "        var warnings = document.getElementById(\"mpl-warnings\");\n",
       "        if (warnings) {\n",
       "            warnings.style.display = 'block';\n",
       "            warnings.textContent = (\n",
       "                \"This browser does not support binary websocket messages. \" +\n",
       "                    \"Performance may be slow.\");\n",
       "        }\n",
       "    }\n",
       "\n",
       "    this.imageObj = new Image();\n",
       "\n",
       "    this.context = undefined;\n",
       "    this.message = undefined;\n",
       "    this.canvas = undefined;\n",
       "    this.rubberband_canvas = undefined;\n",
       "    this.rubberband_context = undefined;\n",
       "    this.format_dropdown = undefined;\n",
       "\n",
       "    this.image_mode = 'full';\n",
       "\n",
       "    this.root = $('<div/>');\n",
       "    this._root_extra_style(this.root)\n",
       "    this.root.attr('style', 'display: inline-block');\n",
       "\n",
       "    $(parent_element).append(this.root);\n",
       "\n",
       "    this._init_header(this);\n",
       "    this._init_canvas(this);\n",
       "    this._init_toolbar(this);\n",
       "\n",
       "    var fig = this;\n",
       "\n",
       "    this.waiting = false;\n",
       "\n",
       "    this.ws.onopen =  function () {\n",
       "            fig.send_message(\"supports_binary\", {value: fig.supports_binary});\n",
       "            fig.send_message(\"send_image_mode\", {});\n",
       "            if (mpl.ratio != 1) {\n",
       "                fig.send_message(\"set_dpi_ratio\", {'dpi_ratio': mpl.ratio});\n",
       "            }\n",
       "            fig.send_message(\"refresh\", {});\n",
       "        }\n",
       "\n",
       "    this.imageObj.onload = function() {\n",
       "            if (fig.image_mode == 'full') {\n",
       "                // Full images could contain transparency (where diff images\n",
       "                // almost always do), so we need to clear the canvas so that\n",
       "                // there is no ghosting.\n",
       "                fig.context.clearRect(0, 0, fig.canvas.width, fig.canvas.height);\n",
       "            }\n",
       "            fig.context.drawImage(fig.imageObj, 0, 0);\n",
       "        };\n",
       "\n",
       "    this.imageObj.onunload = function() {\n",
       "        fig.ws.close();\n",
       "    }\n",
       "\n",
       "    this.ws.onmessage = this._make_on_message_function(this);\n",
       "\n",
       "    this.ondownload = ondownload;\n",
       "}\n",
       "\n",
       "mpl.figure.prototype._init_header = function() {\n",
       "    var titlebar = $(\n",
       "        '<div class=\"ui-dialog-titlebar ui-widget-header ui-corner-all ' +\n",
       "        'ui-helper-clearfix\"/>');\n",
       "    var titletext = $(\n",
       "        '<div class=\"ui-dialog-title\" style=\"width: 100%; ' +\n",
       "        'text-align: center; padding: 3px;\"/>');\n",
       "    titlebar.append(titletext)\n",
       "    this.root.append(titlebar);\n",
       "    this.header = titletext[0];\n",
       "}\n",
       "\n",
       "\n",
       "\n",
       "mpl.figure.prototype._canvas_extra_style = function(canvas_div) {\n",
       "\n",
       "}\n",
       "\n",
       "\n",
       "mpl.figure.prototype._root_extra_style = function(canvas_div) {\n",
       "\n",
       "}\n",
       "\n",
       "mpl.figure.prototype._init_canvas = function() {\n",
       "    var fig = this;\n",
       "\n",
       "    var canvas_div = $('<div/>');\n",
       "\n",
       "    canvas_div.attr('style', 'position: relative; clear: both; outline: 0');\n",
       "\n",
       "    function canvas_keyboard_event(event) {\n",
       "        return fig.key_event(event, event['data']);\n",
       "    }\n",
       "\n",
       "    canvas_div.keydown('key_press', canvas_keyboard_event);\n",
       "    canvas_div.keyup('key_release', canvas_keyboard_event);\n",
       "    this.canvas_div = canvas_div\n",
       "    this._canvas_extra_style(canvas_div)\n",
       "    this.root.append(canvas_div);\n",
       "\n",
       "    var canvas = $('<canvas/>');\n",
       "    canvas.addClass('mpl-canvas');\n",
       "    canvas.attr('style', \"left: 0; top: 0; z-index: 0; outline: 0\")\n",
       "\n",
       "    this.canvas = canvas[0];\n",
       "    this.context = canvas[0].getContext(\"2d\");\n",
       "\n",
       "    var backingStore = this.context.backingStorePixelRatio ||\n",
       "\tthis.context.webkitBackingStorePixelRatio ||\n",
       "\tthis.context.mozBackingStorePixelRatio ||\n",
       "\tthis.context.msBackingStorePixelRatio ||\n",
       "\tthis.context.oBackingStorePixelRatio ||\n",
       "\tthis.context.backingStorePixelRatio || 1;\n",
       "\n",
       "    mpl.ratio = (window.devicePixelRatio || 1) / backingStore;\n",
       "\n",
       "    var rubberband = $('<canvas/>');\n",
       "    rubberband.attr('style', \"position: absolute; left: 0; top: 0; z-index: 1;\")\n",
       "\n",
       "    var pass_mouse_events = true;\n",
       "\n",
       "    canvas_div.resizable({\n",
       "        start: function(event, ui) {\n",
       "            pass_mouse_events = false;\n",
       "        },\n",
       "        resize: function(event, ui) {\n",
       "            fig.request_resize(ui.size.width, ui.size.height);\n",
       "        },\n",
       "        stop: function(event, ui) {\n",
       "            pass_mouse_events = true;\n",
       "            fig.request_resize(ui.size.width, ui.size.height);\n",
       "        },\n",
       "    });\n",
       "\n",
       "    function mouse_event_fn(event) {\n",
       "        if (pass_mouse_events)\n",
       "            return fig.mouse_event(event, event['data']);\n",
       "    }\n",
       "\n",
       "    rubberband.mousedown('button_press', mouse_event_fn);\n",
       "    rubberband.mouseup('button_release', mouse_event_fn);\n",
       "    // Throttle sequential mouse events to 1 every 20ms.\n",
       "    rubberband.mousemove('motion_notify', mouse_event_fn);\n",
       "\n",
       "    rubberband.mouseenter('figure_enter', mouse_event_fn);\n",
       "    rubberband.mouseleave('figure_leave', mouse_event_fn);\n",
       "\n",
       "    canvas_div.on(\"wheel\", function (event) {\n",
       "        event = event.originalEvent;\n",
       "        event['data'] = 'scroll'\n",
       "        if (event.deltaY < 0) {\n",
       "            event.step = 1;\n",
       "        } else {\n",
       "            event.step = -1;\n",
       "        }\n",
       "        mouse_event_fn(event);\n",
       "    });\n",
       "\n",
       "    canvas_div.append(canvas);\n",
       "    canvas_div.append(rubberband);\n",
       "\n",
       "    this.rubberband = rubberband;\n",
       "    this.rubberband_canvas = rubberband[0];\n",
       "    this.rubberband_context = rubberband[0].getContext(\"2d\");\n",
       "    this.rubberband_context.strokeStyle = \"#000000\";\n",
       "\n",
       "    this._resize_canvas = function(width, height) {\n",
       "        // Keep the size of the canvas, canvas container, and rubber band\n",
       "        // canvas in synch.\n",
       "        canvas_div.css('width', width)\n",
       "        canvas_div.css('height', height)\n",
       "\n",
       "        canvas.attr('width', width * mpl.ratio);\n",
       "        canvas.attr('height', height * mpl.ratio);\n",
       "        canvas.attr('style', 'width: ' + width + 'px; height: ' + height + 'px;');\n",
       "\n",
       "        rubberband.attr('width', width);\n",
       "        rubberband.attr('height', height);\n",
       "    }\n",
       "\n",
       "    // Set the figure to an initial 600x600px, this will subsequently be updated\n",
       "    // upon first draw.\n",
       "    this._resize_canvas(600, 600);\n",
       "\n",
       "    // Disable right mouse context menu.\n",
       "    $(this.rubberband_canvas).bind(\"contextmenu\",function(e){\n",
       "        return false;\n",
       "    });\n",
       "\n",
       "    function set_focus () {\n",
       "        canvas.focus();\n",
       "        canvas_div.focus();\n",
       "    }\n",
       "\n",
       "    window.setTimeout(set_focus, 100);\n",
       "}\n",
       "\n",
       "mpl.figure.prototype._init_toolbar = function() {\n",
       "    var fig = this;\n",
       "\n",
       "    var nav_element = $('<div/>')\n",
       "    nav_element.attr('style', 'width: 100%');\n",
       "    this.root.append(nav_element);\n",
       "\n",
       "    // Define a callback function for later on.\n",
       "    function toolbar_event(event) {\n",
       "        return fig.toolbar_button_onclick(event['data']);\n",
       "    }\n",
       "    function toolbar_mouse_event(event) {\n",
       "        return fig.toolbar_button_onmouseover(event['data']);\n",
       "    }\n",
       "\n",
       "    for(var toolbar_ind in mpl.toolbar_items) {\n",
       "        var name = mpl.toolbar_items[toolbar_ind][0];\n",
       "        var tooltip = mpl.toolbar_items[toolbar_ind][1];\n",
       "        var image = mpl.toolbar_items[toolbar_ind][2];\n",
       "        var method_name = mpl.toolbar_items[toolbar_ind][3];\n",
       "\n",
       "        if (!name) {\n",
       "            // put a spacer in here.\n",
       "            continue;\n",
       "        }\n",
       "        var button = $('<button/>');\n",
       "        button.addClass('ui-button ui-widget ui-state-default ui-corner-all ' +\n",
       "                        'ui-button-icon-only');\n",
       "        button.attr('role', 'button');\n",
       "        button.attr('aria-disabled', 'false');\n",
       "        button.click(method_name, toolbar_event);\n",
       "        button.mouseover(tooltip, toolbar_mouse_event);\n",
       "\n",
       "        var icon_img = $('<span/>');\n",
       "        icon_img.addClass('ui-button-icon-primary ui-icon');\n",
       "        icon_img.addClass(image);\n",
       "        icon_img.addClass('ui-corner-all');\n",
       "\n",
       "        var tooltip_span = $('<span/>');\n",
       "        tooltip_span.addClass('ui-button-text');\n",
       "        tooltip_span.html(tooltip);\n",
       "\n",
       "        button.append(icon_img);\n",
       "        button.append(tooltip_span);\n",
       "\n",
       "        nav_element.append(button);\n",
       "    }\n",
       "\n",
       "    var fmt_picker_span = $('<span/>');\n",
       "\n",
       "    var fmt_picker = $('<select/>');\n",
       "    fmt_picker.addClass('mpl-toolbar-option ui-widget ui-widget-content');\n",
       "    fmt_picker_span.append(fmt_picker);\n",
       "    nav_element.append(fmt_picker_span);\n",
       "    this.format_dropdown = fmt_picker[0];\n",
       "\n",
       "    for (var ind in mpl.extensions) {\n",
       "        var fmt = mpl.extensions[ind];\n",
       "        var option = $(\n",
       "            '<option/>', {selected: fmt === mpl.default_extension}).html(fmt);\n",
       "        fmt_picker.append(option)\n",
       "    }\n",
       "\n",
       "    // Add hover states to the ui-buttons\n",
       "    $( \".ui-button\" ).hover(\n",
       "        function() { $(this).addClass(\"ui-state-hover\");},\n",
       "        function() { $(this).removeClass(\"ui-state-hover\");}\n",
       "    );\n",
       "\n",
       "    var status_bar = $('<span class=\"mpl-message\"/>');\n",
       "    nav_element.append(status_bar);\n",
       "    this.message = status_bar[0];\n",
       "}\n",
       "\n",
       "mpl.figure.prototype.request_resize = function(x_pixels, y_pixels) {\n",
       "    // Request matplotlib to resize the figure. Matplotlib will then trigger a resize in the client,\n",
       "    // which will in turn request a refresh of the image.\n",
       "    this.send_message('resize', {'width': x_pixels, 'height': y_pixels});\n",
       "}\n",
       "\n",
       "mpl.figure.prototype.send_message = function(type, properties) {\n",
       "    properties['type'] = type;\n",
       "    properties['figure_id'] = this.id;\n",
       "    this.ws.send(JSON.stringify(properties));\n",
       "}\n",
       "\n",
       "mpl.figure.prototype.send_draw_message = function() {\n",
       "    if (!this.waiting) {\n",
       "        this.waiting = true;\n",
       "        this.ws.send(JSON.stringify({type: \"draw\", figure_id: this.id}));\n",
       "    }\n",
       "}\n",
       "\n",
       "\n",
       "mpl.figure.prototype.handle_save = function(fig, msg) {\n",
       "    var format_dropdown = fig.format_dropdown;\n",
       "    var format = format_dropdown.options[format_dropdown.selectedIndex].value;\n",
       "    fig.ondownload(fig, format);\n",
       "}\n",
       "\n",
       "\n",
       "mpl.figure.prototype.handle_resize = function(fig, msg) {\n",
       "    var size = msg['size'];\n",
       "    if (size[0] != fig.canvas.width || size[1] != fig.canvas.height) {\n",
       "        fig._resize_canvas(size[0], size[1]);\n",
       "        fig.send_message(\"refresh\", {});\n",
       "    };\n",
       "}\n",
       "\n",
       "mpl.figure.prototype.handle_rubberband = function(fig, msg) {\n",
       "    var x0 = msg['x0'] / mpl.ratio;\n",
       "    var y0 = (fig.canvas.height - msg['y0']) / mpl.ratio;\n",
       "    var x1 = msg['x1'] / mpl.ratio;\n",
       "    var y1 = (fig.canvas.height - msg['y1']) / mpl.ratio;\n",
       "    x0 = Math.floor(x0) + 0.5;\n",
       "    y0 = Math.floor(y0) + 0.5;\n",
       "    x1 = Math.floor(x1) + 0.5;\n",
       "    y1 = Math.floor(y1) + 0.5;\n",
       "    var min_x = Math.min(x0, x1);\n",
       "    var min_y = Math.min(y0, y1);\n",
       "    var width = Math.abs(x1 - x0);\n",
       "    var height = Math.abs(y1 - y0);\n",
       "\n",
       "    fig.rubberband_context.clearRect(\n",
       "        0, 0, fig.canvas.width, fig.canvas.height);\n",
       "\n",
       "    fig.rubberband_context.strokeRect(min_x, min_y, width, height);\n",
       "}\n",
       "\n",
       "mpl.figure.prototype.handle_figure_label = function(fig, msg) {\n",
       "    // Updates the figure title.\n",
       "    fig.header.textContent = msg['label'];\n",
       "}\n",
       "\n",
       "mpl.figure.prototype.handle_cursor = function(fig, msg) {\n",
       "    var cursor = msg['cursor'];\n",
       "    switch(cursor)\n",
       "    {\n",
       "    case 0:\n",
       "        cursor = 'pointer';\n",
       "        break;\n",
       "    case 1:\n",
       "        cursor = 'default';\n",
       "        break;\n",
       "    case 2:\n",
       "        cursor = 'crosshair';\n",
       "        break;\n",
       "    case 3:\n",
       "        cursor = 'move';\n",
       "        break;\n",
       "    }\n",
       "    fig.rubberband_canvas.style.cursor = cursor;\n",
       "}\n",
       "\n",
       "mpl.figure.prototype.handle_message = function(fig, msg) {\n",
       "    fig.message.textContent = msg['message'];\n",
       "}\n",
       "\n",
       "mpl.figure.prototype.handle_draw = function(fig, msg) {\n",
       "    // Request the server to send over a new figure.\n",
       "    fig.send_draw_message();\n",
       "}\n",
       "\n",
       "mpl.figure.prototype.handle_image_mode = function(fig, msg) {\n",
       "    fig.image_mode = msg['mode'];\n",
       "}\n",
       "\n",
       "mpl.figure.prototype.updated_canvas_event = function() {\n",
       "    // Called whenever the canvas gets updated.\n",
       "    this.send_message(\"ack\", {});\n",
       "}\n",
       "\n",
       "// A function to construct a web socket function for onmessage handling.\n",
       "// Called in the figure constructor.\n",
       "mpl.figure.prototype._make_on_message_function = function(fig) {\n",
       "    return function socket_on_message(evt) {\n",
       "        if (evt.data instanceof Blob) {\n",
       "            /* FIXME: We get \"Resource interpreted as Image but\n",
       "             * transferred with MIME type text/plain:\" errors on\n",
       "             * Chrome.  But how to set the MIME type?  It doesn't seem\n",
       "             * to be part of the websocket stream */\n",
       "            evt.data.type = \"image/png\";\n",
       "\n",
       "            /* Free the memory for the previous frames */\n",
       "            if (fig.imageObj.src) {\n",
       "                (window.URL || window.webkitURL).revokeObjectURL(\n",
       "                    fig.imageObj.src);\n",
       "            }\n",
       "\n",
       "            fig.imageObj.src = (window.URL || window.webkitURL).createObjectURL(\n",
       "                evt.data);\n",
       "            fig.updated_canvas_event();\n",
       "            fig.waiting = false;\n",
       "            return;\n",
       "        }\n",
       "        else if (typeof evt.data === 'string' && evt.data.slice(0, 21) == \"data:image/png;base64\") {\n",
       "            fig.imageObj.src = evt.data;\n",
       "            fig.updated_canvas_event();\n",
       "            fig.waiting = false;\n",
       "            return;\n",
       "        }\n",
       "\n",
       "        var msg = JSON.parse(evt.data);\n",
       "        var msg_type = msg['type'];\n",
       "\n",
       "        // Call the  \"handle_{type}\" callback, which takes\n",
       "        // the figure and JSON message as its only arguments.\n",
       "        try {\n",
       "            var callback = fig[\"handle_\" + msg_type];\n",
       "        } catch (e) {\n",
       "            console.log(\"No handler for the '\" + msg_type + \"' message type: \", msg);\n",
       "            return;\n",
       "        }\n",
       "\n",
       "        if (callback) {\n",
       "            try {\n",
       "                // console.log(\"Handling '\" + msg_type + \"' message: \", msg);\n",
       "                callback(fig, msg);\n",
       "            } catch (e) {\n",
       "                console.log(\"Exception inside the 'handler_\" + msg_type + \"' callback:\", e, e.stack, msg);\n",
       "            }\n",
       "        }\n",
       "    };\n",
       "}\n",
       "\n",
       "// from http://stackoverflow.com/questions/1114465/getting-mouse-location-in-canvas\n",
       "mpl.findpos = function(e) {\n",
       "    //this section is from http://www.quirksmode.org/js/events_properties.html\n",
       "    var targ;\n",
       "    if (!e)\n",
       "        e = window.event;\n",
       "    if (e.target)\n",
       "        targ = e.target;\n",
       "    else if (e.srcElement)\n",
       "        targ = e.srcElement;\n",
       "    if (targ.nodeType == 3) // defeat Safari bug\n",
       "        targ = targ.parentNode;\n",
       "\n",
       "    // jQuery normalizes the pageX and pageY\n",
       "    // pageX,Y are the mouse positions relative to the document\n",
       "    // offset() returns the position of the element relative to the document\n",
       "    var x = e.pageX - $(targ).offset().left;\n",
       "    var y = e.pageY - $(targ).offset().top;\n",
       "\n",
       "    return {\"x\": x, \"y\": y};\n",
       "};\n",
       "\n",
       "/*\n",
       " * return a copy of an object with only non-object keys\n",
       " * we need this to avoid circular references\n",
       " * http://stackoverflow.com/a/24161582/3208463\n",
       " */\n",
       "function simpleKeys (original) {\n",
       "  return Object.keys(original).reduce(function (obj, key) {\n",
       "    if (typeof original[key] !== 'object')\n",
       "        obj[key] = original[key]\n",
       "    return obj;\n",
       "  }, {});\n",
       "}\n",
       "\n",
       "mpl.figure.prototype.mouse_event = function(event, name) {\n",
       "    var canvas_pos = mpl.findpos(event)\n",
       "\n",
       "    if (name === 'button_press')\n",
       "    {\n",
       "        this.canvas.focus();\n",
       "        this.canvas_div.focus();\n",
       "    }\n",
       "\n",
       "    var x = canvas_pos.x * mpl.ratio;\n",
       "    var y = canvas_pos.y * mpl.ratio;\n",
       "\n",
       "    this.send_message(name, {x: x, y: y, button: event.button,\n",
       "                             step: event.step,\n",
       "                             guiEvent: simpleKeys(event)});\n",
       "\n",
       "    /* This prevents the web browser from automatically changing to\n",
       "     * the text insertion cursor when the button is pressed.  We want\n",
       "     * to control all of the cursor setting manually through the\n",
       "     * 'cursor' event from matplotlib */\n",
       "    event.preventDefault();\n",
       "    return false;\n",
       "}\n",
       "\n",
       "mpl.figure.prototype._key_event_extra = function(event, name) {\n",
       "    // Handle any extra behaviour associated with a key event\n",
       "}\n",
       "\n",
       "mpl.figure.prototype.key_event = function(event, name) {\n",
       "\n",
       "    // Prevent repeat events\n",
       "    if (name == 'key_press')\n",
       "    {\n",
       "        if (event.which === this._key)\n",
       "            return;\n",
       "        else\n",
       "            this._key = event.which;\n",
       "    }\n",
       "    if (name == 'key_release')\n",
       "        this._key = null;\n",
       "\n",
       "    var value = '';\n",
       "    if (event.ctrlKey && event.which != 17)\n",
       "        value += \"ctrl+\";\n",
       "    if (event.altKey && event.which != 18)\n",
       "        value += \"alt+\";\n",
       "    if (event.shiftKey && event.which != 16)\n",
       "        value += \"shift+\";\n",
       "\n",
       "    value += 'k';\n",
       "    value += event.which.toString();\n",
       "\n",
       "    this._key_event_extra(event, name);\n",
       "\n",
       "    this.send_message(name, {key: value,\n",
       "                             guiEvent: simpleKeys(event)});\n",
       "    return false;\n",
       "}\n",
       "\n",
       "mpl.figure.prototype.toolbar_button_onclick = function(name) {\n",
       "    if (name == 'download') {\n",
       "        this.handle_save(this, null);\n",
       "    } else {\n",
       "        this.send_message(\"toolbar_button\", {name: name});\n",
       "    }\n",
       "};\n",
       "\n",
       "mpl.figure.prototype.toolbar_button_onmouseover = function(tooltip) {\n",
       "    this.message.textContent = tooltip;\n",
       "};\n",
       "mpl.toolbar_items = [[\"Home\", \"Reset original view\", \"fa fa-home icon-home\", \"home\"], [\"Back\", \"Back to previous view\", \"fa fa-arrow-left icon-arrow-left\", \"back\"], [\"Forward\", \"Forward to next view\", \"fa fa-arrow-right icon-arrow-right\", \"forward\"], [\"\", \"\", \"\", \"\"], [\"Pan\", \"Pan axes with left mouse, zoom with right\", \"fa fa-arrows icon-move\", \"pan\"], [\"Zoom\", \"Zoom to rectangle\", \"fa fa-square-o icon-check-empty\", \"zoom\"], [\"\", \"\", \"\", \"\"], [\"Download\", \"Download plot\", \"fa fa-floppy-o icon-save\", \"download\"]];\n",
       "\n",
       "mpl.extensions = [\"eps\", \"jpeg\", \"pdf\", \"png\", \"ps\", \"raw\", \"svg\", \"tif\"];\n",
       "\n",
       "mpl.default_extension = \"png\";var comm_websocket_adapter = function(comm) {\n",
       "    // Create a \"websocket\"-like object which calls the given IPython comm\n",
       "    // object with the appropriate methods. Currently this is a non binary\n",
       "    // socket, so there is still some room for performance tuning.\n",
       "    var ws = {};\n",
       "\n",
       "    ws.close = function() {\n",
       "        comm.close()\n",
       "    };\n",
       "    ws.send = function(m) {\n",
       "        //console.log('sending', m);\n",
       "        comm.send(m);\n",
       "    };\n",
       "    // Register the callback with on_msg.\n",
       "    comm.on_msg(function(msg) {\n",
       "        //console.log('receiving', msg['content']['data'], msg);\n",
       "        // Pass the mpl event to the overridden (by mpl) onmessage function.\n",
       "        ws.onmessage(msg['content']['data'])\n",
       "    });\n",
       "    return ws;\n",
       "}\n",
       "\n",
       "mpl.mpl_figure_comm = function(comm, msg) {\n",
       "    // This is the function which gets called when the mpl process\n",
       "    // starts-up an IPython Comm through the \"matplotlib\" channel.\n",
       "\n",
       "    var id = msg.content.data.id;\n",
       "    // Get hold of the div created by the display call when the Comm\n",
       "    // socket was opened in Python.\n",
       "    var element = $(\"#\" + id);\n",
       "    var ws_proxy = comm_websocket_adapter(comm)\n",
       "\n",
       "    function ondownload(figure, format) {\n",
       "        window.open(figure.imageObj.src);\n",
       "    }\n",
       "\n",
       "    var fig = new mpl.figure(id, ws_proxy,\n",
       "                           ondownload,\n",
       "                           element.get(0));\n",
       "\n",
       "    // Call onopen now - mpl needs it, as it is assuming we've passed it a real\n",
       "    // web socket which is closed, not our websocket->open comm proxy.\n",
       "    ws_proxy.onopen();\n",
       "\n",
       "    fig.parent_element = element.get(0);\n",
       "    fig.cell_info = mpl.find_output_cell(\"<div id='\" + id + \"'></div>\");\n",
       "    if (!fig.cell_info) {\n",
       "        console.error(\"Failed to find cell for figure\", id, fig);\n",
       "        return;\n",
       "    }\n",
       "\n",
       "    var output_index = fig.cell_info[2]\n",
       "    var cell = fig.cell_info[0];\n",
       "\n",
       "};\n",
       "\n",
       "mpl.figure.prototype.handle_close = function(fig, msg) {\n",
       "    var width = fig.canvas.width/mpl.ratio\n",
       "    fig.root.unbind('remove')\n",
       "\n",
       "    // Update the output cell to use the data from the current canvas.\n",
       "    fig.push_to_output();\n",
       "    var dataURL = fig.canvas.toDataURL();\n",
       "    // Re-enable the keyboard manager in IPython - without this line, in FF,\n",
       "    // the notebook keyboard shortcuts fail.\n",
       "    IPython.keyboard_manager.enable()\n",
       "    $(fig.parent_element).html('<img src=\"' + dataURL + '\" width=\"' + width + '\">');\n",
       "    fig.close_ws(fig, msg);\n",
       "}\n",
       "\n",
       "mpl.figure.prototype.close_ws = function(fig, msg){\n",
       "    fig.send_message('closing', msg);\n",
       "    // fig.ws.close()\n",
       "}\n",
       "\n",
       "mpl.figure.prototype.push_to_output = function(remove_interactive) {\n",
       "    // Turn the data on the canvas into data in the output cell.\n",
       "    var width = this.canvas.width/mpl.ratio\n",
       "    var dataURL = this.canvas.toDataURL();\n",
       "    this.cell_info[1]['text/html'] = '<img src=\"' + dataURL + '\" width=\"' + width + '\">';\n",
       "}\n",
       "\n",
       "mpl.figure.prototype.updated_canvas_event = function() {\n",
       "    // Tell IPython that the notebook contents must change.\n",
       "    IPython.notebook.set_dirty(true);\n",
       "    this.send_message(\"ack\", {});\n",
       "    var fig = this;\n",
       "    // Wait a second, then push the new image to the DOM so\n",
       "    // that it is saved nicely (might be nice to debounce this).\n",
       "    setTimeout(function () { fig.push_to_output() }, 1000);\n",
       "}\n",
       "\n",
       "mpl.figure.prototype._init_toolbar = function() {\n",
       "    var fig = this;\n",
       "\n",
       "    var nav_element = $('<div/>')\n",
       "    nav_element.attr('style', 'width: 100%');\n",
       "    this.root.append(nav_element);\n",
       "\n",
       "    // Define a callback function for later on.\n",
       "    function toolbar_event(event) {\n",
       "        return fig.toolbar_button_onclick(event['data']);\n",
       "    }\n",
       "    function toolbar_mouse_event(event) {\n",
       "        return fig.toolbar_button_onmouseover(event['data']);\n",
       "    }\n",
       "\n",
       "    for(var toolbar_ind in mpl.toolbar_items){\n",
       "        var name = mpl.toolbar_items[toolbar_ind][0];\n",
       "        var tooltip = mpl.toolbar_items[toolbar_ind][1];\n",
       "        var image = mpl.toolbar_items[toolbar_ind][2];\n",
       "        var method_name = mpl.toolbar_items[toolbar_ind][3];\n",
       "\n",
       "        if (!name) { continue; };\n",
       "\n",
       "        var button = $('<button class=\"btn btn-default\" href=\"#\" title=\"' + name + '\"><i class=\"fa ' + image + ' fa-lg\"></i></button>');\n",
       "        button.click(method_name, toolbar_event);\n",
       "        button.mouseover(tooltip, toolbar_mouse_event);\n",
       "        nav_element.append(button);\n",
       "    }\n",
       "\n",
       "    // Add the status bar.\n",
       "    var status_bar = $('<span class=\"mpl-message\" style=\"text-align:right; float: right;\"/>');\n",
       "    nav_element.append(status_bar);\n",
       "    this.message = status_bar[0];\n",
       "\n",
       "    // Add the close button to the window.\n",
       "    var buttongrp = $('<div class=\"btn-group inline pull-right\"></div>');\n",
       "    var button = $('<button class=\"btn btn-mini btn-primary\" href=\"#\" title=\"Stop Interaction\"><i class=\"fa fa-power-off icon-remove icon-large\"></i></button>');\n",
       "    button.click(function (evt) { fig.handle_close(fig, {}); } );\n",
       "    button.mouseover('Stop Interaction', toolbar_mouse_event);\n",
       "    buttongrp.append(button);\n",
       "    var titlebar = this.root.find($('.ui-dialog-titlebar'));\n",
       "    titlebar.prepend(buttongrp);\n",
       "}\n",
       "\n",
       "mpl.figure.prototype._root_extra_style = function(el){\n",
       "    var fig = this\n",
       "    el.on(\"remove\", function(){\n",
       "\tfig.close_ws(fig, {});\n",
       "    });\n",
       "}\n",
       "\n",
       "mpl.figure.prototype._canvas_extra_style = function(el){\n",
       "    // this is important to make the div 'focusable\n",
       "    el.attr('tabindex', 0)\n",
       "    // reach out to IPython and tell the keyboard manager to turn it's self\n",
       "    // off when our div gets focus\n",
       "\n",
       "    // location in version 3\n",
       "    if (IPython.notebook.keyboard_manager) {\n",
       "        IPython.notebook.keyboard_manager.register_events(el);\n",
       "    }\n",
       "    else {\n",
       "        // location in version 2\n",
       "        IPython.keyboard_manager.register_events(el);\n",
       "    }\n",
       "\n",
       "}\n",
       "\n",
       "mpl.figure.prototype._key_event_extra = function(event, name) {\n",
       "    var manager = IPython.notebook.keyboard_manager;\n",
       "    if (!manager)\n",
       "        manager = IPython.keyboard_manager;\n",
       "\n",
       "    // Check for shift+enter\n",
       "    if (event.shiftKey && event.which == 13) {\n",
       "        this.canvas_div.blur();\n",
       "        event.shiftKey = false;\n",
       "        // Send a \"J\" for go to next cell\n",
       "        event.which = 74;\n",
       "        event.keyCode = 74;\n",
       "        manager.command_mode();\n",
       "        manager.handle_keydown(event);\n",
       "    }\n",
       "}\n",
       "\n",
       "mpl.figure.prototype.handle_save = function(fig, msg) {\n",
       "    fig.ondownload(fig, null);\n",
       "}\n",
       "\n",
       "\n",
       "mpl.find_output_cell = function(html_output) {\n",
       "    // Return the cell and output element which can be found *uniquely* in the notebook.\n",
       "    // Note - this is a bit hacky, but it is done because the \"notebook_saving.Notebook\"\n",
       "    // IPython event is triggered only after the cells have been serialised, which for\n",
       "    // our purposes (turning an active figure into a static one), is too late.\n",
       "    var cells = IPython.notebook.get_cells();\n",
       "    var ncells = cells.length;\n",
       "    for (var i=0; i<ncells; i++) {\n",
       "        var cell = cells[i];\n",
       "        if (cell.cell_type === 'code'){\n",
       "            for (var j=0; j<cell.output_area.outputs.length; j++) {\n",
       "                var data = cell.output_area.outputs[j];\n",
       "                if (data.data) {\n",
       "                    // IPython >= 3 moved mimebundle to data attribute of output\n",
       "                    data = data.data;\n",
       "                }\n",
       "                if (data['text/html'] == html_output) {\n",
       "                    return [cell, data, j];\n",
       "                }\n",
       "            }\n",
       "        }\n",
       "    }\n",
       "}\n",
       "\n",
       "// Register the function which deals with the matplotlib target/channel.\n",
       "// The kernel may be null if the page has been refreshed.\n",
       "if (IPython.notebook.kernel != null) {\n",
       "    IPython.notebook.kernel.comm_manager.register_target('matplotlib', mpl.mpl_figure_comm);\n",
       "}\n"
      ],
      "text/plain": [
       "<IPython.core.display.Javascript object>"
      ]
     },
     "metadata": {},
     "output_type": "display_data"
    },
    {
     "data": {
      "text/html": [
       "<img src=\"data:image/png;base64,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\" width=\"432\">"
      ],
      "text/plain": [
       "<IPython.core.display.HTML object>"
      ]
     },
     "metadata": {},
     "output_type": "display_data"
    },
    {
     "data": {
      "text/plain": [
       "[<matplotlib.lines.Line2D at 0x7f00d4b66eb8>]"
      ]
     },
     "execution_count": 167,
     "metadata": {},
     "output_type": "execute_result"
    }
   ],
   "source": [
    "%matplotlib notebook\n",
    "plt.plot(dfPredict[\"real\"].values,lw=10)\n",
    "plt.plot(dfPredict[\"nnLabel\"].values,color = 'r')\n",
    "plt.plot(dfPredict[\"Filtered\"].values,color = 'k')"
   ]
  },
  {
   "cell_type": "code",
   "execution_count": 8,
   "metadata": {},
   "outputs": [
    {
     "data": {
      "image/png": "[encoded data removed]",
      "text/plain": [
       "<Figure size 1080x792 with 9 Axes>"
      ]
     },
     "metadata": {
      "needs_background": "light"
     },
     "output_type": "display_data"
    }
   ],
   "source": [
    "interp.plot_top_losses(9, figsize=(15,11))"
   ]
  },
  {
   "cell_type": "code",
   "execution_count": null,
   "metadata": {},
   "outputs": [],
   "source": [
    "doc(interp.plot_top_losses)"
   ]
  },
  {
   "cell_type": "code",
   "execution_count": 9,
   "metadata": {},
   "outputs": [
    {
     "data": {
      "image/png": "[encoded data removed]",
      "text/plain": [
       "<Figure size 480x480 with 1 Axes>"
      ]
     },
     "metadata": {
      "needs_background": "light"
     },
     "output_type": "display_data"
    }
   ],
   "source": [
    "interp.plot_confusion_matrix(figsize=(8,8), dpi=60)"
   ]
  },
  {
   "cell_type": "code",
   "execution_count": 30,
   "metadata": {},
   "outputs": [
    {
     "data": {
      "text/plain": [
       "[('1', '0', 1057), ('0', '1', 615)]"
      ]
     },
     "execution_count": 30,
     "metadata": {},
     "output_type": "execute_result"
    }
   ],
   "source": [
    "interp.most_confused(min_val=2)"
   ]
  },
  {
   "cell_type": "markdown",
   "metadata": {},
   "source": [
    "## Unfreezing, fine-tuning, and learning rates"
   ]
  },
  {
   "cell_type": "markdown",
   "metadata": {},
   "source": [
    "Since our model is working as we expect it to, we will *unfreeze* our model and train some more."
   ]
  },
  {
   "cell_type": "code",
   "execution_count": 19,
   "metadata": {},
   "outputs": [],
   "source": [
    "learn.unfreeze()"
   ]
  },
  {
   "cell_type": "code",
   "execution_count": 20,
   "metadata": {},
   "outputs": [
    {
     "data": {
      "text/html": [],
      "text/plain": [
       "<IPython.core.display.HTML object>"
      ]
     },
     "metadata": {},
     "output_type": "display_data"
    },
    {
     "name": "stdout",
     "output_type": "stream",
     "text": [
      "LR Finder is complete, type {learner_name}.recorder.plot() to see the graph.\n"
     ]
    }
   ],
   "source": [
    "learn.lr_find()"
   ]
  },
  {
   "cell_type": "raw",
   "metadata": {},
   "source": []
  },
  {
   "cell_type": "code",
   "execution_count": 21,
   "metadata": {},
   "outputs": [
    {
     "name": "stdout",
     "output_type": "stream",
     "text": [
      "Min numerical gradient: 9.12E-07\n"
     ]
    },
    {
     "data": {
      "image/png": "[encoded data removed]",
      "text/plain": [
       "<Figure size 432x288 with 1 Axes>"
      ]
     },
     "metadata": {
      "needs_background": "light"
     },
     "output_type": "display_data"
    }
   ],
   "source": [
    "learn.recorder.plot()"
   ]
  },
  {
   "cell_type": "code",
   "execution_count": 23,
   "metadata": {},
   "outputs": [
    {
     "data": {
      "text/html": [
       "Total time: 05:05 <p><table style='width:300px; margin-bottom:10px'>\n",
       "  <tr>\n",
       "    <th>epoch</th>\n",
       "    <th>train_loss</th>\n",
       "    <th>valid_loss</th>\n",
       "    <th>error_rate</th>\n",
       "  </tr>\n",
       "  <tr>\n",
       "    <th>1</th>\n",
       "    <th>0.210339</th>\n",
       "    <th>0.185146</th>\n",
       "    <th>0.068126</th>\n",
       "  </tr>\n",
       "  <tr>\n",
       "    <th>2</th>\n",
       "    <th>0.199556</th>\n",
       "    <th>0.186155</th>\n",
       "    <th>0.068790</th>\n",
       "  </tr>\n",
       "  <tr>\n",
       "    <th>3</th>\n",
       "    <th>0.183420</th>\n",
       "    <th>0.188252</th>\n",
       "    <th>0.068416</th>\n",
       "  </tr>\n",
       "</table>\n"
      ],
      "text/plain": [
       "<IPython.core.display.HTML object>"
      ]
     },
     "metadata": {},
     "output_type": "display_data"
    }
   ],
   "source": [
    "learn.fit_one_cycle(3,max_lr=slice(1e-6,1e-4))"
   ]
  },
  {
   "cell_type": "code",
   "execution_count": 6,
   "metadata": {},
   "outputs": [],
   "source": [
    "learn.load('stage-1');"
   ]
  },
  {
   "cell_type": "code",
   "execution_count": 25,
   "metadata": {},
   "outputs": [
    {
     "data": {
      "text/html": [],
      "text/plain": [
       "<IPython.core.display.HTML object>"
      ]
     },
     "metadata": {},
     "output_type": "display_data"
    },
    {
     "name": "stdout",
     "output_type": "stream",
     "text": [
      "LR Finder is complete, type {learner_name}.recorder.plot() to see the graph.\n"
     ]
    }
   ],
   "source": [
    "learn.lr_find()"
   ]
  },
  {
   "cell_type": "code",
   "execution_count": 26,
   "metadata": {},
   "outputs": [
    {
     "name": "stdout",
     "output_type": "stream",
     "text": [
      "Min numerical gradient: 2.29E-06\n"
     ]
    },
    {
     "data": {
      "image/png": "[encoded data removed]",
      "text/plain": [
       "<Figure size 432x288 with 1 Axes>"
      ]
     },
     "metadata": {
      "needs_background": "light"
     },
     "output_type": "display_data"
    }
   ],
   "source": [
    "learn.recorder.plot()"
   ]
  },
  {
   "cell_type": "code",
   "execution_count": null,
   "metadata": {},
   "outputs": [
    {
     "data": {
      "text/html": [
       "Total time: 00:53 <p><table style='width:300px; margin-bottom:10px'>\n",
       "  <tr>\n",
       "    <th>epoch</th>\n",
       "    <th>train_loss</th>\n",
       "    <th>valid_loss</th>\n",
       "    <th>error_rate</th>\n",
       "  </tr>\n",
       "  <tr>\n",
       "    <th>1</th>\n",
       "    <th>0.242544</th>\n",
       "    <th>0.208489</th>\n",
       "    <th>0.067659</th>\n",
       "  </tr>\n",
       "  <tr>\n",
       "    <th>2</th>\n",
       "    <th>0.206940</th>\n",
       "    <th>0.204482</th>\n",
       "    <th>0.062246</th>\n",
       "  </tr>\n",
       "</table>\n"
      ],
      "text/plain": [
       "<IPython.core.display.HTML object>"
      ]
     },
     "metadata": {},
     "output_type": "display_data"
    }
   ],
   "source": [
    "learn.unfreeze()\n",
    "learn.fit_one_cycle(2, max_lr=slice(1e-6,1e-4))"
   ]
  },
  {
   "cell_type": "markdown",
   "metadata": {},
   "source": [
    "That's a pretty accurate model!"
   ]
  },
  {
   "cell_type": "markdown",
   "metadata": {},
   "source": [
    "## Training: resnet50"
   ]
  },
  {
   "cell_type": "markdown",
   "metadata": {},
   "source": [
    "Now we will train in the same way as before but with one caveat: instead of using resnet34 as our backbone we will use resnet50 (resnet34 is a 34 layer residual network while resnet50 has 50 layers. It will be explained later in the course and you can learn the details in the [resnet paper](https://arxiv.org/pdf/1512.03385.pdf)).\n",
    "\n",
    "Basically, resnet50 usually performs better because it is a deeper network with more parameters. Let's see if we can achieve a higher performance here. To help it along, let's us use larger images too, since that way the network can see more detail. We reduce the batch size a bit since otherwise this larger network will require more GPU memory."
   ]
  },
  {
   "cell_type": "code",
   "execution_count": null,
   "metadata": {},
   "outputs": [],
   "source": [
    "data = ImageDataBunch.from_name_re(path_img, fnames, pat, ds_tfms=get_transforms(),\n",
    "                                   size=299, bs=bs//2).normalize(imagenet_stats)"
   ]
  },
  {
   "cell_type": "code",
   "execution_count": 13,
   "metadata": {},
   "outputs": [],
   "source": [
    "learn = create_cnn(data, models.resnet50, metrics=error_rate)"
   ]
  },
  {
   "cell_type": "code",
   "execution_count": 42,
   "metadata": {},
   "outputs": [
    {
     "data": {
      "text/html": [],
      "text/plain": [
       "<IPython.core.display.HTML object>"
      ]
     },
     "metadata": {},
     "output_type": "display_data"
    },
    {
     "name": "stdout",
     "output_type": "stream",
     "text": [
      "LR Finder is complete, type {learner_name}.recorder.plot() to see the graph.\n"
     ]
    },
    {
     "data": {
      "application/javascript": [
       "/* Put everything inside the global mpl namespace */\n",
       "window.mpl = {};\n",
       "\n",
       "\n",
       "mpl.get_websocket_type = function() {\n",
       "    if (typeof(WebSocket) !== 'undefined') {\n",
       "        return WebSocket;\n",
       "    } else if (typeof(MozWebSocket) !== 'undefined') {\n",
       "        return MozWebSocket;\n",
       "    } else {\n",
       "        alert('Your browser does not have WebSocket support.' +\n",
       "              'Please try Chrome, Safari or Firefox ≥ 6. ' +\n",
       "              'Firefox 4 and 5 are also supported but you ' +\n",
       "              'have to enable WebSockets in about:config.');\n",
       "    };\n",
       "}\n",
       "\n",
       "mpl.figure = function(figure_id, websocket, ondownload, parent_element) {\n",
       "    this.id = figure_id;\n",
       "\n",
       "    this.ws = websocket;\n",
       "\n",
       "    this.supports_binary = (this.ws.binaryType != undefined);\n",
       "\n",
       "    if (!this.supports_binary) {\n",
       "        var warnings = document.getElementById(\"mpl-warnings\");\n",
       "        if (warnings) {\n",
       "            warnings.style.display = 'block';\n",
       "            warnings.textContent = (\n",
       "                \"This browser does not support binary websocket messages. \" +\n",
       "                    \"Performance may be slow.\");\n",
       "        }\n",
       "    }\n",
       "\n",
       "    this.imageObj = new Image();\n",
       "\n",
       "    this.context = undefined;\n",
       "    this.message = undefined;\n",
       "    this.canvas = undefined;\n",
       "    this.rubberband_canvas = undefined;\n",
       "    this.rubberband_context = undefined;\n",
       "    this.format_dropdown = undefined;\n",
       "\n",
       "    this.image_mode = 'full';\n",
       "\n",
       "    this.root = $('<div/>');\n",
       "    this._root_extra_style(this.root)\n",
       "    this.root.attr('style', 'display: inline-block');\n",
       "\n",
       "    $(parent_element).append(this.root);\n",
       "\n",
       "    this._init_header(this);\n",
       "    this._init_canvas(this);\n",
       "    this._init_toolbar(this);\n",
       "\n",
       "    var fig = this;\n",
       "\n",
       "    this.waiting = false;\n",
       "\n",
       "    this.ws.onopen =  function () {\n",
       "            fig.send_message(\"supports_binary\", {value: fig.supports_binary});\n",
       "            fig.send_message(\"send_image_mode\", {});\n",
       "            if (mpl.ratio != 1) {\n",
       "                fig.send_message(\"set_dpi_ratio\", {'dpi_ratio': mpl.ratio});\n",
       "            }\n",
       "            fig.send_message(\"refresh\", {});\n",
       "        }\n",
       "\n",
       "    this.imageObj.onload = function() {\n",
       "            if (fig.image_mode == 'full') {\n",
       "                // Full images could contain transparency (where diff images\n",
       "                // almost always do), so we need to clear the canvas so that\n",
       "                // there is no ghosting.\n",
       "                fig.context.clearRect(0, 0, fig.canvas.width, fig.canvas.height);\n",
       "            }\n",
       "            fig.context.drawImage(fig.imageObj, 0, 0);\n",
       "        };\n",
       "\n",
       "    this.imageObj.onunload = function() {\n",
       "        fig.ws.close();\n",
       "    }\n",
       "\n",
       "    this.ws.onmessage = this._make_on_message_function(this);\n",
       "\n",
       "    this.ondownload = ondownload;\n",
       "}\n",
       "\n",
       "mpl.figure.prototype._init_header = function() {\n",
       "    var titlebar = $(\n",
       "        '<div class=\"ui-dialog-titlebar ui-widget-header ui-corner-all ' +\n",
       "        'ui-helper-clearfix\"/>');\n",
       "    var titletext = $(\n",
       "        '<div class=\"ui-dialog-title\" style=\"width: 100%; ' +\n",
       "        'text-align: center; padding: 3px;\"/>');\n",
       "    titlebar.append(titletext)\n",
       "    this.root.append(titlebar);\n",
       "    this.header = titletext[0];\n",
       "}\n",
       "\n",
       "\n",
       "\n",
       "mpl.figure.prototype._canvas_extra_style = function(canvas_div) {\n",
       "\n",
       "}\n",
       "\n",
       "\n",
       "mpl.figure.prototype._root_extra_style = function(canvas_div) {\n",
       "\n",
       "}\n",
       "\n",
       "mpl.figure.prototype._init_canvas = function() {\n",
       "    var fig = this;\n",
       "\n",
       "    var canvas_div = $('<div/>');\n",
       "\n",
       "    canvas_div.attr('style', 'position: relative; clear: both; outline: 0');\n",
       "\n",
       "    function canvas_keyboard_event(event) {\n",
       "        return fig.key_event(event, event['data']);\n",
       "    }\n",
       "\n",
       "    canvas_div.keydown('key_press', canvas_keyboard_event);\n",
       "    canvas_div.keyup('key_release', canvas_keyboard_event);\n",
       "    this.canvas_div = canvas_div\n",
       "    this._canvas_extra_style(canvas_div)\n",
       "    this.root.append(canvas_div);\n",
       "\n",
       "    var canvas = $('<canvas/>');\n",
       "    canvas.addClass('mpl-canvas');\n",
       "    canvas.attr('style', \"left: 0; top: 0; z-index: 0; outline: 0\")\n",
       "\n",
       "    this.canvas = canvas[0];\n",
       "    this.context = canvas[0].getContext(\"2d\");\n",
       "\n",
       "    var backingStore = this.context.backingStorePixelRatio ||\n",
       "\tthis.context.webkitBackingStorePixelRatio ||\n",
       "\tthis.context.mozBackingStorePixelRatio ||\n",
       "\tthis.context.msBackingStorePixelRatio ||\n",
       "\tthis.context.oBackingStorePixelRatio ||\n",
       "\tthis.context.backingStorePixelRatio || 1;\n",
       "\n",
       "    mpl.ratio = (window.devicePixelRatio || 1) / backingStore;\n",
       "\n",
       "    var rubberband = $('<canvas/>');\n",
       "    rubberband.attr('style', \"position: absolute; left: 0; top: 0; z-index: 1;\")\n",
       "\n",
       "    var pass_mouse_events = true;\n",
       "\n",
       "    canvas_div.resizable({\n",
       "        start: function(event, ui) {\n",
       "            pass_mouse_events = false;\n",
       "        },\n",
       "        resize: function(event, ui) {\n",
       "            fig.request_resize(ui.size.width, ui.size.height);\n",
       "        },\n",
       "        stop: function(event, ui) {\n",
       "            pass_mouse_events = true;\n",
       "            fig.request_resize(ui.size.width, ui.size.height);\n",
       "        },\n",
       "    });\n",
       "\n",
       "    function mouse_event_fn(event) {\n",
       "        if (pass_mouse_events)\n",
       "            return fig.mouse_event(event, event['data']);\n",
       "    }\n",
       "\n",
       "    rubberband.mousedown('button_press', mouse_event_fn);\n",
       "    rubberband.mouseup('button_release', mouse_event_fn);\n",
       "    // Throttle sequential mouse events to 1 every 20ms.\n",
       "    rubberband.mousemove('motion_notify', mouse_event_fn);\n",
       "\n",
       "    rubberband.mouseenter('figure_enter', mouse_event_fn);\n",
       "    rubberband.mouseleave('figure_leave', mouse_event_fn);\n",
       "\n",
       "    canvas_div.on(\"wheel\", function (event) {\n",
       "        event = event.originalEvent;\n",
       "        event['data'] = 'scroll'\n",
       "        if (event.deltaY < 0) {\n",
       "            event.step = 1;\n",
       "        } else {\n",
       "            event.step = -1;\n",
       "        }\n",
       "        mouse_event_fn(event);\n",
       "    });\n",
       "\n",
       "    canvas_div.append(canvas);\n",
       "    canvas_div.append(rubberband);\n",
       "\n",
       "    this.rubberband = rubberband;\n",
       "    this.rubberband_canvas = rubberband[0];\n",
       "    this.rubberband_context = rubberband[0].getContext(\"2d\");\n",
       "    this.rubberband_context.strokeStyle = \"#000000\";\n",
       "\n",
       "    this._resize_canvas = function(width, height) {\n",
       "        // Keep the size of the canvas, canvas container, and rubber band\n",
       "        // canvas in synch.\n",
       "        canvas_div.css('width', width)\n",
       "        canvas_div.css('height', height)\n",
       "\n",
       "        canvas.attr('width', width * mpl.ratio);\n",
       "        canvas.attr('height', height * mpl.ratio);\n",
       "        canvas.attr('style', 'width: ' + width + 'px; height: ' + height + 'px;');\n",
       "\n",
       "        rubberband.attr('width', width);\n",
       "        rubberband.attr('height', height);\n",
       "    }\n",
       "\n",
       "    // Set the figure to an initial 600x600px, this will subsequently be updated\n",
       "    // upon first draw.\n",
       "    this._resize_canvas(600, 600);\n",
       "\n",
       "    // Disable right mouse context menu.\n",
       "    $(this.rubberband_canvas).bind(\"contextmenu\",function(e){\n",
       "        return false;\n",
       "    });\n",
       "\n",
       "    function set_focus () {\n",
       "        canvas.focus();\n",
       "        canvas_div.focus();\n",
       "    }\n",
       "\n",
       "    window.setTimeout(set_focus, 100);\n",
       "}\n",
       "\n",
       "mpl.figure.prototype._init_toolbar = function() {\n",
       "    var fig = this;\n",
       "\n",
       "    var nav_element = $('<div/>')\n",
       "    nav_element.attr('style', 'width: 100%');\n",
       "    this.root.append(nav_element);\n",
       "\n",
       "    // Define a callback function for later on.\n",
       "    function toolbar_event(event) {\n",
       "        return fig.toolbar_button_onclick(event['data']);\n",
       "    }\n",
       "    function toolbar_mouse_event(event) {\n",
       "        return fig.toolbar_button_onmouseover(event['data']);\n",
       "    }\n",
       "\n",
       "    for(var toolbar_ind in mpl.toolbar_items) {\n",
       "        var name = mpl.toolbar_items[toolbar_ind][0];\n",
       "        var tooltip = mpl.toolbar_items[toolbar_ind][1];\n",
       "        var image = mpl.toolbar_items[toolbar_ind][2];\n",
       "        var method_name = mpl.toolbar_items[toolbar_ind][3];\n",
       "\n",
       "        if (!name) {\n",
       "            // put a spacer in here.\n",
       "            continue;\n",
       "        }\n",
       "        var button = $('<button/>');\n",
       "        button.addClass('ui-button ui-widget ui-state-default ui-corner-all ' +\n",
       "                        'ui-button-icon-only');\n",
       "        button.attr('role', 'button');\n",
       "        button.attr('aria-disabled', 'false');\n",
       "        button.click(method_name, toolbar_event);\n",
       "        button.mouseover(tooltip, toolbar_mouse_event);\n",
       "\n",
       "        var icon_img = $('<span/>');\n",
       "        icon_img.addClass('ui-button-icon-primary ui-icon');\n",
       "        icon_img.addClass(image);\n",
       "        icon_img.addClass('ui-corner-all');\n",
       "\n",
       "        var tooltip_span = $('<span/>');\n",
       "        tooltip_span.addClass('ui-button-text');\n",
       "        tooltip_span.html(tooltip);\n",
       "\n",
       "        button.append(icon_img);\n",
       "        button.append(tooltip_span);\n",
       "\n",
       "        nav_element.append(button);\n",
       "    }\n",
       "\n",
       "    var fmt_picker_span = $('<span/>');\n",
       "\n",
       "    var fmt_picker = $('<select/>');\n",
       "    fmt_picker.addClass('mpl-toolbar-option ui-widget ui-widget-content');\n",
       "    fmt_picker_span.append(fmt_picker);\n",
       "    nav_element.append(fmt_picker_span);\n",
       "    this.format_dropdown = fmt_picker[0];\n",
       "\n",
       "    for (var ind in mpl.extensions) {\n",
       "        var fmt = mpl.extensions[ind];\n",
       "        var option = $(\n",
       "            '<option/>', {selected: fmt === mpl.default_extension}).html(fmt);\n",
       "        fmt_picker.append(option)\n",
       "    }\n",
       "\n",
       "    // Add hover states to the ui-buttons\n",
       "    $( \".ui-button\" ).hover(\n",
       "        function() { $(this).addClass(\"ui-state-hover\");},\n",
       "        function() { $(this).removeClass(\"ui-state-hover\");}\n",
       "    );\n",
       "\n",
       "    var status_bar = $('<span class=\"mpl-message\"/>');\n",
       "    nav_element.append(status_bar);\n",
       "    this.message = status_bar[0];\n",
       "}\n",
       "\n",
       "mpl.figure.prototype.request_resize = function(x_pixels, y_pixels) {\n",
       "    // Request matplotlib to resize the figure. Matplotlib will then trigger a resize in the client,\n",
       "    // which will in turn request a refresh of the image.\n",
       "    this.send_message('resize', {'width': x_pixels, 'height': y_pixels});\n",
       "}\n",
       "\n",
       "mpl.figure.prototype.send_message = function(type, properties) {\n",
       "    properties['type'] = type;\n",
       "    properties['figure_id'] = this.id;\n",
       "    this.ws.send(JSON.stringify(properties));\n",
       "}\n",
       "\n",
       "mpl.figure.prototype.send_draw_message = function() {\n",
       "    if (!this.waiting) {\n",
       "        this.waiting = true;\n",
       "        this.ws.send(JSON.stringify({type: \"draw\", figure_id: this.id}));\n",
       "    }\n",
       "}\n",
       "\n",
       "\n",
       "mpl.figure.prototype.handle_save = function(fig, msg) {\n",
       "    var format_dropdown = fig.format_dropdown;\n",
       "    var format = format_dropdown.options[format_dropdown.selectedIndex].value;\n",
       "    fig.ondownload(fig, format);\n",
       "}\n",
       "\n",
       "\n",
       "mpl.figure.prototype.handle_resize = function(fig, msg) {\n",
       "    var size = msg['size'];\n",
       "    if (size[0] != fig.canvas.width || size[1] != fig.canvas.height) {\n",
       "        fig._resize_canvas(size[0], size[1]);\n",
       "        fig.send_message(\"refresh\", {});\n",
       "    };\n",
       "}\n",
       "\n",
       "mpl.figure.prototype.handle_rubberband = function(fig, msg) {\n",
       "    var x0 = msg['x0'] / mpl.ratio;\n",
       "    var y0 = (fig.canvas.height - msg['y0']) / mpl.ratio;\n",
       "    var x1 = msg['x1'] / mpl.ratio;\n",
       "    var y1 = (fig.canvas.height - msg['y1']) / mpl.ratio;\n",
       "    x0 = Math.floor(x0) + 0.5;\n",
       "    y0 = Math.floor(y0) + 0.5;\n",
       "    x1 = Math.floor(x1) + 0.5;\n",
       "    y1 = Math.floor(y1) + 0.5;\n",
       "    var min_x = Math.min(x0, x1);\n",
       "    var min_y = Math.min(y0, y1);\n",
       "    var width = Math.abs(x1 - x0);\n",
       "    var height = Math.abs(y1 - y0);\n",
       "\n",
       "    fig.rubberband_context.clearRect(\n",
       "        0, 0, fig.canvas.width, fig.canvas.height);\n",
       "\n",
       "    fig.rubberband_context.strokeRect(min_x, min_y, width, height);\n",
       "}\n",
       "\n",
       "mpl.figure.prototype.handle_figure_label = function(fig, msg) {\n",
       "    // Updates the figure title.\n",
       "    fig.header.textContent = msg['label'];\n",
       "}\n",
       "\n",
       "mpl.figure.prototype.handle_cursor = function(fig, msg) {\n",
       "    var cursor = msg['cursor'];\n",
       "    switch(cursor)\n",
       "    {\n",
       "    case 0:\n",
       "        cursor = 'pointer';\n",
       "        break;\n",
       "    case 1:\n",
       "        cursor = 'default';\n",
       "        break;\n",
       "    case 2:\n",
       "        cursor = 'crosshair';\n",
       "        break;\n",
       "    case 3:\n",
       "        cursor = 'move';\n",
       "        break;\n",
       "    }\n",
       "    fig.rubberband_canvas.style.cursor = cursor;\n",
       "}\n",
       "\n",
       "mpl.figure.prototype.handle_message = function(fig, msg) {\n",
       "    fig.message.textContent = msg['message'];\n",
       "}\n",
       "\n",
       "mpl.figure.prototype.handle_draw = function(fig, msg) {\n",
       "    // Request the server to send over a new figure.\n",
       "    fig.send_draw_message();\n",
       "}\n",
       "\n",
       "mpl.figure.prototype.handle_image_mode = function(fig, msg) {\n",
       "    fig.image_mode = msg['mode'];\n",
       "}\n",
       "\n",
       "mpl.figure.prototype.updated_canvas_event = function() {\n",
       "    // Called whenever the canvas gets updated.\n",
       "    this.send_message(\"ack\", {});\n",
       "}\n",
       "\n",
       "// A function to construct a web socket function for onmessage handling.\n",
       "// Called in the figure constructor.\n",
       "mpl.figure.prototype._make_on_message_function = function(fig) {\n",
       "    return function socket_on_message(evt) {\n",
       "        if (evt.data instanceof Blob) {\n",
       "            /* FIXME: We get \"Resource interpreted as Image but\n",
       "             * transferred with MIME type text/plain:\" errors on\n",
       "             * Chrome.  But how to set the MIME type?  It doesn't seem\n",
       "             * to be part of the websocket stream */\n",
       "            evt.data.type = \"image/png\";\n",
       "\n",
       "            /* Free the memory for the previous frames */\n",
       "            if (fig.imageObj.src) {\n",
       "                (window.URL || window.webkitURL).revokeObjectURL(\n",
       "                    fig.imageObj.src);\n",
       "            }\n",
       "\n",
       "            fig.imageObj.src = (window.URL || window.webkitURL).createObjectURL(\n",
       "                evt.data);\n",
       "            fig.updated_canvas_event();\n",
       "            fig.waiting = false;\n",
       "            return;\n",
       "        }\n",
       "        else if (typeof evt.data === 'string' && evt.data.slice(0, 21) == \"data:image/png;base64\") {\n",
       "            fig.imageObj.src = evt.data;\n",
       "            fig.updated_canvas_event();\n",
       "            fig.waiting = false;\n",
       "            return;\n",
       "        }\n",
       "\n",
       "        var msg = JSON.parse(evt.data);\n",
       "        var msg_type = msg['type'];\n",
       "\n",
       "        // Call the  \"handle_{type}\" callback, which takes\n",
       "        // the figure and JSON message as its only arguments.\n",
       "        try {\n",
       "            var callback = fig[\"handle_\" + msg_type];\n",
       "        } catch (e) {\n",
       "            console.log(\"No handler for the '\" + msg_type + \"' message type: \", msg);\n",
       "            return;\n",
       "        }\n",
       "\n",
       "        if (callback) {\n",
       "            try {\n",
       "                // console.log(\"Handling '\" + msg_type + \"' message: \", msg);\n",
       "                callback(fig, msg);\n",
       "            } catch (e) {\n",
       "                console.log(\"Exception inside the 'handler_\" + msg_type + \"' callback:\", e, e.stack, msg);\n",
       "            }\n",
       "        }\n",
       "    };\n",
       "}\n",
       "\n",
       "// from http://stackoverflow.com/questions/1114465/getting-mouse-location-in-canvas\n",
       "mpl.findpos = function(e) {\n",
       "    //this section is from http://www.quirksmode.org/js/events_properties.html\n",
       "    var targ;\n",
       "    if (!e)\n",
       "        e = window.event;\n",
       "    if (e.target)\n",
       "        targ = e.target;\n",
       "    else if (e.srcElement)\n",
       "        targ = e.srcElement;\n",
       "    if (targ.nodeType == 3) // defeat Safari bug\n",
       "        targ = targ.parentNode;\n",
       "\n",
       "    // jQuery normalizes the pageX and pageY\n",
       "    // pageX,Y are the mouse positions relative to the document\n",
       "    // offset() returns the position of the element relative to the document\n",
       "    var x = e.pageX - $(targ).offset().left;\n",
       "    var y = e.pageY - $(targ).offset().top;\n",
       "\n",
       "    return {\"x\": x, \"y\": y};\n",
       "};\n",
       "\n",
       "/*\n",
       " * return a copy of an object with only non-object keys\n",
       " * we need this to avoid circular references\n",
       " * http://stackoverflow.com/a/24161582/3208463\n",
       " */\n",
       "function simpleKeys (original) {\n",
       "  return Object.keys(original).reduce(function (obj, key) {\n",
       "    if (typeof original[key] !== 'object')\n",
       "        obj[key] = original[key]\n",
       "    return obj;\n",
       "  }, {});\n",
       "}\n",
       "\n",
       "mpl.figure.prototype.mouse_event = function(event, name) {\n",
       "    var canvas_pos = mpl.findpos(event)\n",
       "\n",
       "    if (name === 'button_press')\n",
       "    {\n",
       "        this.canvas.focus();\n",
       "        this.canvas_div.focus();\n",
       "    }\n",
       "\n",
       "    var x = canvas_pos.x * mpl.ratio;\n",
       "    var y = canvas_pos.y * mpl.ratio;\n",
       "\n",
       "    this.send_message(name, {x: x, y: y, button: event.button,\n",
       "                             step: event.step,\n",
       "                             guiEvent: simpleKeys(event)});\n",
       "\n",
       "    /* This prevents the web browser from automatically changing to\n",
       "     * the text insertion cursor when the button is pressed.  We want\n",
       "     * to control all of the cursor setting manually through the\n",
       "     * 'cursor' event from matplotlib */\n",
       "    event.preventDefault();\n",
       "    return false;\n",
       "}\n",
       "\n",
       "mpl.figure.prototype._key_event_extra = function(event, name) {\n",
       "    // Handle any extra behaviour associated with a key event\n",
       "}\n",
       "\n",
       "mpl.figure.prototype.key_event = function(event, name) {\n",
       "\n",
       "    // Prevent repeat events\n",
       "    if (name == 'key_press')\n",
       "    {\n",
       "        if (event.which === this._key)\n",
       "            return;\n",
       "        else\n",
       "            this._key = event.which;\n",
       "    }\n",
       "    if (name == 'key_release')\n",
       "        this._key = null;\n",
       "\n",
       "    var value = '';\n",
       "    if (event.ctrlKey && event.which != 17)\n",
       "        value += \"ctrl+\";\n",
       "    if (event.altKey && event.which != 18)\n",
       "        value += \"alt+\";\n",
       "    if (event.shiftKey && event.which != 16)\n",
       "        value += \"shift+\";\n",
       "\n",
       "    value += 'k';\n",
       "    value += event.which.toString();\n",
       "\n",
       "    this._key_event_extra(event, name);\n",
       "\n",
       "    this.send_message(name, {key: value,\n",
       "                             guiEvent: simpleKeys(event)});\n",
       "    return false;\n",
       "}\n",
       "\n",
       "mpl.figure.prototype.toolbar_button_onclick = function(name) {\n",
       "    if (name == 'download') {\n",
       "        this.handle_save(this, null);\n",
       "    } else {\n",
       "        this.send_message(\"toolbar_button\", {name: name});\n",
       "    }\n",
       "};\n",
       "\n",
       "mpl.figure.prototype.toolbar_button_onmouseover = function(tooltip) {\n",
       "    this.message.textContent = tooltip;\n",
       "};\n",
       "mpl.toolbar_items = [[\"Home\", \"Reset original view\", \"fa fa-home icon-home\", \"home\"], [\"Back\", \"Back to previous view\", \"fa fa-arrow-left icon-arrow-left\", \"back\"], [\"Forward\", \"Forward to next view\", \"fa fa-arrow-right icon-arrow-right\", \"forward\"], [\"\", \"\", \"\", \"\"], [\"Pan\", \"Pan axes with left mouse, zoom with right\", \"fa fa-arrows icon-move\", \"pan\"], [\"Zoom\", \"Zoom to rectangle\", \"fa fa-square-o icon-check-empty\", \"zoom\"], [\"\", \"\", \"\", \"\"], [\"Download\", \"Download plot\", \"fa fa-floppy-o icon-save\", \"download\"]];\n",
       "\n",
       "mpl.extensions = [\"eps\", \"jpeg\", \"pdf\", \"png\", \"ps\", \"raw\", \"svg\", \"tif\"];\n",
       "\n",
       "mpl.default_extension = \"png\";var comm_websocket_adapter = function(comm) {\n",
       "    // Create a \"websocket\"-like object which calls the given IPython comm\n",
       "    // object with the appropriate methods. Currently this is a non binary\n",
       "    // socket, so there is still some room for performance tuning.\n",
       "    var ws = {};\n",
       "\n",
       "    ws.close = function() {\n",
       "        comm.close()\n",
       "    };\n",
       "    ws.send = function(m) {\n",
       "        //console.log('sending', m);\n",
       "        comm.send(m);\n",
       "    };\n",
       "    // Register the callback with on_msg.\n",
       "    comm.on_msg(function(msg) {\n",
       "        //console.log('receiving', msg['content']['data'], msg);\n",
       "        // Pass the mpl event to the overridden (by mpl) onmessage function.\n",
       "        ws.onmessage(msg['content']['data'])\n",
       "    });\n",
       "    return ws;\n",
       "}\n",
       "\n",
       "mpl.mpl_figure_comm = function(comm, msg) {\n",
       "    // This is the function which gets called when the mpl process\n",
       "    // starts-up an IPython Comm through the \"matplotlib\" channel.\n",
       "\n",
       "    var id = msg.content.data.id;\n",
       "    // Get hold of the div created by the display call when the Comm\n",
       "    // socket was opened in Python.\n",
       "    var element = $(\"#\" + id);\n",
       "    var ws_proxy = comm_websocket_adapter(comm)\n",
       "\n",
       "    function ondownload(figure, format) {\n",
       "        window.open(figure.imageObj.src);\n",
       "    }\n",
       "\n",
       "    var fig = new mpl.figure(id, ws_proxy,\n",
       "                           ondownload,\n",
       "                           element.get(0));\n",
       "\n",
       "    // Call onopen now - mpl needs it, as it is assuming we've passed it a real\n",
       "    // web socket which is closed, not our websocket->open comm proxy.\n",
       "    ws_proxy.onopen();\n",
       "\n",
       "    fig.parent_element = element.get(0);\n",
       "    fig.cell_info = mpl.find_output_cell(\"<div id='\" + id + \"'></div>\");\n",
       "    if (!fig.cell_info) {\n",
       "        console.error(\"Failed to find cell for figure\", id, fig);\n",
       "        return;\n",
       "    }\n",
       "\n",
       "    var output_index = fig.cell_info[2]\n",
       "    var cell = fig.cell_info[0];\n",
       "\n",
       "};\n",
       "\n",
       "mpl.figure.prototype.handle_close = function(fig, msg) {\n",
       "    var width = fig.canvas.width/mpl.ratio\n",
       "    fig.root.unbind('remove')\n",
       "\n",
       "    // Update the output cell to use the data from the current canvas.\n",
       "    fig.push_to_output();\n",
       "    var dataURL = fig.canvas.toDataURL();\n",
       "    // Re-enable the keyboard manager in IPython - without this line, in FF,\n",
       "    // the notebook keyboard shortcuts fail.\n",
       "    IPython.keyboard_manager.enable()\n",
       "    $(fig.parent_element).html('<img src=\"' + dataURL + '\" width=\"' + width + '\">');\n",
       "    fig.close_ws(fig, msg);\n",
       "}\n",
       "\n",
       "mpl.figure.prototype.close_ws = function(fig, msg){\n",
       "    fig.send_message('closing', msg);\n",
       "    // fig.ws.close()\n",
       "}\n",
       "\n",
       "mpl.figure.prototype.push_to_output = function(remove_interactive) {\n",
       "    // Turn the data on the canvas into data in the output cell.\n",
       "    var width = this.canvas.width/mpl.ratio\n",
       "    var dataURL = this.canvas.toDataURL();\n",
       "    this.cell_info[1]['text/html'] = '<img src=\"' + dataURL + '\" width=\"' + width + '\">';\n",
       "}\n",
       "\n",
       "mpl.figure.prototype.updated_canvas_event = function() {\n",
       "    // Tell IPython that the notebook contents must change.\n",
       "    IPython.notebook.set_dirty(true);\n",
       "    this.send_message(\"ack\", {});\n",
       "    var fig = this;\n",
       "    // Wait a second, then push the new image to the DOM so\n",
       "    // that it is saved nicely (might be nice to debounce this).\n",
       "    setTimeout(function () { fig.push_to_output() }, 1000);\n",
       "}\n",
       "\n",
       "mpl.figure.prototype._init_toolbar = function() {\n",
       "    var fig = this;\n",
       "\n",
       "    var nav_element = $('<div/>')\n",
       "    nav_element.attr('style', 'width: 100%');\n",
       "    this.root.append(nav_element);\n",
       "\n",
       "    // Define a callback function for later on.\n",
       "    function toolbar_event(event) {\n",
       "        return fig.toolbar_button_onclick(event['data']);\n",
       "    }\n",
       "    function toolbar_mouse_event(event) {\n",
       "        return fig.toolbar_button_onmouseover(event['data']);\n",
       "    }\n",
       "\n",
       "    for(var toolbar_ind in mpl.toolbar_items){\n",
       "        var name = mpl.toolbar_items[toolbar_ind][0];\n",
       "        var tooltip = mpl.toolbar_items[toolbar_ind][1];\n",
       "        var image = mpl.toolbar_items[toolbar_ind][2];\n",
       "        var method_name = mpl.toolbar_items[toolbar_ind][3];\n",
       "\n",
       "        if (!name) { continue; };\n",
       "\n",
       "        var button = $('<button class=\"btn btn-default\" href=\"#\" title=\"' + name + '\"><i class=\"fa ' + image + ' fa-lg\"></i></button>');\n",
       "        button.click(method_name, toolbar_event);\n",
       "        button.mouseover(tooltip, toolbar_mouse_event);\n",
       "        nav_element.append(button);\n",
       "    }\n",
       "\n",
       "    // Add the status bar.\n",
       "    var status_bar = $('<span class=\"mpl-message\" style=\"text-align:right; float: right;\"/>');\n",
       "    nav_element.append(status_bar);\n",
       "    this.message = status_bar[0];\n",
       "\n",
       "    // Add the close button to the window.\n",
       "    var buttongrp = $('<div class=\"btn-group inline pull-right\"></div>');\n",
       "    var button = $('<button class=\"btn btn-mini btn-primary\" href=\"#\" title=\"Stop Interaction\"><i class=\"fa fa-power-off icon-remove icon-large\"></i></button>');\n",
       "    button.click(function (evt) { fig.handle_close(fig, {}); } );\n",
       "    button.mouseover('Stop Interaction', toolbar_mouse_event);\n",
       "    buttongrp.append(button);\n",
       "    var titlebar = this.root.find($('.ui-dialog-titlebar'));\n",
       "    titlebar.prepend(buttongrp);\n",
       "}\n",
       "\n",
       "mpl.figure.prototype._root_extra_style = function(el){\n",
       "    var fig = this\n",
       "    el.on(\"remove\", function(){\n",
       "\tfig.close_ws(fig, {});\n",
       "    });\n",
       "}\n",
       "\n",
       "mpl.figure.prototype._canvas_extra_style = function(el){\n",
       "    // this is important to make the div 'focusable\n",
       "    el.attr('tabindex', 0)\n",
       "    // reach out to IPython and tell the keyboard manager to turn it's self\n",
       "    // off when our div gets focus\n",
       "\n",
       "    // location in version 3\n",
       "    if (IPython.notebook.keyboard_manager) {\n",
       "        IPython.notebook.keyboard_manager.register_events(el);\n",
       "    }\n",
       "    else {\n",
       "        // location in version 2\n",
       "        IPython.keyboard_manager.register_events(el);\n",
       "    }\n",
       "\n",
       "}\n",
       "\n",
       "mpl.figure.prototype._key_event_extra = function(event, name) {\n",
       "    var manager = IPython.notebook.keyboard_manager;\n",
       "    if (!manager)\n",
       "        manager = IPython.keyboard_manager;\n",
       "\n",
       "    // Check for shift+enter\n",
       "    if (event.shiftKey && event.which == 13) {\n",
       "        this.canvas_div.blur();\n",
       "        event.shiftKey = false;\n",
       "        // Send a \"J\" for go to next cell\n",
       "        event.which = 74;\n",
       "        event.keyCode = 74;\n",
       "        manager.command_mode();\n",
       "        manager.handle_keydown(event);\n",
       "    }\n",
       "}\n",
       "\n",
       "mpl.figure.prototype.handle_save = function(fig, msg) {\n",
       "    fig.ondownload(fig, null);\n",
       "}\n",
       "\n",
       "\n",
       "mpl.find_output_cell = function(html_output) {\n",
       "    // Return the cell and output element which can be found *uniquely* in the notebook.\n",
       "    // Note - this is a bit hacky, but it is done because the \"notebook_saving.Notebook\"\n",
       "    // IPython event is triggered only after the cells have been serialised, which for\n",
       "    // our purposes (turning an active figure into a static one), is too late.\n",
       "    var cells = IPython.notebook.get_cells();\n",
       "    var ncells = cells.length;\n",
       "    for (var i=0; i<ncells; i++) {\n",
       "        var cell = cells[i];\n",
       "        if (cell.cell_type === 'code'){\n",
       "            for (var j=0; j<cell.output_area.outputs.length; j++) {\n",
       "                var data = cell.output_area.outputs[j];\n",
       "                if (data.data) {\n",
       "                    // IPython >= 3 moved mimebundle to data attribute of output\n",
       "                    data = data.data;\n",
       "                }\n",
       "                if (data['text/html'] == html_output) {\n",
       "                    return [cell, data, j];\n",
       "                }\n",
       "            }\n",
       "        }\n",
       "    }\n",
       "}\n",
       "\n",
       "// Register the function which deals with the matplotlib target/channel.\n",
       "// The kernel may be null if the page has been refreshed.\n",
       "if (IPython.notebook.kernel != null) {\n",
       "    IPython.notebook.kernel.comm_manager.register_target('matplotlib', mpl.mpl_figure_comm);\n",
       "}\n"
      ],
      "text/plain": [
       "<IPython.core.display.Javascript object>"
      ]
     },
     "metadata": {},
     "output_type": "display_data"
    },
    {
     "data": {
      "text/html": [
       "<img src=\"data:image/png;base64,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\" width=\"432\">"
      ],
      "text/plain": [
       "<IPython.core.display.HTML object>"
      ]
     },
     "metadata": {},
     "output_type": "display_data"
    },
    {
     "name": "stdout",
     "output_type": "stream",
     "text": [
      "Min numerical gradient: 7.59E-07\n"
     ]
    }
   ],
   "source": [
    "learn.lr_find()\n",
    "learn.recorder.plot()"
   ]
  },
  {
   "cell_type": "code",
   "execution_count": 16,
   "metadata": {},
   "outputs": [
    {
     "data": {
      "text/html": [
       "Total time: 08:41 <p><table style='width:300px; margin-bottom:10px'>\n",
       "  <tr>\n",
       "    <th>epoch</th>\n",
       "    <th>train_loss</th>\n",
       "    <th>valid_loss</th>\n",
       "    <th>error_rate</th>\n",
       "  </tr>\n",
       "  <tr>\n",
       "    <th>1</th>\n",
       "    <th>0.460696</th>\n",
       "    <th>0.321146</th>\n",
       "    <th>0.135396</th>\n",
       "  </tr>\n",
       "  <tr>\n",
       "    <th>2</th>\n",
       "    <th>0.342945</th>\n",
       "    <th>0.241173</th>\n",
       "    <th>0.087278</th>\n",
       "  </tr>\n",
       "  <tr>\n",
       "    <th>3</th>\n",
       "    <th>0.288708</th>\n",
       "    <th>0.220447</th>\n",
       "    <th>0.088688</th>\n",
       "  </tr>\n",
       "  <tr>\n",
       "    <th>4</th>\n",
       "    <th>0.260829</th>\n",
       "    <th>0.199142</th>\n",
       "    <th>0.078483</th>\n",
       "  </tr>\n",
       "  <tr>\n",
       "    <th>5</th>\n",
       "    <th>0.243270</th>\n",
       "    <th>0.199171</th>\n",
       "    <th>0.078566</th>\n",
       "  </tr>\n",
       "  <tr>\n",
       "    <th>6</th>\n",
       "    <th>0.231282</th>\n",
       "    <th>0.196666</th>\n",
       "    <th>0.076534</th>\n",
       "  </tr>\n",
       "  <tr>\n",
       "    <th>7</th>\n",
       "    <th>0.219505</th>\n",
       "    <th>0.199362</th>\n",
       "    <th>0.076285</th>\n",
       "  </tr>\n",
       "  <tr>\n",
       "    <th>8</th>\n",
       "    <th>0.208752</th>\n",
       "    <th>0.200745</th>\n",
       "    <th>0.076824</th>\n",
       "  </tr>\n",
       "</table>\n"
      ],
      "text/plain": [
       "<IPython.core.display.HTML object>"
      ]
     },
     "metadata": {},
     "output_type": "display_data"
    }
   ],
   "source": [
    "learn.fit_one_cycle(3,max_lr=5.25e-3)"
   ]
  },
  {
   "cell_type": "code",
   "execution_count": 41,
   "metadata": {},
   "outputs": [],
   "source": [
    "learn.save('stage-1-50')"
   ]
  },
  {
   "cell_type": "code",
   "execution_count": null,
   "metadata": {},
   "outputs": [],
   "source": []
  },
  {
   "cell_type": "markdown",
   "metadata": {},
   "source": [
    "It's astonishing that it's possible to recognize pet breeds so accurately! Let's see if full fine-tuning helps:"
   ]
  },
  {
   "cell_type": "code",
   "execution_count": 43,
   "metadata": {},
   "outputs": [
    {
     "data": {
      "text/html": [
       "Total time: 03:30 <p><table style='width:300px; margin-bottom:10px'>\n",
       "  <tr>\n",
       "    <th>epoch</th>\n",
       "    <th>train_loss</th>\n",
       "    <th>valid_loss</th>\n",
       "    <th>error_rate</th>\n",
       "  </tr>\n",
       "  <tr>\n",
       "    <th>1</th>\n",
       "    <th>0.199697</th>\n",
       "    <th>0.200821</th>\n",
       "    <th>0.076741</th>\n",
       "  </tr>\n",
       "  <tr>\n",
       "    <th>2</th>\n",
       "    <th>0.199232</th>\n",
       "    <th>0.200608</th>\n",
       "    <th>0.076368</th>\n",
       "  </tr>\n",
       "  <tr>\n",
       "    <th>3</th>\n",
       "    <th>0.199673</th>\n",
       "    <th>0.200743</th>\n",
       "    <th>0.077239</th>\n",
       "  </tr>\n",
       "</table>\n"
      ],
      "text/plain": [
       "<IPython.core.display.HTML object>"
      ]
     },
     "metadata": {},
     "output_type": "display_data"
    }
   ],
   "source": [
    "learn.unfreeze()\n",
    "learn.fit_one_cycle(3, max_lr=slice(1e-8,1e-6))"
   ]
  },
  {
   "cell_type": "markdown",
   "metadata": {},
   "source": [
    "If it doesn't, you can always go back to your previous model."
   ]
  },
  {
   "cell_type": "code",
   "execution_count": null,
   "metadata": {},
   "outputs": [],
   "source": [
    "learn.load('stage-1-50');"
   ]
  },
  {
   "cell_type": "code",
   "execution_count": null,
   "metadata": {},
   "outputs": [],
   "source": [
    "interp = ClassificationInterpretation.from_learner(learn)"
   ]
  },
  {
   "cell_type": "code",
   "execution_count": null,
   "metadata": {},
   "outputs": [
    {
     "data": {
      "text/plain": [
       "[('american_pit_bull_terrier', 'staffordshire_bull_terrier', 6),\n",
       " ('Bengal', 'Egyptian_Mau', 5),\n",
       " ('Bengal', 'Abyssinian', 4),\n",
       " ('boxer', 'american_bulldog', 4),\n",
       " ('Ragdoll', 'Birman', 4),\n",
       " ('Egyptian_Mau', 'Bengal', 3)]"
      ]
     },
     "execution_count": null,
     "metadata": {},
     "output_type": "execute_result"
    }
   ],
   "source": [
    "interp.most_confused(min_val=2)"
   ]
  },
  {
   "cell_type": "markdown",
   "metadata": {},
   "source": [
    "## Other data formats"
   ]
  },
  {
   "cell_type": "code",
   "execution_count": null,
   "metadata": {},
   "outputs": [
    {
     "data": {
      "text/plain": [
       "PosixPath('/home/ubuntu/course-v3/nbs/dl1/data/mnist_sample')"
      ]
     },
     "execution_count": null,
     "metadata": {},
     "output_type": "execute_result"
    }
   ],
   "source": [
    "path = untar_data(URLs.MNIST_SAMPLE); path"
   ]
  },
  {
   "cell_type": "code",
   "execution_count": null,
   "metadata": {},
   "outputs": [],
   "source": [
    "tfms = get_transforms(do_flip=False)\n",
    "data = ImageDataBunch.from_folder(path, ds_tfms=tfms, size=26)"
   ]
  },
  {
   "cell_type": "code",
   "execution_count": null,
   "metadata": {},
   "outputs": [
    {
     "data": {
      "image/png": "[encoded data removed]",
      "text/plain": [
       "<Figure size 360x360 with 9 Axes>"
      ]
     },
     "metadata": {},
     "output_type": "display_data"
    }
   ],
   "source": [
    "data.show_batch(rows=3, figsize=(5,5))"
   ]
  },
  {
   "cell_type": "code",
   "execution_count": null,
   "metadata": {},
   "outputs": [
    {
     "name": "stdout",
     "output_type": "stream",
     "text": [
      "Total time: 00:23\n",
      "epoch  train_loss  valid_loss  accuracy\n",
      "1      0.116117    0.029745    0.991168  (00:12)\n",
      "2      0.056860    0.015974    0.994603  (00:10)\n",
      "\n"
     ]
    }
   ],
   "source": [
    "learn = create_cnn(data, models.resnet18, metrics=accuracy)\n",
    "learn.fit(2)"
   ]
  },
  {
   "cell_type": "code",
   "execution_count": null,
   "metadata": {},
   "outputs": [
    {
     "data": {
      "text/html": [
       "<div>\n",
       "<style scoped>\n",
       "    .dataframe tbody tr th:only-of-type {\n",
       "        vertical-align: middle;\n",
       "    }\n",
       "\n",
       "    .dataframe tbody tr th {\n",
       "        vertical-align: top;\n",
       "    }\n",
       "\n",
       "    .dataframe thead th {\n",
       "        text-align: right;\n",
       "    }\n",
       "</style>\n",
       "<table border=\"1\" class=\"dataframe\">\n",
       "  <thead>\n",
       "    <tr style=\"text-align: right;\">\n",
       "      <th></th>\n",
       "      <th>name</th>\n",
       "      <th>label</th>\n",
       "    </tr>\n",
       "  </thead>\n",
       "  <tbody>\n",
       "    <tr>\n",
       "      <th>0</th>\n",
       "      <td>train/3/7463.png</td>\n",
       "      <td>0</td>\n",
       "    </tr>\n",
       "    <tr>\n",
       "      <th>1</th>\n",
       "      <td>train/3/21102.png</td>\n",
       "      <td>0</td>\n",
       "    </tr>\n",
       "    <tr>\n",
       "      <th>2</th>\n",
       "      <td>train/3/31559.png</td>\n",
       "      <td>0</td>\n",
       "    </tr>\n",
       "    <tr>\n",
       "      <th>3</th>\n",
       "      <td>train/3/46882.png</td>\n",
       "      <td>0</td>\n",
       "    </tr>\n",
       "    <tr>\n",
       "      <th>4</th>\n",
       "      <td>train/3/26209.png</td>\n",
       "      <td>0</td>\n",
       "    </tr>\n",
       "  </tbody>\n",
       "</table>\n",
       "</div>"
      ],
      "text/plain": [
       "                name  label\n",
       "0   train/3/7463.png      0\n",
       "1  train/3/21102.png      0\n",
       "2  train/3/31559.png      0\n",
       "3  train/3/46882.png      0\n",
       "4  train/3/26209.png      0"
      ]
     },
     "execution_count": null,
     "metadata": {},
     "output_type": "execute_result"
    }
   ],
   "source": [
    "df = pd.read_csv(path/'labels.csv')\n",
    "df.head()"
   ]
  },
  {
   "cell_type": "code",
   "execution_count": null,
   "metadata": {},
   "outputs": [],
   "source": [
    "data = ImageDataBunch.from_csv(path, ds_tfms=tfms, size=28)"
   ]
  },
  {
   "cell_type": "code",
   "execution_count": null,
   "metadata": {},
   "outputs": [
    {
     "data": {
      "text/plain": [
       "[0, 1]"
      ]
     },
     "execution_count": null,
     "metadata": {},
     "output_type": "execute_result"
    },
    {
     "data": {
      "image/png": "[encoded data removed]",
      "text/plain": [
       "<Figure size 360x360 with 9 Axes>"
      ]
     },
     "metadata": {},
     "output_type": "display_data"
    }
   ],
   "source": [
    "data.show_batch(rows=3, figsize=(5,5))\n",
    "data.classes"
   ]
  },
  {
   "cell_type": "code",
   "execution_count": null,
   "metadata": {},
   "outputs": [
    {
     "data": {
      "text/plain": [
       "[0, 1]"
      ]
     },
     "execution_count": null,
     "metadata": {},
     "output_type": "execute_result"
    }
   ],
   "source": [
    "data = ImageDataBunch.from_df(path, df, ds_tfms=tfms, size=24)\n",
    "data.classes"
   ]
  },
  {
   "cell_type": "code",
   "execution_count": null,
   "metadata": {},
   "outputs": [
    {
     "data": {
      "text/plain": [
       "[PosixPath('/home/ubuntu/course-v3/nbs/dl1/data/mnist_sample/train/3/7463.png'),\n",
       " PosixPath('/home/ubuntu/course-v3/nbs/dl1/data/mnist_sample/train/3/21102.png')]"
      ]
     },
     "execution_count": null,
     "metadata": {},
     "output_type": "execute_result"
    }
   ],
   "source": [
    "fn_paths = [path/name for name in df['name']]; fn_paths[:2]"
   ]
  },
  {
   "cell_type": "code",
   "execution_count": null,
   "metadata": {},
   "outputs": [
    {
     "data": {
      "text/plain": [
       "['3', '7']"
      ]
     },
     "execution_count": null,
     "metadata": {},
     "output_type": "execute_result"
    }
   ],
   "source": [
    "pat = r\"/(\\d)/\\d+\\.png$\"\n",
    "data = ImageDataBunch.from_name_re(path, fn_paths, pat=pat, ds_tfms=tfms, size=24)\n",
    "data.classes"
   ]
  },
  {
   "cell_type": "code",
   "execution_count": null,
   "metadata": {},
   "outputs": [
    {
     "data": {
      "text/plain": [
       "['3', '7']"
      ]
     },
     "execution_count": null,
     "metadata": {},
     "output_type": "execute_result"
    }
   ],
   "source": [
    "data = ImageDataBunch.from_name_func(path, fn_paths, ds_tfms=tfms, size=24,\n",
    "        label_func = lambda x: '3' if '/3/' in str(x) else '7')\n",
    "data.classes"
   ]
  },
  {
   "cell_type": "code",
   "execution_count": null,
   "metadata": {},
   "outputs": [
    {
     "data": {
      "text/plain": [
       "['3', '3', '3', '3', '3']"
      ]
     },
     "execution_count": null,
     "metadata": {},
     "output_type": "execute_result"
    }
   ],
   "source": [
    "labels = [('3' if '/3/' in str(x) else '7') for x in fn_paths]\n",
    "labels[:5]"
   ]
  },
  {
   "cell_type": "code",
   "execution_count": null,
   "metadata": {},
   "outputs": [
    {
     "data": {
      "text/plain": [
       "['3', '7']"
      ]
     },
     "execution_count": null,
     "metadata": {},
     "output_type": "execute_result"
    }
   ],
   "source": [
    "data = ImageDataBunch.from_lists(path, fn_paths, labels=labels, ds_tfms=tfms, size=24)\n",
    "data.classes"
   ]
  },
  {
   "cell_type": "code",
   "execution_count": null,
   "metadata": {},
   "outputs": [],
   "source": []
  }
 ],
 "metadata": {
  "kernelspec": {
   "display_name": "Python 3",
   "language": "python",
   "name": "python3"
  },
  "language_info": {
   "codemirror_mode": {
    "name": "ipython",
    "version": 3
   },
   "file_extension": ".py",
   "mimetype": "text/x-python",
   "name": "python",
   "nbconvert_exporter": "python",
   "pygments_lexer": "ipython3",
   "version": "3.6.8"
  }
 },
 "nbformat": 4,
 "nbformat_minor": 2
}
