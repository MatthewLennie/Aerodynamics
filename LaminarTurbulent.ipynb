{
 "cells": [
  {
   "cell_type": "markdown",
   "metadata": {},
   "source": [
    "# Time Series classification of Aerodynamics\n",
    "The boundary layer on an airfoil can be in two states, Laminar or Turbulent. Visually this switch is quite easy to see, for the aerodynamics muggles, the turbulent boundary layer state with show up on the time series data from the microphone as very turbulent(or volatile if you are from the finance world). \n",
    "Other ways to solve this problem include\n",
    "- Traditional signal processing tricks that can extract such a change over of course. \n",
    "- Bayesian switch point analysis with a flexible number of switch points would also work. \n",
    "- The auto-regressive type models<br>\n",
    "But I wanted to try my hand at getting a time series model in torch working, so here we are. "
   ]
  },
  {
   "cell_type": "code",
   "execution_count": 150,
   "metadata": {},
   "outputs": [],
   "source": [
    "import torch \n",
    "import pickle\n",
    "import torch.nn as nn\n",
    "import pandas as pd\n",
    "import numpy as np\n",
    "import torch.utils.data\n",
    "from torch.autograd import Variable\n",
    "from sklearn.preprocessing import StandardScaler\n",
    "from matplotlib import animation, rc\n",
    "rc('animation', html='jshtml')\n",
    "%matplotlib inline\n",
    "import seaborn as sns\n",
    "from sklearn.metrics import confusion_matrix\n",
    "import matplotlib.pyplot as plt"
   ]
  },
  {
   "cell_type": "markdown",
   "metadata": {},
   "source": [
    "# Set up Model\n",
    "One layer LSTM to multi layer fully conencted.\n",
    "Sigmoid on the out layer as it is a classification problem. \n",
    "More layers can be enabled but 91% Validation error is possible with our the second lstm and extra fc layers. "
   ]
  },
  {
   "cell_type": "code",
   "execution_count": 151,
   "metadata": {},
   "outputs": [],
   "source": [
    "class Classifier(nn.Module):\n",
    "    def __init__(self, input_dim, hidden_dim, batch_size, output_dim=1,\n",
    "                    num_layers=2):\n",
    "        super(Classifier, self).__init__()\n",
    "        self.input_dim = input_dim\n",
    "        self.hidden_dim = hidden_dim\n",
    "        self.batch_size = batch_size\n",
    "        self.num_layers = num_layers\n",
    "\n",
    "        # Define the LSTM layer\n",
    "        self.lstm = nn.LSTM(self.input_dim, self.hidden_dim, self.num_layers)\n",
    "\n",
    "        # Define the output layer\n",
    "        self.linear = nn.Linear(self.hidden_dim, output_dim)\n",
    "        \n",
    "        self.Sig = nn.Sigmoid()\n",
    "        \n",
    "    def init_hidden(self):\n",
    "        # This is what we'll initialise our hidden state as\n",
    "        return (torch.zeros(self.num_layers, self.batch_size, self.hidden_dim),\n",
    "                torch.zeros(self.num_layers, self.batch_size, self.hidden_dim))\n",
    "\n",
    "    def forward(self, input):\n",
    "        \n",
    "        # Forward pass through LSTM layer\n",
    "        # shape of lstm_out: [input_size, batch_size, hidden_dim]\n",
    "        # shape of self.hidden: (a, b), where a and b both \n",
    "        # have shape (num_layers, batch_size, hidden_dim).\n",
    "        \n",
    "        #input.view(self.input_dim, self.batch_size, -1)\n",
    "        lstm_out, self.hidden = self.lstm(input.view(-1,len(input),6))\n",
    "        \n",
    "        # Only take the output from the final timetep\n",
    "        # Can pass on the entirety of lstm_out to the next layer if it is a seq2seq prediction\n",
    "        y_pred = self.Sig(self.linear(lstm_out[-1].view(len(input), -1)))\n",
    "        return y_pred.view(-1)\n",
    "\n",
    "#model = LSTM(lstm_input_size, h1, batch_size=num_train, output_dim=output_dim, num_layers=num_layers)\n"
   ]
  },
  {
   "cell_type": "markdown",
   "metadata": {},
   "source": [
    "# Read in data\n",
    "The features of the time series have been pre-processed to include the time series itself and the first 5 mel-spectrum coefficients. \n",
    "!!! Need to double check for data leakage in the mel-spectrum coefficients "
   ]
  },
  {
   "cell_type": "code",
   "execution_count": 161,
   "metadata": {},
   "outputs": [],
   "source": [
    "df = pd.read_pickle(\"Reduced.pkl\")\n",
    "Split = 0.8\n",
    "SplitInd = int(Split * len(df))\n",
    "LabelList = ['ts',*range(5)]\n",
    "Input = torch.tensor(df[LabelList].values)\n",
    "Output = torch.tensor(df['Labels'].values)\n",
    "\n",
    "#load second file hacky way for now. Only two files needed for training set.  \n",
    "df3 = pd.read_pickle(\"Reduced3.pkl\")\n",
    "\n",
    "Input3 = torch.tensor(df3[LabelList].values)\n",
    "Output3 = torch.tensor(df3['Labels'].values)\n",
    "\n",
    "df4 = pd.read_pickle(\"Sensor0-Copy1\")\n",
    "df4.Labels = 1\n",
    "\n",
    "Input4 = torch.tensor(df4[LabelList].values)\n",
    "Output4 = torch.tensor(df4['Labels'].values)\n",
    "\n",
    "\n",
    "#Valid trainSplit\n",
    "InpTrain4, InpValid4 = Input4[:SplitInd], Input4[SplitInd:]\n",
    "OutTrain4, OutValid4 = Output4[:SplitInd], Output4[SplitInd:]\n",
    "\n",
    "\n",
    "#Valid trainSplit\n",
    "InpTrain, InpValid = Input[:SplitInd], Input[SplitInd:]\n",
    "OutTrain, OutValid = Output[:SplitInd], Output[SplitInd:]\n",
    "\n",
    "#Valid trainSplit\n",
    "InpTrain3, InpValid3 = Input3[:SplitInd], Input3[SplitInd:]\n",
    "OutTrain3, OutValid3 = Output3[:SplitInd], Output3[SplitInd:]\n",
    "\n",
    "#Concat two files. \n",
    "InputTrain = torch.cat((InpTrain,InpTrain3,InpTrain4),0)\n",
    "InputValid = torch.cat((InpValid,InpValid3,InpValid4),0)\n",
    "OutputTrain = torch.cat((OutTrain,OutTrain3,OutTrain4),0)\n",
    "OutputValid = torch.cat((OutValid,OutValid3,OutValid4),0)\n",
    "\n",
    "#Train scaler on training data only. No peeking now!! \n",
    "InpScaler = StandardScaler()\n",
    "InpScaler.fit(InpTrain)\n",
    "\n",
    "\n",
    "\n",
    "InpTrain = torch.tensor(InpScaler.transform(InpTrain))\n",
    "InpValid = torch.tensor(InpScaler.transform(InpValid))\n",
    "\n",
    "BatchSize = 200000\n",
    "#Into DataLoaders\n",
    "# Large Batch size seems to perform better. \n",
    "TrainDataSet = torch.utils.data.TensorDataset(InpTrain, OutTrain)\n",
    "Train = torch.utils.data.DataLoader(TrainDataSet,batch_size = BatchSize,num_workers = 1)\n",
    "\n",
    "ValidDataSet = torch.utils.data.TensorDataset(InpValid, OutValid)\n",
    "Valid = torch.utils.data.DataLoader(TrainDataSet,batch_size = BatchSize,num_workers = 1)\n",
    "LenTrain = len(InpTrain)\n",
    "LenValid = len(InpValid)"
   ]
  },
  {
   "cell_type": "code",
   "execution_count": null,
   "metadata": {},
   "outputs": [],
   "source": []
  },
  {
   "cell_type": "code",
   "execution_count": 4,
   "metadata": {},
   "outputs": [],
   "source": [
    "with open('scaler.pickle', 'wb') as file:\n",
    "    pickle.dump(InpScaler,file)"
   ]
  },
  {
   "cell_type": "markdown",
   "metadata": {},
   "source": [
    "# Initiate with Simple paralell architecture "
   ]
  },
  {
   "cell_type": "code",
   "execution_count": 172,
   "metadata": {
    "scrolled": true
   },
   "outputs": [
    {
     "data": {
      "text/plain": [
       "Classifier(\n",
       "  (lstm): LSTM(6, 6, num_layers=10)\n",
       "  (linear): Linear(in_features=6, out_features=1, bias=True)\n",
       "  (Sig): Sigmoid()\n",
       ")"
      ]
     },
     "execution_count": 172,
     "metadata": {},
     "output_type": "execute_result"
    }
   ],
   "source": [
    "model = Classifier(6, 6, batch_size=BatchSize, output_dim=1, num_layers=10)\n",
    "model.cuda()"
   ]
  },
  {
   "cell_type": "markdown",
   "metadata": {},
   "source": [
    "# Simple SGD optimizer\n",
    "Achieved 91% without momentum, Cosine Annealing appears effective from training. \n",
    "Have to implement a LR finder to better set. Works for now, probably go achieve much faster training"
   ]
  },
  {
   "cell_type": "code",
   "execution_count": 262,
   "metadata": {},
   "outputs": [],
   "source": [
    "lr = 1e-1\n",
    "#optimizer = torch.optim.SGD(model.parameters(),lr,momentum = 0.0)\n",
    "optimizer = torch.optim.Adam(model.parameters(), lr=lr)\n",
    "scheduler = torch.optim.lr_scheduler.CosineAnnealingLR(optimizer,10,0.1*lr)"
   ]
  },
  {
   "cell_type": "code",
   "execution_count": 263,
   "metadata": {
    "scrolled": true
   },
   "outputs": [
    {
     "name": "stdout",
     "output_type": "stream",
     "text": [
      "batch\n",
      "batch\n",
      "epoch0\n",
      "train loss: 104.5006103515625\n",
      "regular: 0.0009178657201118767\n",
      "Learning Rate:[0.09779754323328191]\n",
      "batch\n",
      "batch\n",
      "epoch1\n",
      "train loss: 2.0000393390655518\n",
      "regular: 2.9151347916922532e-05\n",
      "Learning Rate:[0.1]\n",
      "batch\n",
      "batch\n",
      "epoch2\n",
      "train loss: 3.061011739191599e-05\n",
      "regular: 0.02104768715798855\n",
      "valid loss: 2.924263935710769e-05\n",
      "accuracy: 67.18400120735168 %\n",
      "saved\n"
     ]
    },
    {
     "data": {
      "image/png": "[encoded data removed]",
      "text/plain": [
       "<Figure size 432x288 with 2 Axes>"
      ]
     },
     "metadata": {
      "needs_background": "light"
     },
     "output_type": "display_data"
    },
    {
     "name": "stdout",
     "output_type": "stream",
     "text": [
      "Learning Rate:[0.09779754323328191]\n",
      "batch\n",
      "batch\n",
      "epoch3\n",
      "train loss: 3.0223263820516877e-05\n",
      "regular: 0.18030212819576263\n",
      "valid loss: 3.067026409553364e-05\n",
      "accuracy: 67.18400120735168 %\n"
     ]
    },
    {
     "data": {
      "image/png": "[encoded data removed]",
      "text/plain": [
       "<Figure size 432x288 with 2 Axes>"
      ]
     },
     "metadata": {
      "needs_background": "light"
     },
     "output_type": "display_data"
    },
    {
     "name": "stdout",
     "output_type": "stream",
     "text": [
      "Learning Rate:[0.09140576474687265]\n",
      "batch\n",
      "batch\n",
      "epoch4\n",
      "train loss: 3.1712068448541686e-05\n",
      "regular: 0.06937405467033386\n",
      "valid loss: 3.178391125402413e-05\n",
      "accuracy: 32.815998792648315 %\n"
     ]
    },
    {
     "data": {
      "image/png": "[encoded data removed]",
      "text/plain": [
       "<Figure size 432x288 with 2 Axes>"
      ]
     },
     "metadata": {
      "needs_background": "light"
     },
     "output_type": "display_data"
    },
    {
     "name": "stdout",
     "output_type": "stream",
     "text": [
      "Learning Rate:[0.08145033635316129]\n",
      "batch\n",
      "batch\n",
      "epoch5\n",
      "train loss: 3.1994197343010455e-05\n",
      "regular: 0.006141946651041508\n",
      "valid loss: 3.157352330163121e-05\n",
      "accuracy: 32.815998792648315 %\n"
     ]
    },
    {
     "data": {
      "image/png": "[encoded data removed]",
      "text/plain": [
       "<Figure size 432x288 with 2 Axes>"
      ]
     },
     "metadata": {
      "needs_background": "light"
     },
     "output_type": "display_data"
    },
    {
     "name": "stdout",
     "output_type": "stream",
     "text": [
      "Learning Rate:[0.06890576474687263]\n",
      "batch\n",
      "batch\n",
      "epoch6\n",
      "train loss: 3.1397066777572036e-05\n",
      "regular: 0.0018925924086943269\n",
      "valid loss: 3.0933635571273044e-05\n",
      "accuracy: 67.18400120735168 %\n"
     ]
    },
    {
     "data": {
      "image/png": "[encoded data removed]",
      "text/plain": [
       "<Figure size 432x288 with 2 Axes>"
      ]
     },
     "metadata": {
      "needs_background": "light"
     },
     "output_type": "display_data"
    },
    {
     "name": "stdout",
     "output_type": "stream",
     "text": [
      "Learning Rate:[0.055]\n",
      "batch\n",
      "batch\n",
      "epoch7\n",
      "train loss: 3.0732488085050136e-05\n",
      "regular: 0.001808186643756926\n",
      "valid loss: 3.042202297365293e-05\n",
      "accuracy: 67.18400120735168 %\n"
     ]
    },
    {
     "data": {
      "image/png": "[encoded data removed]",
      "text/plain": [
       "<Figure size 432x288 with 2 Axes>"
      ]
     },
     "metadata": {
      "needs_background": "light"
     },
     "output_type": "display_data"
    },
    {
     "name": "stdout",
     "output_type": "stream",
     "text": [
      "Learning Rate:[0.04109423525312737]\n",
      "batch\n",
      "batch\n",
      "epoch8\n",
      "train loss: 3.0298328056233004e-05\n",
      "regular: 0.0017518308013677597\n",
      "valid loss: 3.0129414881230332e-05\n",
      "accuracy: 67.18400120735168 %\n"
     ]
    },
    {
     "data": {
      "image/png": "[encoded data removed]",
      "text/plain": [
       "<Figure size 432x288 with 2 Axes>"
      ]
     },
     "metadata": {
      "needs_background": "light"
     },
     "output_type": "display_data"
    },
    {
     "name": "stdout",
     "output_type": "stream",
     "text": [
      "Learning Rate:[0.028549663646838714]\n",
      "batch\n",
      "batch\n",
      "epoch9\n",
      "train loss: 3.006987026310526e-05\n",
      "regular: 0.001781167578883469\n",
      "valid loss: 2.9985327273607254e-05\n",
      "accuracy: 67.18400120735168 %\n"
     ]
    },
    {
     "data": {
      "image/png": "[encoded data removed]",
      "text/plain": [
       "<Figure size 432x288 with 2 Axes>"
      ]
     },
     "metadata": {
      "needs_background": "light"
     },
     "output_type": "display_data"
    },
    {
     "name": "stdout",
     "output_type": "stream",
     "text": [
      "Learning Rate:[0.018594235253127374]\n",
      "batch\n",
      "batch\n",
      "epoch10\n",
      "train loss: 2.995982504216954e-05\n",
      "regular: 0.0018621617928147316\n",
      "valid loss: 2.9916542189312167e-05\n",
      "accuracy: 67.18400120735168 %\n"
     ]
    },
    {
     "data": {
      "image/png": "[encoded data removed]",
      "text/plain": [
       "<Figure size 432x288 with 2 Axes>"
      ]
     },
     "metadata": {
      "needs_background": "light"
     },
     "output_type": "display_data"
    },
    {
     "name": "stdout",
     "output_type": "stream",
     "text": [
      "Learning Rate:[0.012202456766718092]\n",
      "batch\n",
      "batch\n",
      "epoch11\n",
      "train loss: 2.990548819070682e-05\n",
      "regular: 0.0019495936576277018\n",
      "valid loss: 2.9877548513468355e-05\n",
      "accuracy: 67.18400120735168 %\n"
     ]
    },
    {
     "data": {
      "image/png": "[encoded data removed]",
      "text/plain": [
       "<Figure size 432x288 with 2 Axes>"
      ]
     },
     "metadata": {
      "needs_background": "light"
     },
     "output_type": "display_data"
    },
    {
     "name": "stdout",
     "output_type": "stream",
     "text": [
      "Learning Rate:[0.010000000000000002]\n",
      "batch\n",
      "batch\n",
      "epoch12\n",
      "train loss: 2.9874505344196223e-05\n",
      "regular: 0.0020533264614641666\n",
      "valid loss: 2.9847737096133642e-05\n",
      "accuracy: 67.18400120735168 %\n"
     ]
    },
    {
     "data": {
      "image/png": "[encoded data removed]",
      "text/plain": [
       "<Figure size 432x288 with 2 Axes>"
      ]
     },
     "metadata": {
      "needs_background": "light"
     },
     "output_type": "display_data"
    },
    {
     "name": "stdout",
     "output_type": "stream",
     "text": [
      "Learning Rate:[0.012202456766718084]\n",
      "batch\n",
      "batch\n",
      "epoch13\n",
      "train loss: 2.9856868422939442e-05\n",
      "regular: 0.0022162403911352158\n",
      "valid loss: 2.9825074307154864e-05\n",
      "accuracy: 67.18400120735168 %\n"
     ]
    },
    {
     "data": {
      "image/png": "[encoded data removed]",
      "text/plain": [
       "<Figure size 432x288 with 2 Axes>"
      ]
     },
     "metadata": {
      "needs_background": "light"
     },
     "output_type": "display_data"
    },
    {
     "name": "stdout",
     "output_type": "stream",
     "text": [
      "Learning Rate:[0.01859423525312736]\n",
      "batch\n",
      "batch\n",
      "epoch14\n",
      "train loss: 2.9857217668904923e-05\n",
      "regular: 0.0024930236395448446\n",
      "valid loss: 2.98189370369073e-05\n",
      "accuracy: 67.18400120735168 %\n"
     ]
    },
    {
     "data": {
      "image/png": "[encoded data removed]",
      "text/plain": [
       "<Figure size 432x288 with 2 Axes>"
      ]
     },
     "metadata": {
      "needs_background": "light"
     },
     "output_type": "display_data"
    },
    {
     "name": "stdout",
     "output_type": "stream",
     "text": [
      "Learning Rate:[0.028549663646838704]\n",
      "batch\n",
      "batch\n",
      "epoch15\n",
      "train loss: 2.9886821721447632e-05\n",
      "regular: 0.0029072167817503214\n",
      "valid loss: 2.9841368814231828e-05\n",
      "accuracy: 67.18400120735168 %\n"
     ]
    },
    {
     "data": {
      "image/png": "[encoded data removed]",
      "text/plain": [
       "<Figure size 432x288 with 2 Axes>"
      ]
     },
     "metadata": {
      "needs_background": "light"
     },
     "output_type": "display_data"
    },
    {
     "name": "stdout",
     "output_type": "stream",
     "text": [
      "Learning Rate:[0.04109423525312736]\n",
      "batch\n",
      "batch\n",
      "epoch16\n",
      "train loss: 2.9953373086755164e-05\n",
      "regular: 0.003283978905528784\n",
      "valid loss: 2.9895758416387253e-05\n",
      "accuracy: 67.18400120735168 %\n"
     ]
    },
    {
     "data": {
      "image/png": "[encoded data removed]",
      "text/plain": [
       "<Figure size 432x288 with 2 Axes>"
      ]
     },
     "metadata": {
      "needs_background": "light"
     },
     "output_type": "display_data"
    },
    {
     "name": "stdout",
     "output_type": "stream",
     "text": [
      "Learning Rate:[0.05499999999999999]\n",
      "batch\n",
      "batch\n",
      "epoch17\n",
      "train loss: 3.0047141990507953e-05\n",
      "regular: 0.0034628703724592924\n",
      "valid loss: 2.9961191103211604e-05\n",
      "accuracy: 67.18400120735168 %\n"
     ]
    },
    {
     "data": {
      "image/png": "[encoded data removed]",
      "text/plain": [
       "<Figure size 432x288 with 2 Axes>"
      ]
     },
     "metadata": {
      "needs_background": "light"
     },
     "output_type": "display_data"
    },
    {
     "name": "stdout",
     "output_type": "stream",
     "text": [
      "Learning Rate:[0.06890576474687263]\n",
      "batch\n",
      "batch\n",
      "epoch18\n",
      "train loss: 3.0124259865260683e-05\n",
      "regular: 0.0050690192729234695\n",
      "valid loss: 2.9980648832861334e-05\n",
      "accuracy: 67.18400120735168 %\n"
     ]
    },
    {
     "data": {
      "image/png": "[encoded data removed]",
      "text/plain": [
       "<Figure size 432x288 with 2 Axes>"
      ]
     },
     "metadata": {
      "needs_background": "light"
     },
     "output_type": "display_data"
    },
    {
     "name": "stdout",
     "output_type": "stream",
     "text": [
      "Learning Rate:[0.08145033635316129]\n",
      "batch\n",
      "batch\n",
      "epoch19\n",
      "train loss: 3.012121669598855e-05\n",
      "regular: 0.008316216059029102\n",
      "valid loss: 2.990496977872681e-05\n",
      "accuracy: 67.18400120735168 %\n"
     ]
    },
    {
     "data": {
      "image/png": "[encoded data removed]",
      "text/plain": [
       "<Figure size 432x288 with 2 Axes>"
      ]
     },
     "metadata": {
      "needs_background": "light"
     },
     "output_type": "display_data"
    },
    {
     "name": "stdout",
     "output_type": "stream",
     "text": [
      "Learning Rate:[0.09140576474687265]\n",
      "batch\n",
      "batch\n",
      "epoch20\n",
      "train loss: 2.9994438591529615e-05\n",
      "regular: 0.015572592616081238\n",
      "valid loss: 2.970226159959566e-05\n",
      "accuracy: 67.18400120735168 %\n"
     ]
    },
    {
     "data": {
      "image/png": "[encoded data removed]",
      "text/plain": [
       "<Figure size 432x288 with 2 Axes>"
      ]
     },
     "metadata": {
      "needs_background": "light"
     },
     "output_type": "display_data"
    },
    {
     "name": "stdout",
     "output_type": "stream",
     "text": [
      "Learning Rate:[0.09779754323328191]\n",
      "batch\n",
      "batch\n",
      "epoch21\n",
      "train loss: 2.9736358555965126e-05\n",
      "regular: 0.0523410439491272\n",
      "valid loss: 2.9400220228126273e-05\n",
      "accuracy: 67.18400120735168 %\n"
     ]
    },
    {
     "data": {
      "image/png": "[encoded data removed]",
      "text/plain": [
       "<Figure size 432x288 with 2 Axes>"
      ]
     },
     "metadata": {
      "needs_background": "light"
     },
     "output_type": "display_data"
    },
    {
     "name": "stdout",
     "output_type": "stream",
     "text": [
      "Learning Rate:[0.1]\n",
      "batch\n",
      "batch\n",
      "epoch22\n",
      "train loss: 2.9391034331638366e-05\n",
      "regular: 0.11666012555360794\n",
      "valid loss: 2.902204323618207e-05\n",
      "accuracy: 67.18400120735168 %\n"
     ]
    },
    {
     "data": {
      "image/png": "[encoded data removed]",
      "text/plain": [
       "<Figure size 432x288 with 2 Axes>"
      ]
     },
     "metadata": {
      "needs_background": "light"
     },
     "output_type": "display_data"
    },
    {
     "name": "stdout",
     "output_type": "stream",
     "text": [
      "Learning Rate:[0.09779754323328191]\n",
      "batch\n",
      "batch\n",
      "epoch23\n",
      "train loss: 2.898352249758318e-05\n",
      "regular: 0.1502869427204132\n",
      "valid loss: 2.854763442883268e-05\n",
      "accuracy: 67.18400120735168 %\n"
     ]
    },
    {
     "data": {
      "image/png": "[encoded data removed]",
      "text/plain": [
       "<Figure size 432x288 with 2 Axes>"
      ]
     },
     "metadata": {
      "needs_background": "light"
     },
     "output_type": "display_data"
    },
    {
     "name": "stdout",
     "output_type": "stream",
     "text": [
      "Learning Rate:[0.09140576474687268]\n",
      "batch\n",
      "batch\n",
      "epoch24\n",
      "train loss: 2.8473945349105634e-05\n",
      "regular: 0.26440203189849854\n",
      "valid loss: 2.796891021716874e-05\n",
      "accuracy: 67.18400120735168 %\n"
     ]
    },
    {
     "data": {
      "image/png": "[encoded data removed]",
      "text/plain": [
       "<Figure size 432x288 with 2 Axes>"
      ]
     },
     "metadata": {
      "needs_background": "light"
     },
     "output_type": "display_data"
    },
    {
     "name": "stdout",
     "output_type": "stream",
     "text": [
      "Learning Rate:[0.08145033635316129]\n",
      "batch\n",
      "batch\n",
      "epoch25\n",
      "train loss: 2.7823192795040086e-05\n",
      "regular: 0.5921847224235535\n",
      "valid loss: 2.7285475880489685e-05\n",
      "accuracy: 67.18400120735168 %\n"
     ]
    },
    {
     "data": {
      "image/png": "[encoded data removed]",
      "text/plain": [
       "<Figure size 432x288 with 2 Axes>"
      ]
     },
     "metadata": {
      "needs_background": "light"
     },
     "output_type": "display_data"
    },
    {
     "name": "stdout",
     "output_type": "stream",
     "text": [
      "Learning Rate:[0.06890576474687266]\n",
      "batch\n",
      "batch\n",
      "epoch26\n",
      "train loss: 576.0230712890625\n",
      "regular: 1.235451579093933\n",
      "valid loss: 1095.0323486328125\n",
      "accuracy: 91.73599481582642 %\n",
      "saved\n"
     ]
    },
    {
     "data": {
      "image/png": "[encoded data removed]",
      "text/plain": [
       "<Figure size 432x288 with 2 Axes>"
      ]
     },
     "metadata": {
      "needs_background": "light"
     },
     "output_type": "display_data"
    },
    {
     "name": "stdout",
     "output_type": "stream",
     "text": [
      "Learning Rate:[0.05500000000000001]\n",
      "batch\n",
      "batch\n",
      "epoch27\n",
      "train loss: 1223.0374755859375\n",
      "regular: 3.008112668991089\n",
      "valid loss: 1108.032470703125\n",
      "accuracy: 91.37600064277649 %\n"
     ]
    },
    {
     "data": {
      "image/png": "[encoded data removed]",
      "text/plain": [
       "<Figure size 432x288 with 2 Axes>"
      ]
     },
     "metadata": {
      "needs_background": "light"
     },
     "output_type": "display_data"
    },
    {
     "name": "stdout",
     "output_type": "stream",
     "text": [
      "Learning Rate:[0.04109423525312738]\n",
      "batch\n",
      "batch\n",
      "epoch28\n",
      "train loss: 1044.02978515625\n",
      "regular: 5.04916524887085\n",
      "valid loss: 1215.5362548828125\n",
      "accuracy: 91.51600003242493 %\n"
     ]
    },
    {
     "data": {
      "image/png": "[encoded data removed]",
      "text/plain": [
       "<Figure size 432x288 with 2 Axes>"
      ]
     },
     "metadata": {
      "needs_background": "light"
     },
     "output_type": "display_data"
    },
    {
     "name": "stdout",
     "output_type": "stream",
     "text": [
      "Learning Rate:[0.02854966364683872]\n",
      "batch\n",
      "batch\n",
      "epoch29\n",
      "train loss: 1375.5426025390625\n",
      "regular: 7.67499303817749\n",
      "valid loss: 1643.05419921875\n",
      "accuracy: 91.08799695968628 %\n"
     ]
    },
    {
     "data": {
      "image/png": "[encoded data removed]",
      "text/plain": [
       "<Figure size 432x288 with 2 Axes>"
      ]
     },
     "metadata": {
      "needs_background": "light"
     },
     "output_type": "display_data"
    },
    {
     "name": "stdout",
     "output_type": "stream",
     "text": [
      "Learning Rate:[0.018594235253127374]\n",
      "batch\n",
      "batch\n",
      "epoch30\n",
      "train loss: 1643.05419921875\n",
      "regular: 10.782562255859375\n",
      "valid loss: 1851.06298828125\n",
      "accuracy: 91.01199507713318 %\n"
     ]
    },
    {
     "data": {
      "image/png": "[encoded data removed]",
      "text/plain": [
       "<Figure size 432x288 with 2 Axes>"
      ]
     },
     "metadata": {
      "needs_background": "light"
     },
     "output_type": "display_data"
    },
    {
     "name": "stdout",
     "output_type": "stream",
     "text": [
      "Learning Rate:[0.012202456766718097]\n",
      "batch\n",
      "batch\n",
      "epoch31\n",
      "train loss: 1627.0540771484375\n",
      "regular: 13.158318519592285\n",
      "valid loss: 1585.552734375\n",
      "accuracy: 90.76799750328064 %\n"
     ]
    },
    {
     "data": {
      "image/png": "[encoded data removed]",
      "text/plain": [
       "<Figure size 432x288 with 2 Axes>"
      ]
     },
     "metadata": {
      "needs_background": "light"
     },
     "output_type": "display_data"
    },
    {
     "name": "stdout",
     "output_type": "stream",
     "text": [
      "Learning Rate:[0.010000000000000002]\n",
      "batch\n",
      "batch\n",
      "epoch32\n",
      "train loss: 1649.55517578125\n",
      "regular: 14.381281852722168\n",
      "valid loss: 1841.5618896484375\n",
      "accuracy: 90.81599712371826 %\n"
     ]
    },
    {
     "data": {
      "image/png": "[encoded data removed]",
      "text/plain": [
       "<Figure size 432x288 with 2 Axes>"
      ]
     },
     "metadata": {
      "needs_background": "light"
     },
     "output_type": "display_data"
    },
    {
     "name": "stdout",
     "output_type": "stream",
     "text": [
      "Learning Rate:[0.012202456766718089]\n",
      "batch\n",
      "batch\n",
      "epoch33\n",
      "train loss: 1937.565673828125\n",
      "regular: 17.40676498413086\n",
      "valid loss: 1505.050048828125\n",
      "accuracy: 91.22399687767029 %\n"
     ]
    },
    {
     "data": {
      "image/png": "[encoded data removed]",
      "text/plain": [
       "<Figure size 432x288 with 2 Axes>"
      ]
     },
     "metadata": {
      "needs_background": "light"
     },
     "output_type": "display_data"
    },
    {
     "name": "stdout",
     "output_type": "stream",
     "text": [
      "Learning Rate:[0.018594235253127357]\n",
      "batch\n",
      "batch\n",
      "epoch34\n",
      "train loss: 1089.033447265625\n",
      "regular: 17.445070266723633\n",
      "valid loss: 1160.034912109375\n",
      "accuracy: 91.6599988937378 %\n"
     ]
    },
    {
     "data": {
      "image/png": "[encoded data removed]",
      "text/plain": [
       "<Figure size 432x288 with 2 Axes>"
      ]
     },
     "metadata": {
      "needs_background": "light"
     },
     "output_type": "display_data"
    },
    {
     "name": "stdout",
     "output_type": "stream",
     "text": [
      "Learning Rate:[0.028549663646838697]\n",
      "batch\n",
      "batch\n",
      "epoch35\n",
      "train loss: 1320.041259765625\n",
      "regular: 25.919614791870117\n",
      "valid loss: 1458.04638671875\n",
      "accuracy: 91.75999760627747 %\n",
      "saved\n"
     ]
    },
    {
     "data": {
      "image/png": "[encoded data removed]",
      "text/plain": [
       "<Figure size 432x288 with 2 Axes>"
      ]
     },
     "metadata": {
      "needs_background": "light"
     },
     "output_type": "display_data"
    },
    {
     "name": "stdout",
     "output_type": "stream",
     "text": [
      "Learning Rate:[0.041094235253127345]\n",
      "batch\n",
      "batch\n",
      "epoch36\n",
      "train loss: 1138.03369140625\n",
      "regular: 37.37180709838867\n",
      "valid loss: 1295.541259765625\n",
      "accuracy: 92.10799932479858 %\n",
      "saved\n"
     ]
    },
    {
     "data": {
      "image/png": "[encoded data removed]",
      "text/plain": [
       "<Figure size 432x288 with 2 Axes>"
      ]
     },
     "metadata": {
      "needs_background": "light"
     },
     "output_type": "display_data"
    },
    {
     "name": "stdout",
     "output_type": "stream",
     "text": [
      "Learning Rate:[0.05499999999999998]\n",
      "batch\n",
      "batch\n",
      "epoch37\n",
      "train loss: 1039.531005859375\n",
      "regular: 57.142234802246094\n",
      "valid loss: 2392.5859375\n",
      "accuracy: 88.291996717453 %\n"
     ]
    },
    {
     "data": {
      "image/png": "[encoded data removed]",
      "text/plain": [
       "<Figure size 432x288 with 2 Axes>"
      ]
     },
     "metadata": {
      "needs_background": "light"
     },
     "output_type": "display_data"
    },
    {
     "name": "stdout",
     "output_type": "stream",
     "text": [
      "Learning Rate:[0.06890576474687261]\n",
      "batch\n",
      "batch\n",
      "epoch38\n",
      "train loss: 728.519287109375\n",
      "regular: 72.78703308105469\n",
      "valid loss: 589.016357421875\n",
      "accuracy: 90.07200002670288 %\n"
     ]
    },
    {
     "data": {
      "image/png": "[encoded data removed]",
      "text/plain": [
       "<Figure size 432x288 with 2 Axes>"
      ]
     },
     "metadata": {
      "needs_background": "light"
     },
     "output_type": "display_data"
    },
    {
     "name": "stdout",
     "output_type": "stream",
     "text": [
      "Learning Rate:[0.08145033635316129]\n",
      "batch\n",
      "batch\n",
      "epoch39\n",
      "train loss: 685.0202026367188\n",
      "regular: 146.56683349609375\n",
      "valid loss: 845.0243530273438\n",
      "accuracy: 89.44399952888489 %\n"
     ]
    },
    {
     "data": {
      "image/png": "[encoded data removed]",
      "text/plain": [
       "<Figure size 432x288 with 2 Axes>"
      ]
     },
     "metadata": {
      "needs_background": "light"
     },
     "output_type": "display_data"
    },
    {
     "name": "stdout",
     "output_type": "stream",
     "text": [
      "Learning Rate:[0.09140576474687262]\n",
      "batch\n",
      "batch\n",
      "epoch40\n",
      "train loss: 685.0179443359375\n",
      "regular: 160.38551330566406\n",
      "valid loss: 543.5150146484375\n",
      "accuracy: 89.4599974155426 %\n"
     ]
    },
    {
     "data": {
      "image/png": "[encoded data removed]",
      "text/plain": [
       "<Figure size 432x288 with 2 Axes>"
      ]
     },
     "metadata": {
      "needs_background": "light"
     },
     "output_type": "display_data"
    },
    {
     "name": "stdout",
     "output_type": "stream",
     "text": [
      "Learning Rate:[0.09779754323328191]\n",
      "batch\n",
      "batch\n",
      "epoch41\n",
      "train loss: 543.5150146484375\n",
      "regular: 149.36244201660156\n",
      "valid loss: 641.5189208984375\n",
      "accuracy: 89.55999612808228 %\n"
     ]
    },
    {
     "data": {
      "image/png": "[encoded data removed]",
      "text/plain": [
       "<Figure size 432x288 with 2 Axes>"
      ]
     },
     "metadata": {
      "needs_background": "light"
     },
     "output_type": "display_data"
    },
    {
     "name": "stdout",
     "output_type": "stream",
     "text": [
      "Learning Rate:[0.1]\n",
      "batch\n",
      "batch\n",
      "epoch42\n",
      "train loss: 641.5189208984375\n",
      "regular: 208.41177368164062\n",
      "valid loss: 763.5228271484375\n",
      "accuracy: 89.99599814414978 %\n"
     ]
    },
    {
     "data": {
      "image/png": "[encoded data removed]",
      "text/plain": [
       "<Figure size 432x288 with 2 Axes>"
      ]
     },
     "metadata": {
      "needs_background": "light"
     },
     "output_type": "display_data"
    },
    {
     "name": "stdout",
     "output_type": "stream",
     "text": [
      "Learning Rate:[0.09779754323328194]\n",
      "batch\n",
      "batch\n",
      "epoch43\n",
      "train loss: 859.526611328125\n",
      "regular: 284.7696838378906\n",
      "valid loss: 914.5291748046875\n",
      "accuracy: 89.93600010871887 %\n"
     ]
    },
    {
     "data": {
      "image/png": "[encoded data removed]",
      "text/plain": [
       "<Figure size 432x288 with 2 Axes>"
      ]
     },
     "metadata": {
      "needs_background": "light"
     },
     "output_type": "display_data"
    },
    {
     "name": "stdout",
     "output_type": "stream",
     "text": [
      "Learning Rate:[0.09140576474687265]\n",
      "batch\n",
      "batch\n",
      "epoch44\n",
      "train loss: 1074.5355224609375\n",
      "regular: 354.33160400390625\n",
      "valid loss: 853.5277709960938\n",
      "accuracy: 90.06399512290955 %\n"
     ]
    },
    {
     "data": {
      "image/png": "[encoded data removed]",
      "text/plain": [
       "<Figure size 432x288 with 2 Axes>"
      ]
     },
     "metadata": {
      "needs_background": "light"
     },
     "output_type": "display_data"
    },
    {
     "name": "stdout",
     "output_type": "stream",
     "text": [
      "Learning Rate:[0.08145033635316132]\n",
      "batch\n",
      "batch\n",
      "epoch45\n",
      "train loss: 789.5252075195312\n",
      "regular: 282.6605529785156\n",
      "valid loss: 749.0238647460938\n",
      "accuracy: 90.09199738502502 %\n"
     ]
    },
    {
     "data": {
      "image/png": "[encoded data removed]",
      "text/plain": [
       "<Figure size 432x288 with 2 Axes>"
      ]
     },
     "metadata": {
      "needs_background": "light"
     },
     "output_type": "display_data"
    },
    {
     "name": "stdout",
     "output_type": "stream",
     "text": [
      "Learning Rate:[0.06890576474687274]\n",
      "batch\n",
      "batch\n",
      "epoch46\n",
      "train loss: 749.0238647460938\n",
      "regular: 273.16021728515625\n",
      "valid loss: 608.0186767578125\n",
      "accuracy: 90.1639997959137 %\n"
     ]
    },
    {
     "data": {
      "image/png": "[encoded data removed]",
      "text/plain": [
       "<Figure size 432x288 with 2 Axes>"
      ]
     },
     "metadata": {
      "needs_background": "light"
     },
     "output_type": "display_data"
    },
    {
     "name": "stdout",
     "output_type": "stream",
     "text": [
      "Learning Rate:[0.05500000000000002]\n",
      "batch\n",
      "batch\n",
      "epoch47\n",
      "train loss: 608.0186767578125\n",
      "regular: 225.9371795654297\n",
      "valid loss: 575.0174560546875\n",
      "accuracy: 89.99999761581421 %\n"
     ]
    },
    {
     "data": {
      "image/png": "[encoded data removed]",
      "text/plain": [
       "<Figure size 432x288 with 2 Axes>"
      ]
     },
     "metadata": {
      "needs_background": "light"
     },
     "output_type": "display_data"
    },
    {
     "name": "stdout",
     "output_type": "stream",
     "text": [
      "Learning Rate:[0.04109423525312739]\n",
      "batch\n",
      "batch\n",
      "epoch48\n",
      "train loss: 575.0174560546875\n",
      "regular: 216.9928741455078\n",
      "valid loss: 612.0187377929688\n",
      "accuracy: 90.01999497413635 %\n"
     ]
    },
    {
     "data": {
      "image/png": "[encoded data removed]",
      "text/plain": [
       "<Figure size 432x288 with 2 Axes>"
      ]
     },
     "metadata": {
      "needs_background": "light"
     },
     "output_type": "display_data"
    },
    {
     "name": "stdout",
     "output_type": "stream",
     "text": [
      "Learning Rate:[0.028549663646838665]\n",
      "batch\n",
      "batch\n",
      "epoch49\n",
      "train loss: 612.0187377929688\n",
      "regular: 229.72503662109375\n",
      "valid loss: 615.0187377929688\n",
      "accuracy: 90.0879979133606 %\n"
     ]
    },
    {
     "data": {
      "image/png": "[encoded data removed]",
      "text/plain": [
       "<Figure size 432x288 with 2 Axes>"
      ]
     },
     "metadata": {
      "needs_background": "light"
     },
     "output_type": "display_data"
    },
    {
     "name": "stdout",
     "output_type": "stream",
     "text": [
      "Learning Rate:[0.01859423525312738]\n"
     ]
    }
   ],
   "source": [
    "# Training Loop \n",
    "%matplotlib inline\n",
    "highest = 0\n",
    "regular = 1e10\n",
    "for k in range(50):\n",
    "    \n",
    "    running_loss= 0 \n",
    "    corrects = 0\n",
    "    #Train\n",
    "    for inp, target in Train:\n",
    "        optimizer.zero_grad()\n",
    "        inp = inp.cuda()\n",
    "        print('batch')\n",
    "        output = model.forward(inp.float())\n",
    "        #train\n",
    "        Thresholded = torch.gt(output.float(),torch.tensor([0.5]).float().cuda()).float()\n",
    "        loss = nn.functional.binary_cross_entropy(output, target.float().cuda()) + regular*torch.nn.functional.mse_loss(Conv(Thresholded.reshape([1,1,output.shape[0]])),torch.zeros([1,1,output.shape[0]-1]).cuda()) \n",
    "        #loss = CrossEntropy(output, target.float().reshape(output.shape).cuda())\n",
    "        loss.backward()\n",
    "        optimizer.step()\n",
    "        running_loss += loss/len(target)  \n",
    "    if k % 1==0: \n",
    "        print(\"epoch{}\".format(k))\n",
    "        print(\"train loss: {}\".format(running_loss))\n",
    "        print(\"regular: {}\".format(regular*torch.nn.functional.mse_loss(Conv(output.reshape([1,1,output.shape[0]])),torch.zeros([1,1,output.shape[0]-1]).cuda()) \n",
    "/len(target)))\n",
    "    running_loss= 0 \n",
    "    # Added the option of just running the Training step for the first few epochs.\n",
    "    if k > 1:\n",
    "        # Validate. \n",
    "        for inp, target in Valid:\n",
    "            inp = inp.cuda()\n",
    "            output = model.forward(inp.float())\n",
    "            Thresholded = torch.gt(output,torch.tensor([0.5]).float().cuda()).float()\n",
    "            #valid\n",
    "            loss = nn.functional.binary_cross_entropy(output, target.float().reshape(output.shape).cuda()) + regular*torch.nn.functional.mse_loss(Conv(Thresholded.reshape([1,1,output.shape[0]])),torch.zeros([1,1,output.shape[0]-1]).cuda())\n",
    "            #Track Epoch Loss\n",
    "            running_loss += loss/len(target)\n",
    "            a = (output>0.5) \n",
    "            b= target.reshape(output.shape).cuda()>0.5 \n",
    "        \n",
    "        #Print out. \n",
    "        if k % 1 ==0: \n",
    "            print(\"valid loss: {}\".format(running_loss))\n",
    "            print(\"accuracy: {} %\".format((a==b).float().mean().item()*100))\n",
    "            if ((a==b).float().mean().item()*100)> highest:\n",
    "                highest = ((a==b).float().mean().item()*100)\n",
    "                #Save out model that achieves best accuracy. \n",
    "                torch.save(model.state_dict(), './ModelSave3.pt')\n",
    "                print(\"saved\")\n",
    "            plt.figure()    \n",
    "            sns.heatmap(confusion_matrix(a.cpu().numpy(),b.cpu().numpy()))\n",
    "            plt.show()\n",
    "            \n",
    "    print(\"Learning Rate:{}\".format(scheduler.get_lr()))\n",
    "    scheduler.step() "
   ]
  },
  {
   "cell_type": "code",
   "execution_count": 264,
   "metadata": {},
   "outputs": [
    {
     "name": "stdout",
     "output_type": "stream",
     "text": [
      "None\n"
     ]
    },
    {
     "data": {
      "text/plain": [
       "[<matplotlib.lines.Line2D at 0x7f3a9071fc88>]"
      ]
     },
     "execution_count": 264,
     "metadata": {},
     "output_type": "execute_result"
    },
    {
     "data": {
      "image/png": "[encoded data removed]",
      "text/plain": [
       "<Figure size 432x288 with 1 Axes>"
      ]
     },
     "metadata": {
      "needs_background": "light"
     },
     "output_type": "display_data"
    }
   ],
   "source": [
    "print(loss.grad)\n",
    "plt.figure()\n",
    "plt.plot(Thresholded.detach().cpu().numpy()[:10000])\n",
    "plt.plot(Conv(Thresholded.reshape([1,1,output.shape[0]])).cpu().detach().numpy().flatten()**2)"
   ]
  },
  {
   "cell_type": "code",
   "execution_count": null,
   "metadata": {},
   "outputs": [],
   "source": []
  },
  {
   "cell_type": "code",
   "execution_count": 155,
   "metadata": {
    "scrolled": true
   },
   "outputs": [
    {
     "ename": "AttributeError",
     "evalue": "'NoneType' object has no attribute 'abs'",
     "output_type": "error",
     "traceback": [
      "\u001b[0;31m---------------------------------------------------------------------------\u001b[0m",
      "\u001b[0;31mAttributeError\u001b[0m                            Traceback (most recent call last)",
      "\u001b[0;32m<ipython-input-155-241b2dff74b0>\u001b[0m in \u001b[0;36m<module>\u001b[0;34m\u001b[0m\n\u001b[1;32m     27\u001b[0m                 \u001b[0mLine2D\u001b[0m\u001b[0;34m(\u001b[0m\u001b[0;34m[\u001b[0m\u001b[0;36m0\u001b[0m\u001b[0;34m]\u001b[0m\u001b[0;34m,\u001b[0m \u001b[0;34m[\u001b[0m\u001b[0;36m0\u001b[0m\u001b[0;34m]\u001b[0m\u001b[0;34m,\u001b[0m \u001b[0mcolor\u001b[0m\u001b[0;34m=\u001b[0m\u001b[0;34m\"b\"\u001b[0m\u001b[0;34m,\u001b[0m \u001b[0mlw\u001b[0m\u001b[0;34m=\u001b[0m\u001b[0;36m4\u001b[0m\u001b[0;34m)\u001b[0m\u001b[0;34m,\u001b[0m\u001b[0;34m\u001b[0m\u001b[0;34m\u001b[0m\u001b[0m\n\u001b[1;32m     28\u001b[0m                 Line2D([0], [0], color=\"k\", lw=4)], ['max-gradient', 'mean-gradient', 'zero-gradient'])\n\u001b[0;32m---> 29\u001b[0;31m \u001b[0mplot_grad_flow\u001b[0m\u001b[0;34m(\u001b[0m\u001b[0mmodel\u001b[0m\u001b[0;34m.\u001b[0m\u001b[0mnamed_parameters\u001b[0m\u001b[0;34m(\u001b[0m\u001b[0;34m)\u001b[0m\u001b[0;34m)\u001b[0m\u001b[0;34m\u001b[0m\u001b[0;34m\u001b[0m\u001b[0m\n\u001b[0m",
      "\u001b[0;32m<ipython-input-155-241b2dff74b0>\u001b[0m in \u001b[0;36mplot_grad_flow\u001b[0;34m(named_parameters)\u001b[0m\n\u001b[1;32m     12\u001b[0m         \u001b[0;32mif\u001b[0m\u001b[0;34m(\u001b[0m\u001b[0mp\u001b[0m\u001b[0;34m.\u001b[0m\u001b[0mrequires_grad\u001b[0m\u001b[0;34m)\u001b[0m \u001b[0;32mand\u001b[0m \u001b[0;34m(\u001b[0m\u001b[0;34m\"bias\"\u001b[0m \u001b[0;32mnot\u001b[0m \u001b[0;32min\u001b[0m \u001b[0mn\u001b[0m\u001b[0;34m)\u001b[0m\u001b[0;34m:\u001b[0m\u001b[0;34m\u001b[0m\u001b[0;34m\u001b[0m\u001b[0m\n\u001b[1;32m     13\u001b[0m             \u001b[0mlayers\u001b[0m\u001b[0;34m.\u001b[0m\u001b[0mappend\u001b[0m\u001b[0;34m(\u001b[0m\u001b[0mn\u001b[0m\u001b[0;34m)\u001b[0m\u001b[0;34m\u001b[0m\u001b[0;34m\u001b[0m\u001b[0m\n\u001b[0;32m---> 14\u001b[0;31m             \u001b[0mave_grads\u001b[0m\u001b[0;34m.\u001b[0m\u001b[0mappend\u001b[0m\u001b[0;34m(\u001b[0m\u001b[0mp\u001b[0m\u001b[0;34m.\u001b[0m\u001b[0mgrad\u001b[0m\u001b[0;34m.\u001b[0m\u001b[0mabs\u001b[0m\u001b[0;34m(\u001b[0m\u001b[0;34m)\u001b[0m\u001b[0;34m.\u001b[0m\u001b[0mmean\u001b[0m\u001b[0;34m(\u001b[0m\u001b[0;34m)\u001b[0m\u001b[0;34m)\u001b[0m\u001b[0;34m\u001b[0m\u001b[0;34m\u001b[0m\u001b[0m\n\u001b[0m\u001b[1;32m     15\u001b[0m             \u001b[0mmax_grads\u001b[0m\u001b[0;34m.\u001b[0m\u001b[0mappend\u001b[0m\u001b[0;34m(\u001b[0m\u001b[0mp\u001b[0m\u001b[0;34m.\u001b[0m\u001b[0mgrad\u001b[0m\u001b[0;34m.\u001b[0m\u001b[0mabs\u001b[0m\u001b[0;34m(\u001b[0m\u001b[0;34m)\u001b[0m\u001b[0;34m.\u001b[0m\u001b[0mmax\u001b[0m\u001b[0;34m(\u001b[0m\u001b[0;34m)\u001b[0m\u001b[0;34m)\u001b[0m\u001b[0;34m\u001b[0m\u001b[0;34m\u001b[0m\u001b[0m\n\u001b[1;32m     16\u001b[0m     \u001b[0mplt\u001b[0m\u001b[0;34m.\u001b[0m\u001b[0mbar\u001b[0m\u001b[0;34m(\u001b[0m\u001b[0mnp\u001b[0m\u001b[0;34m.\u001b[0m\u001b[0marange\u001b[0m\u001b[0;34m(\u001b[0m\u001b[0mlen\u001b[0m\u001b[0;34m(\u001b[0m\u001b[0mmax_grads\u001b[0m\u001b[0;34m)\u001b[0m\u001b[0;34m)\u001b[0m\u001b[0;34m,\u001b[0m \u001b[0mmax_grads\u001b[0m\u001b[0;34m,\u001b[0m \u001b[0malpha\u001b[0m\u001b[0;34m=\u001b[0m\u001b[0;36m0.1\u001b[0m\u001b[0;34m,\u001b[0m \u001b[0mlw\u001b[0m\u001b[0;34m=\u001b[0m\u001b[0;36m1\u001b[0m\u001b[0;34m,\u001b[0m \u001b[0mcolor\u001b[0m\u001b[0;34m=\u001b[0m\u001b[0;34m\"c\"\u001b[0m\u001b[0;34m)\u001b[0m\u001b[0;34m\u001b[0m\u001b[0;34m\u001b[0m\u001b[0m\n",
      "\u001b[0;31mAttributeError\u001b[0m: 'NoneType' object has no attribute 'abs'"
     ]
    }
   ],
   "source": [
    "from matplotlib.lines import Line2D   \n",
    "def plot_grad_flow(named_parameters):\n",
    "    '''Plots the gradients flowing through different layers in the net during training.\n",
    "    Can be used for checking for possible gradient vanishing / exploding problems.\n",
    "    \n",
    "    Usage: Plug this function in Trainer class after loss.backwards() as \n",
    "    \"plot_grad_flow(self.model.named_parameters())\" to visualize the gradient flow'''\n",
    "    ave_grads = []\n",
    "    max_grads= []\n",
    "    layers = []\n",
    "    for n, p in named_parameters:\n",
    "        if(p.requires_grad) and (\"bias\" not in n):\n",
    "            layers.append(n)\n",
    "            ave_grads.append(p.grad.abs().mean())\n",
    "            max_grads.append(p.grad.abs().max())\n",
    "    plt.bar(np.arange(len(max_grads)), max_grads, alpha=0.1, lw=1, color=\"c\")\n",
    "    plt.bar(np.arange(len(max_grads)), ave_grads, alpha=0.1, lw=1, color=\"b\")\n",
    "    plt.hlines(0, 0, len(ave_grads)+1, lw=2, color=\"k\" )\n",
    "    plt.xticks(range(0,len(ave_grads), 1), layers, rotation=\"vertical\")\n",
    "    plt.xlim(left=0, right=len(ave_grads))\n",
    "    plt.ylim(bottom = -0.001, top=0.02) # zoom in on the lower gradient regions\n",
    "    plt.xlabel(\"Layers\")\n",
    "    plt.ylabel(\"average gradient\")\n",
    "    plt.title(\"Gradient flow\")\n",
    "    plt.grid(True)\n",
    "    plt.legend([Line2D([0], [0], color=\"c\", lw=4),\n",
    "                Line2D([0], [0], color=\"b\", lw=4),\n",
    "                Line2D([0], [0], color=\"k\", lw=4)], ['max-gradient', 'mean-gradient', 'zero-gradient'])\n",
    "plot_grad_flow(model.named_parameters())"
   ]
  },
  {
   "cell_type": "code",
   "execution_count": 23,
   "metadata": {},
   "outputs": [
    {
     "ename": "AttributeError",
     "evalue": "'NoneType' object has no attribute 'abs'",
     "output_type": "error",
     "traceback": [
      "\u001b[0;31m---------------------------------------------------------------------------\u001b[0m",
      "\u001b[0;31mAttributeError\u001b[0m                            Traceback (most recent call last)",
      "\u001b[0;32m<ipython-input-23-623b4f4b8009>\u001b[0m in \u001b[0;36m<module>\u001b[0;34m\u001b[0m\n\u001b[1;32m      5\u001b[0m         \u001b[0;32mif\u001b[0m\u001b[0;34m(\u001b[0m\u001b[0mp\u001b[0m\u001b[0;34m.\u001b[0m\u001b[0mrequires_grad\u001b[0m\u001b[0;34m)\u001b[0m \u001b[0;32mand\u001b[0m \u001b[0;34m(\u001b[0m\u001b[0;34m\"bias\"\u001b[0m \u001b[0;32mnot\u001b[0m \u001b[0;32min\u001b[0m \u001b[0mn\u001b[0m\u001b[0;34m)\u001b[0m\u001b[0;34m:\u001b[0m\u001b[0;34m\u001b[0m\u001b[0;34m\u001b[0m\u001b[0m\n\u001b[1;32m      6\u001b[0m             \u001b[0mlayers\u001b[0m\u001b[0;34m.\u001b[0m\u001b[0mappend\u001b[0m\u001b[0;34m(\u001b[0m\u001b[0mn\u001b[0m\u001b[0;34m)\u001b[0m\u001b[0;34m\u001b[0m\u001b[0;34m\u001b[0m\u001b[0m\n\u001b[0;32m----> 7\u001b[0;31m             \u001b[0mave_grads\u001b[0m\u001b[0;34m.\u001b[0m\u001b[0mappend\u001b[0m\u001b[0;34m(\u001b[0m\u001b[0mp\u001b[0m\u001b[0;34m.\u001b[0m\u001b[0mgrad\u001b[0m\u001b[0;34m.\u001b[0m\u001b[0mabs\u001b[0m\u001b[0;34m(\u001b[0m\u001b[0;34m)\u001b[0m\u001b[0;34m.\u001b[0m\u001b[0mmean\u001b[0m\u001b[0;34m(\u001b[0m\u001b[0;34m)\u001b[0m\u001b[0;34m)\u001b[0m\u001b[0;34m\u001b[0m\u001b[0;34m\u001b[0m\u001b[0m\n\u001b[0m",
      "\u001b[0;31mAttributeError\u001b[0m: 'NoneType' object has no attribute 'abs'"
     ]
    }
   ],
   "source": [
    "named_parameters = model.named_parameters()\n",
    "ave_grads = []\n",
    "layers = []\n",
    "for n, p in named_parameters:\n",
    "        if(p.requires_grad) and (\"bias\" not in n):\n",
    "            layers.append(n)\n",
    "            ave_grads.append(p.grad.abs().mean())"
   ]
  },
  {
   "cell_type": "code",
   "execution_count": 24,
   "metadata": {},
   "outputs": [
    {
     "data": {
      "text/plain": [
       "'layer2.weight'"
      ]
     },
     "execution_count": 24,
     "metadata": {},
     "output_type": "execute_result"
    }
   ],
   "source": [
    "type(p)\n",
    "n"
   ]
  },
  {
   "cell_type": "markdown",
   "metadata": {},
   "source": [
    "model.named_parameters\n"
   ]
  },
  {
   "cell_type": "markdown",
   "metadata": {},
   "source": [
    "# Evaluate Model\n",
    " Load up the best performing model. Run the model and Plot the results. "
   ]
  },
  {
   "cell_type": "code",
   "execution_count": 265,
   "metadata": {},
   "outputs": [],
   "source": [
    "model2 = Classifier(6, 6, batch_size=BatchSize, output_dim=1, num_layers=10)\n",
    "model2.load_state_dict(torch.load('./ModelSave3.pt'))\n",
    "model2.cuda()\n",
    "\n",
    "df = pd.read_pickle(\"Reduced.pkl\")\n",
    "df3 = pd.read_pickle(\"Reduced3.pkl\")\n",
    "df = df.append(df3)\n",
    "df = df.append(df4.drop('time',axis=1),sort=True)\n",
    "#Load into Torch Dataset. \n",
    "Input = torch.tensor(InpScaler.transform(df[LabelList].values))\n",
    "Output = torch.tensor(df['Labels'].values)\n",
    "\n",
    "MainDataSet = torch.utils.data.TensorDataset(Input, Output)\n",
    "Main = torch.utils.data.DataLoader(MainDataSet,batch_size = 200000,num_workers = 1)\n",
    "full_results = torch.Tensor()\n",
    "#Run Model over the batches. \n",
    "for inp, Label in Main:\n",
    "    inp = inp.cuda()\n",
    "    output = model2.forward(inp.float())\n",
    "\n",
    "    full_results = torch.cat((full_results,output.cpu()),0)"
   ]
  },
  {
   "cell_type": "code",
   "execution_count": 239,
   "metadata": {},
   "outputs": [
    {
     "ename": "IndexError",
     "evalue": "too many indices for tensor of dimension 1",
     "output_type": "error",
     "traceback": [
      "\u001b[0;31m---------------------------------------------------------------------------\u001b[0m",
      "\u001b[0;31mIndexError\u001b[0m                                Traceback (most recent call last)",
      "\u001b[0;32m<ipython-input-239-b1371586d653>\u001b[0m in \u001b[0;36m<module>\u001b[0;34m\u001b[0m\n\u001b[1;32m      2\u001b[0m \u001b[0mplt\u001b[0m\u001b[0;34m.\u001b[0m\u001b[0mfigure\u001b[0m\u001b[0;34m(\u001b[0m\u001b[0;34m)\u001b[0m\u001b[0;34m\u001b[0m\u001b[0;34m\u001b[0m\u001b[0m\n\u001b[1;32m      3\u001b[0m \u001b[0;34m\u001b[0m\u001b[0m\n\u001b[0;32m----> 4\u001b[0;31m \u001b[0mfull_results\u001b[0m\u001b[0;34m[\u001b[0m\u001b[0;34m:\u001b[0m\u001b[0;34m,\u001b[0m\u001b[0;34m-\u001b[0m\u001b[0;36m2\u001b[0m\u001b[0;34m]\u001b[0m \u001b[0;34m=\u001b[0m \u001b[0mfull_results\u001b[0m\u001b[0;34m[\u001b[0m\u001b[0;34m:\u001b[0m\u001b[0;34m,\u001b[0m\u001b[0;34m-\u001b[0m\u001b[0;36m2\u001b[0m\u001b[0;34m]\u001b[0m\u001b[0;34m>\u001b[0m\u001b[0;36m0.5\u001b[0m\u001b[0;34m\u001b[0m\u001b[0;34m\u001b[0m\u001b[0m\n\u001b[0m\u001b[1;32m      5\u001b[0m \u001b[0msns\u001b[0m\u001b[0;34m.\u001b[0m\u001b[0mheatmap\u001b[0m\u001b[0;34m(\u001b[0m\u001b[0mconfusion_matrix\u001b[0m\u001b[0;34m(\u001b[0m\u001b[0mfull_results\u001b[0m\u001b[0;34m[\u001b[0m\u001b[0;34m:\u001b[0m\u001b[0;34m,\u001b[0m\u001b[0;34m-\u001b[0m\u001b[0;36m2\u001b[0m\u001b[0;34m]\u001b[0m\u001b[0;34m.\u001b[0m\u001b[0mdetach\u001b[0m\u001b[0;34m(\u001b[0m\u001b[0;34m)\u001b[0m\u001b[0;34m.\u001b[0m\u001b[0mnumpy\u001b[0m\u001b[0;34m(\u001b[0m\u001b[0;34m)\u001b[0m\u001b[0;34m,\u001b[0m\u001b[0mfull_results\u001b[0m\u001b[0;34m[\u001b[0m\u001b[0;34m:\u001b[0m\u001b[0;34m,\u001b[0m\u001b[0;34m-\u001b[0m\u001b[0;36m1\u001b[0m\u001b[0;34m]\u001b[0m\u001b[0;34m.\u001b[0m\u001b[0mdetach\u001b[0m\u001b[0;34m(\u001b[0m\u001b[0;34m)\u001b[0m\u001b[0;34m.\u001b[0m\u001b[0mnumpy\u001b[0m\u001b[0;34m(\u001b[0m\u001b[0;34m)\u001b[0m\u001b[0;34m)\u001b[0m\u001b[0;34m)\u001b[0m\u001b[0;34m\u001b[0m\u001b[0;34m\u001b[0m\u001b[0m\n\u001b[1;32m      6\u001b[0m \u001b[0mplt\u001b[0m\u001b[0;34m.\u001b[0m\u001b[0mshow\u001b[0m\u001b[0;34m(\u001b[0m\u001b[0;34m)\u001b[0m\u001b[0;34m\u001b[0m\u001b[0;34m\u001b[0m\u001b[0m\n",
      "\u001b[0;31mIndexError\u001b[0m: too many indices for tensor of dimension 1"
     ]
    },
    {
     "data": {
      "text/plain": [
       "<Figure size 432x288 with 0 Axes>"
      ]
     },
     "metadata": {},
     "output_type": "display_data"
    }
   ],
   "source": [
    "#Confusion Plot. \n",
    "plt.figure()\n",
    "\n",
    "full_results[:,-2] = full_results[:,-2]>0.5\n",
    "sns.heatmap(confusion_matrix(full_results[:,-2].detach().numpy(),full_results[:,-1].detach().numpy()))\n",
    "plt.show()"
   ]
  },
  {
   "cell_type": "code",
   "execution_count": 268,
   "metadata": {},
   "outputs": [
    {
     "data": {
      "image/png": "[encoded data removed]",
      "text/plain": [
       "<Figure size 432x288 with 1 Axes>"
      ]
     },
     "metadata": {
      "needs_background": "light"
     },
     "output_type": "display_data"
    }
   ],
   "source": [
    "#Time Series\n",
    "%matplotlib inline\n",
    "plt.figure()\n",
    "#plt.plot(full_results[:,-1].detach().numpy())\n",
    "#plt.plot(full_results[:,-2].detach().numpy())\n",
    "\n",
    "plt.plot(df['ts'].values[:20000])\n",
    "plt.plot(full_results.detach().numpy()[:20000]>0.5)\n",
    "plt.plot(df['Labels'].values[:20000])\n",
    "\n",
    "plt.show()"
   ]
  },
  {
   "cell_type": "code",
   "execution_count": 112,
   "metadata": {},
   "outputs": [
    {
     "data": {
      "text/plain": [
       "torch.Size([843750])"
      ]
     },
     "execution_count": 112,
     "metadata": {},
     "output_type": "execute_result"
    }
   ],
   "source": [
    "full_results.shape\n"
   ]
  },
  {
   "cell_type": "code",
   "execution_count": 113,
   "metadata": {},
   "outputs": [
    {
     "data": {
      "text/html": [
       "<div>\n",
       "<style scoped>\n",
       "    .dataframe tbody tr th:only-of-type {\n",
       "        vertical-align: middle;\n",
       "    }\n",
       "\n",
       "    .dataframe tbody tr th {\n",
       "        vertical-align: top;\n",
       "    }\n",
       "\n",
       "    .dataframe thead th {\n",
       "        text-align: right;\n",
       "    }\n",
       "</style>\n",
       "<table border=\"1\" class=\"dataframe\">\n",
       "  <thead>\n",
       "    <tr style=\"text-align: right;\">\n",
       "      <th></th>\n",
       "      <th>ts</th>\n",
       "      <th>Labels</th>\n",
       "      <th>0</th>\n",
       "      <th>1</th>\n",
       "      <th>2</th>\n",
       "      <th>3</th>\n",
       "      <th>4</th>\n",
       "      <th>5</th>\n",
       "    </tr>\n",
       "  </thead>\n",
       "  <tbody>\n",
       "    <tr>\n",
       "      <th>0</th>\n",
       "      <td>-0.100506</td>\n",
       "      <td>0</td>\n",
       "      <td>-0.017518</td>\n",
       "      <td>0.001688</td>\n",
       "      <td>0.000334</td>\n",
       "      <td>0.000028</td>\n",
       "      <td>-0.000025</td>\n",
       "      <td>0.000065</td>\n",
       "    </tr>\n",
       "    <tr>\n",
       "      <th>16</th>\n",
       "      <td>-0.112558</td>\n",
       "      <td>0</td>\n",
       "      <td>-0.017520</td>\n",
       "      <td>0.001688</td>\n",
       "      <td>0.000334</td>\n",
       "      <td>0.000028</td>\n",
       "      <td>-0.000025</td>\n",
       "      <td>0.000065</td>\n",
       "    </tr>\n",
       "    <tr>\n",
       "      <th>32</th>\n",
       "      <td>-0.122963</td>\n",
       "      <td>0</td>\n",
       "      <td>-0.017525</td>\n",
       "      <td>0.001688</td>\n",
       "      <td>0.000334</td>\n",
       "      <td>0.000028</td>\n",
       "      <td>-0.000025</td>\n",
       "      <td>0.000065</td>\n",
       "    </tr>\n",
       "    <tr>\n",
       "      <th>48</th>\n",
       "      <td>-0.124815</td>\n",
       "      <td>0</td>\n",
       "      <td>-0.017534</td>\n",
       "      <td>0.001687</td>\n",
       "      <td>0.000334</td>\n",
       "      <td>0.000028</td>\n",
       "      <td>-0.000025</td>\n",
       "      <td>0.000065</td>\n",
       "    </tr>\n",
       "    <tr>\n",
       "      <th>64</th>\n",
       "      <td>-0.114058</td>\n",
       "      <td>0</td>\n",
       "      <td>-0.017546</td>\n",
       "      <td>0.001687</td>\n",
       "      <td>0.000334</td>\n",
       "      <td>0.000028</td>\n",
       "      <td>-0.000025</td>\n",
       "      <td>0.000065</td>\n",
       "    </tr>\n",
       "    <tr>\n",
       "      <th>80</th>\n",
       "      <td>-0.106800</td>\n",
       "      <td>0</td>\n",
       "      <td>-0.017562</td>\n",
       "      <td>0.001687</td>\n",
       "      <td>0.000334</td>\n",
       "      <td>0.000028</td>\n",
       "      <td>-0.000025</td>\n",
       "      <td>0.000065</td>\n",
       "    </tr>\n",
       "    <tr>\n",
       "      <th>96</th>\n",
       "      <td>-0.111124</td>\n",
       "      <td>0</td>\n",
       "      <td>-0.017581</td>\n",
       "      <td>0.001686</td>\n",
       "      <td>0.000334</td>\n",
       "      <td>0.000028</td>\n",
       "      <td>-0.000025</td>\n",
       "      <td>0.000065</td>\n",
       "    </tr>\n",
       "    <tr>\n",
       "      <th>112</th>\n",
       "      <td>-0.109121</td>\n",
       "      <td>0</td>\n",
       "      <td>-0.017603</td>\n",
       "      <td>0.001686</td>\n",
       "      <td>0.000334</td>\n",
       "      <td>0.000028</td>\n",
       "      <td>-0.000025</td>\n",
       "      <td>0.000065</td>\n",
       "    </tr>\n",
       "    <tr>\n",
       "      <th>128</th>\n",
       "      <td>-0.103176</td>\n",
       "      <td>0</td>\n",
       "      <td>-0.017627</td>\n",
       "      <td>0.001685</td>\n",
       "      <td>0.000334</td>\n",
       "      <td>0.000028</td>\n",
       "      <td>-0.000025</td>\n",
       "      <td>0.000065</td>\n",
       "    </tr>\n",
       "    <tr>\n",
       "      <th>144</th>\n",
       "      <td>-0.101728</td>\n",
       "      <td>0</td>\n",
       "      <td>-0.017655</td>\n",
       "      <td>0.001684</td>\n",
       "      <td>0.000334</td>\n",
       "      <td>0.000028</td>\n",
       "      <td>-0.000025</td>\n",
       "      <td>0.000065</td>\n",
       "    </tr>\n",
       "    <tr>\n",
       "      <th>160</th>\n",
       "      <td>-0.101535</td>\n",
       "      <td>0</td>\n",
       "      <td>-0.017686</td>\n",
       "      <td>0.001684</td>\n",
       "      <td>0.000334</td>\n",
       "      <td>0.000028</td>\n",
       "      <td>-0.000025</td>\n",
       "      <td>0.000065</td>\n",
       "    </tr>\n",
       "    <tr>\n",
       "      <th>176</th>\n",
       "      <td>-0.100615</td>\n",
       "      <td>0</td>\n",
       "      <td>-0.017719</td>\n",
       "      <td>0.001683</td>\n",
       "      <td>0.000334</td>\n",
       "      <td>0.000028</td>\n",
       "      <td>-0.000025</td>\n",
       "      <td>0.000065</td>\n",
       "    </tr>\n",
       "    <tr>\n",
       "      <th>192</th>\n",
       "      <td>-0.109701</td>\n",
       "      <td>0</td>\n",
       "      <td>-0.017754</td>\n",
       "      <td>0.001682</td>\n",
       "      <td>0.000334</td>\n",
       "      <td>0.000028</td>\n",
       "      <td>-0.000025</td>\n",
       "      <td>0.000065</td>\n",
       "    </tr>\n",
       "    <tr>\n",
       "      <th>208</th>\n",
       "      <td>-0.115534</td>\n",
       "      <td>0</td>\n",
       "      <td>-0.017792</td>\n",
       "      <td>0.001681</td>\n",
       "      <td>0.000334</td>\n",
       "      <td>0.000028</td>\n",
       "      <td>-0.000025</td>\n",
       "      <td>0.000066</td>\n",
       "    </tr>\n",
       "    <tr>\n",
       "      <th>224</th>\n",
       "      <td>-0.118585</td>\n",
       "      <td>0</td>\n",
       "      <td>-0.017831</td>\n",
       "      <td>0.001680</td>\n",
       "      <td>0.000334</td>\n",
       "      <td>0.000028</td>\n",
       "      <td>-0.000025</td>\n",
       "      <td>0.000066</td>\n",
       "    </tr>\n",
       "    <tr>\n",
       "      <th>240</th>\n",
       "      <td>-0.124403</td>\n",
       "      <td>0</td>\n",
       "      <td>-0.017873</td>\n",
       "      <td>0.001679</td>\n",
       "      <td>0.000334</td>\n",
       "      <td>0.000028</td>\n",
       "      <td>-0.000025</td>\n",
       "      <td>0.000066</td>\n",
       "    </tr>\n",
       "    <tr>\n",
       "      <th>256</th>\n",
       "      <td>-0.122652</td>\n",
       "      <td>0</td>\n",
       "      <td>-0.017916</td>\n",
       "      <td>0.001678</td>\n",
       "      <td>0.000334</td>\n",
       "      <td>0.000028</td>\n",
       "      <td>-0.000025</td>\n",
       "      <td>0.000066</td>\n",
       "    </tr>\n",
       "    <tr>\n",
       "      <th>272</th>\n",
       "      <td>-0.116497</td>\n",
       "      <td>0</td>\n",
       "      <td>-0.017960</td>\n",
       "      <td>0.001677</td>\n",
       "      <td>0.000334</td>\n",
       "      <td>0.000029</td>\n",
       "      <td>-0.000025</td>\n",
       "      <td>0.000066</td>\n",
       "    </tr>\n",
       "    <tr>\n",
       "      <th>288</th>\n",
       "      <td>-0.115469</td>\n",
       "      <td>0</td>\n",
       "      <td>-0.018006</td>\n",
       "      <td>0.001676</td>\n",
       "      <td>0.000334</td>\n",
       "      <td>0.000029</td>\n",
       "      <td>-0.000025</td>\n",
       "      <td>0.000066</td>\n",
       "    </tr>\n",
       "    <tr>\n",
       "      <th>304</th>\n",
       "      <td>-0.113153</td>\n",
       "      <td>0</td>\n",
       "      <td>-0.018052</td>\n",
       "      <td>0.001675</td>\n",
       "      <td>0.000334</td>\n",
       "      <td>0.000029</td>\n",
       "      <td>-0.000025</td>\n",
       "      <td>0.000066</td>\n",
       "    </tr>\n",
       "    <tr>\n",
       "      <th>320</th>\n",
       "      <td>-0.107262</td>\n",
       "      <td>0</td>\n",
       "      <td>-0.018100</td>\n",
       "      <td>0.001674</td>\n",
       "      <td>0.000333</td>\n",
       "      <td>0.000029</td>\n",
       "      <td>-0.000025</td>\n",
       "      <td>0.000066</td>\n",
       "    </tr>\n",
       "    <tr>\n",
       "      <th>336</th>\n",
       "      <td>-0.106966</td>\n",
       "      <td>0</td>\n",
       "      <td>-0.018147</td>\n",
       "      <td>0.001674</td>\n",
       "      <td>0.000333</td>\n",
       "      <td>0.000029</td>\n",
       "      <td>-0.000025</td>\n",
       "      <td>0.000066</td>\n",
       "    </tr>\n",
       "    <tr>\n",
       "      <th>352</th>\n",
       "      <td>-0.101446</td>\n",
       "      <td>0</td>\n",
       "      <td>-0.018195</td>\n",
       "      <td>0.001673</td>\n",
       "      <td>0.000333</td>\n",
       "      <td>0.000029</td>\n",
       "      <td>-0.000025</td>\n",
       "      <td>0.000066</td>\n",
       "    </tr>\n",
       "    <tr>\n",
       "      <th>368</th>\n",
       "      <td>-0.095448</td>\n",
       "      <td>0</td>\n",
       "      <td>-0.018243</td>\n",
       "      <td>0.001672</td>\n",
       "      <td>0.000333</td>\n",
       "      <td>0.000030</td>\n",
       "      <td>-0.000025</td>\n",
       "      <td>0.000066</td>\n",
       "    </tr>\n",
       "    <tr>\n",
       "      <th>384</th>\n",
       "      <td>-0.088291</td>\n",
       "      <td>0</td>\n",
       "      <td>-0.018291</td>\n",
       "      <td>0.001671</td>\n",
       "      <td>0.000332</td>\n",
       "      <td>0.000030</td>\n",
       "      <td>-0.000024</td>\n",
       "      <td>0.000066</td>\n",
       "    </tr>\n",
       "    <tr>\n",
       "      <th>400</th>\n",
       "      <td>-0.085763</td>\n",
       "      <td>0</td>\n",
       "      <td>-0.018339</td>\n",
       "      <td>0.001670</td>\n",
       "      <td>0.000332</td>\n",
       "      <td>0.000030</td>\n",
       "      <td>-0.000024</td>\n",
       "      <td>0.000066</td>\n",
       "    </tr>\n",
       "    <tr>\n",
       "      <th>416</th>\n",
       "      <td>-0.077268</td>\n",
       "      <td>0</td>\n",
       "      <td>-0.018386</td>\n",
       "      <td>0.001669</td>\n",
       "      <td>0.000332</td>\n",
       "      <td>0.000030</td>\n",
       "      <td>-0.000024</td>\n",
       "      <td>0.000066</td>\n",
       "    </tr>\n",
       "    <tr>\n",
       "      <th>432</th>\n",
       "      <td>-0.074495</td>\n",
       "      <td>0</td>\n",
       "      <td>-0.018432</td>\n",
       "      <td>0.001668</td>\n",
       "      <td>0.000331</td>\n",
       "      <td>0.000030</td>\n",
       "      <td>-0.000024</td>\n",
       "      <td>0.000067</td>\n",
       "    </tr>\n",
       "    <tr>\n",
       "      <th>448</th>\n",
       "      <td>-0.077641</td>\n",
       "      <td>0</td>\n",
       "      <td>-0.018477</td>\n",
       "      <td>0.001668</td>\n",
       "      <td>0.000331</td>\n",
       "      <td>0.000031</td>\n",
       "      <td>-0.000024</td>\n",
       "      <td>0.000067</td>\n",
       "    </tr>\n",
       "    <tr>\n",
       "      <th>464</th>\n",
       "      <td>-0.081948</td>\n",
       "      <td>0</td>\n",
       "      <td>-0.018520</td>\n",
       "      <td>0.001667</td>\n",
       "      <td>0.000330</td>\n",
       "      <td>0.000031</td>\n",
       "      <td>-0.000024</td>\n",
       "      <td>0.000067</td>\n",
       "    </tr>\n",
       "    <tr>\n",
       "      <th>...</th>\n",
       "      <td>...</td>\n",
       "      <td>...</td>\n",
       "      <td>...</td>\n",
       "      <td>...</td>\n",
       "      <td>...</td>\n",
       "      <td>...</td>\n",
       "      <td>...</td>\n",
       "      <td>...</td>\n",
       "    </tr>\n",
       "    <tr>\n",
       "      <th>4499520</th>\n",
       "      <td>-0.057236</td>\n",
       "      <td>1</td>\n",
       "      <td>-0.001842</td>\n",
       "      <td>-0.000202</td>\n",
       "      <td>0.000561</td>\n",
       "      <td>0.000284</td>\n",
       "      <td>0.000022</td>\n",
       "      <td>0.000242</td>\n",
       "    </tr>\n",
       "    <tr>\n",
       "      <th>4499536</th>\n",
       "      <td>-0.040785</td>\n",
       "      <td>1</td>\n",
       "      <td>-0.001888</td>\n",
       "      <td>-0.000222</td>\n",
       "      <td>0.000526</td>\n",
       "      <td>0.000297</td>\n",
       "      <td>0.000034</td>\n",
       "      <td>0.000272</td>\n",
       "    </tr>\n",
       "    <tr>\n",
       "      <th>4499552</th>\n",
       "      <td>-0.056124</td>\n",
       "      <td>1</td>\n",
       "      <td>-0.001933</td>\n",
       "      <td>-0.000242</td>\n",
       "      <td>0.000490</td>\n",
       "      <td>0.000309</td>\n",
       "      <td>0.000046</td>\n",
       "      <td>0.000300</td>\n",
       "    </tr>\n",
       "    <tr>\n",
       "      <th>4499568</th>\n",
       "      <td>0.068326</td>\n",
       "      <td>1</td>\n",
       "      <td>-0.001976</td>\n",
       "      <td>-0.000264</td>\n",
       "      <td>0.000454</td>\n",
       "      <td>0.000320</td>\n",
       "      <td>0.000057</td>\n",
       "      <td>0.000328</td>\n",
       "    </tr>\n",
       "    <tr>\n",
       "      <th>4499584</th>\n",
       "      <td>0.133304</td>\n",
       "      <td>1</td>\n",
       "      <td>-0.002018</td>\n",
       "      <td>-0.000286</td>\n",
       "      <td>0.000418</td>\n",
       "      <td>0.000329</td>\n",
       "      <td>0.000067</td>\n",
       "      <td>0.000356</td>\n",
       "    </tr>\n",
       "    <tr>\n",
       "      <th>4499600</th>\n",
       "      <td>-0.155511</td>\n",
       "      <td>1</td>\n",
       "      <td>-0.002059</td>\n",
       "      <td>-0.000308</td>\n",
       "      <td>0.000381</td>\n",
       "      <td>0.000337</td>\n",
       "      <td>0.000077</td>\n",
       "      <td>0.000382</td>\n",
       "    </tr>\n",
       "    <tr>\n",
       "      <th>4499616</th>\n",
       "      <td>0.054381</td>\n",
       "      <td>1</td>\n",
       "      <td>-0.002098</td>\n",
       "      <td>-0.000331</td>\n",
       "      <td>0.000344</td>\n",
       "      <td>0.000344</td>\n",
       "      <td>0.000085</td>\n",
       "      <td>0.000407</td>\n",
       "    </tr>\n",
       "    <tr>\n",
       "      <th>4499632</th>\n",
       "      <td>-0.041606</td>\n",
       "      <td>1</td>\n",
       "      <td>-0.002135</td>\n",
       "      <td>-0.000354</td>\n",
       "      <td>0.000308</td>\n",
       "      <td>0.000350</td>\n",
       "      <td>0.000092</td>\n",
       "      <td>0.000432</td>\n",
       "    </tr>\n",
       "    <tr>\n",
       "      <th>4499648</th>\n",
       "      <td>-0.067594</td>\n",
       "      <td>1</td>\n",
       "      <td>-0.002172</td>\n",
       "      <td>-0.000378</td>\n",
       "      <td>0.000271</td>\n",
       "      <td>0.000354</td>\n",
       "      <td>0.000099</td>\n",
       "      <td>0.000455</td>\n",
       "    </tr>\n",
       "    <tr>\n",
       "      <th>4499664</th>\n",
       "      <td>-0.233191</td>\n",
       "      <td>1</td>\n",
       "      <td>-0.002206</td>\n",
       "      <td>-0.000401</td>\n",
       "      <td>0.000235</td>\n",
       "      <td>0.000358</td>\n",
       "      <td>0.000105</td>\n",
       "      <td>0.000477</td>\n",
       "    </tr>\n",
       "    <tr>\n",
       "      <th>4499680</th>\n",
       "      <td>-0.132197</td>\n",
       "      <td>1</td>\n",
       "      <td>-0.002240</td>\n",
       "      <td>-0.000424</td>\n",
       "      <td>0.000199</td>\n",
       "      <td>0.000360</td>\n",
       "      <td>0.000110</td>\n",
       "      <td>0.000498</td>\n",
       "    </tr>\n",
       "    <tr>\n",
       "      <th>4499696</th>\n",
       "      <td>0.033573</td>\n",
       "      <td>1</td>\n",
       "      <td>-0.002272</td>\n",
       "      <td>-0.000447</td>\n",
       "      <td>0.000164</td>\n",
       "      <td>0.000362</td>\n",
       "      <td>0.000114</td>\n",
       "      <td>0.000518</td>\n",
       "    </tr>\n",
       "    <tr>\n",
       "      <th>4499712</th>\n",
       "      <td>-0.157266</td>\n",
       "      <td>1</td>\n",
       "      <td>-0.002302</td>\n",
       "      <td>-0.000469</td>\n",
       "      <td>0.000130</td>\n",
       "      <td>0.000363</td>\n",
       "      <td>0.000118</td>\n",
       "      <td>0.000537</td>\n",
       "    </tr>\n",
       "    <tr>\n",
       "      <th>4499728</th>\n",
       "      <td>-0.074805</td>\n",
       "      <td>1</td>\n",
       "      <td>-0.002332</td>\n",
       "      <td>-0.000491</td>\n",
       "      <td>0.000097</td>\n",
       "      <td>0.000363</td>\n",
       "      <td>0.000120</td>\n",
       "      <td>0.000555</td>\n",
       "    </tr>\n",
       "    <tr>\n",
       "      <th>4499744</th>\n",
       "      <td>0.158661</td>\n",
       "      <td>1</td>\n",
       "      <td>-0.002359</td>\n",
       "      <td>-0.000512</td>\n",
       "      <td>0.000065</td>\n",
       "      <td>0.000362</td>\n",
       "      <td>0.000123</td>\n",
       "      <td>0.000572</td>\n",
       "    </tr>\n",
       "    <tr>\n",
       "      <th>4499760</th>\n",
       "      <td>0.199231</td>\n",
       "      <td>1</td>\n",
       "      <td>-0.002386</td>\n",
       "      <td>-0.000533</td>\n",
       "      <td>0.000034</td>\n",
       "      <td>0.000361</td>\n",
       "      <td>0.000124</td>\n",
       "      <td>0.000587</td>\n",
       "    </tr>\n",
       "    <tr>\n",
       "      <th>4499776</th>\n",
       "      <td>-0.096591</td>\n",
       "      <td>1</td>\n",
       "      <td>-0.002410</td>\n",
       "      <td>-0.000552</td>\n",
       "      <td>0.000004</td>\n",
       "      <td>0.000359</td>\n",
       "      <td>0.000125</td>\n",
       "      <td>0.000601</td>\n",
       "    </tr>\n",
       "    <tr>\n",
       "      <th>4499792</th>\n",
       "      <td>-0.127679</td>\n",
       "      <td>1</td>\n",
       "      <td>-0.002434</td>\n",
       "      <td>-0.000571</td>\n",
       "      <td>-0.000024</td>\n",
       "      <td>0.000357</td>\n",
       "      <td>0.000126</td>\n",
       "      <td>0.000615</td>\n",
       "    </tr>\n",
       "    <tr>\n",
       "      <th>4499808</th>\n",
       "      <td>-0.071689</td>\n",
       "      <td>1</td>\n",
       "      <td>-0.002456</td>\n",
       "      <td>-0.000588</td>\n",
       "      <td>-0.000050</td>\n",
       "      <td>0.000354</td>\n",
       "      <td>0.000126</td>\n",
       "      <td>0.000627</td>\n",
       "    </tr>\n",
       "    <tr>\n",
       "      <th>4499824</th>\n",
       "      <td>0.113952</td>\n",
       "      <td>1</td>\n",
       "      <td>-0.002476</td>\n",
       "      <td>-0.000604</td>\n",
       "      <td>-0.000075</td>\n",
       "      <td>0.000352</td>\n",
       "      <td>0.000126</td>\n",
       "      <td>0.000638</td>\n",
       "    </tr>\n",
       "    <tr>\n",
       "      <th>4499840</th>\n",
       "      <td>-0.090356</td>\n",
       "      <td>1</td>\n",
       "      <td>-0.002495</td>\n",
       "      <td>-0.000619</td>\n",
       "      <td>-0.000098</td>\n",
       "      <td>0.000349</td>\n",
       "      <td>0.000126</td>\n",
       "      <td>0.000648</td>\n",
       "    </tr>\n",
       "    <tr>\n",
       "      <th>4499856</th>\n",
       "      <td>0.275647</td>\n",
       "      <td>1</td>\n",
       "      <td>-0.002513</td>\n",
       "      <td>-0.000633</td>\n",
       "      <td>-0.000120</td>\n",
       "      <td>0.000346</td>\n",
       "      <td>0.000125</td>\n",
       "      <td>0.000657</td>\n",
       "    </tr>\n",
       "    <tr>\n",
       "      <th>4499872</th>\n",
       "      <td>-0.051416</td>\n",
       "      <td>1</td>\n",
       "      <td>-0.002528</td>\n",
       "      <td>-0.000645</td>\n",
       "      <td>-0.000139</td>\n",
       "      <td>0.000343</td>\n",
       "      <td>0.000124</td>\n",
       "      <td>0.000665</td>\n",
       "    </tr>\n",
       "    <tr>\n",
       "      <th>4499888</th>\n",
       "      <td>0.031423</td>\n",
       "      <td>1</td>\n",
       "      <td>-0.002542</td>\n",
       "      <td>-0.000656</td>\n",
       "      <td>-0.000156</td>\n",
       "      <td>0.000340</td>\n",
       "      <td>0.000124</td>\n",
       "      <td>0.000672</td>\n",
       "    </tr>\n",
       "    <tr>\n",
       "      <th>4499904</th>\n",
       "      <td>-0.001317</td>\n",
       "      <td>1</td>\n",
       "      <td>-0.002555</td>\n",
       "      <td>-0.000666</td>\n",
       "      <td>-0.000171</td>\n",
       "      <td>0.000338</td>\n",
       "      <td>0.000123</td>\n",
       "      <td>0.000678</td>\n",
       "    </tr>\n",
       "    <tr>\n",
       "      <th>4499920</th>\n",
       "      <td>0.004717</td>\n",
       "      <td>1</td>\n",
       "      <td>-0.002565</td>\n",
       "      <td>-0.000674</td>\n",
       "      <td>-0.000184</td>\n",
       "      <td>0.000336</td>\n",
       "      <td>0.000122</td>\n",
       "      <td>0.000683</td>\n",
       "    </tr>\n",
       "    <tr>\n",
       "      <th>4499936</th>\n",
       "      <td>-0.031453</td>\n",
       "      <td>1</td>\n",
       "      <td>-0.002574</td>\n",
       "      <td>-0.000681</td>\n",
       "      <td>-0.000194</td>\n",
       "      <td>0.000334</td>\n",
       "      <td>0.000122</td>\n",
       "      <td>0.000687</td>\n",
       "    </tr>\n",
       "    <tr>\n",
       "      <th>4499952</th>\n",
       "      <td>0.074153</td>\n",
       "      <td>1</td>\n",
       "      <td>-0.002580</td>\n",
       "      <td>-0.000686</td>\n",
       "      <td>-0.000202</td>\n",
       "      <td>0.000332</td>\n",
       "      <td>0.000121</td>\n",
       "      <td>0.000690</td>\n",
       "    </tr>\n",
       "    <tr>\n",
       "      <th>4499968</th>\n",
       "      <td>0.200016</td>\n",
       "      <td>1</td>\n",
       "      <td>-0.002585</td>\n",
       "      <td>-0.000690</td>\n",
       "      <td>-0.000208</td>\n",
       "      <td>0.000331</td>\n",
       "      <td>0.000121</td>\n",
       "      <td>0.000692</td>\n",
       "    </tr>\n",
       "    <tr>\n",
       "      <th>4499984</th>\n",
       "      <td>0.063862</td>\n",
       "      <td>1</td>\n",
       "      <td>-0.002588</td>\n",
       "      <td>-0.000692</td>\n",
       "      <td>-0.000211</td>\n",
       "      <td>0.000330</td>\n",
       "      <td>0.000120</td>\n",
       "      <td>0.000693</td>\n",
       "    </tr>\n",
       "  </tbody>\n",
       "</table>\n",
       "<p>843750 rows × 8 columns</p>\n",
       "</div>"
      ],
      "text/plain": [
       "               ts  Labels         0         1         2         3         4  \\\n",
       "0       -0.100506       0 -0.017518  0.001688  0.000334  0.000028 -0.000025   \n",
       "16      -0.112558       0 -0.017520  0.001688  0.000334  0.000028 -0.000025   \n",
       "32      -0.122963       0 -0.017525  0.001688  0.000334  0.000028 -0.000025   \n",
       "48      -0.124815       0 -0.017534  0.001687  0.000334  0.000028 -0.000025   \n",
       "64      -0.114058       0 -0.017546  0.001687  0.000334  0.000028 -0.000025   \n",
       "80      -0.106800       0 -0.017562  0.001687  0.000334  0.000028 -0.000025   \n",
       "96      -0.111124       0 -0.017581  0.001686  0.000334  0.000028 -0.000025   \n",
       "112     -0.109121       0 -0.017603  0.001686  0.000334  0.000028 -0.000025   \n",
       "128     -0.103176       0 -0.017627  0.001685  0.000334  0.000028 -0.000025   \n",
       "144     -0.101728       0 -0.017655  0.001684  0.000334  0.000028 -0.000025   \n",
       "160     -0.101535       0 -0.017686  0.001684  0.000334  0.000028 -0.000025   \n",
       "176     -0.100615       0 -0.017719  0.001683  0.000334  0.000028 -0.000025   \n",
       "192     -0.109701       0 -0.017754  0.001682  0.000334  0.000028 -0.000025   \n",
       "208     -0.115534       0 -0.017792  0.001681  0.000334  0.000028 -0.000025   \n",
       "224     -0.118585       0 -0.017831  0.001680  0.000334  0.000028 -0.000025   \n",
       "240     -0.124403       0 -0.017873  0.001679  0.000334  0.000028 -0.000025   \n",
       "256     -0.122652       0 -0.017916  0.001678  0.000334  0.000028 -0.000025   \n",
       "272     -0.116497       0 -0.017960  0.001677  0.000334  0.000029 -0.000025   \n",
       "288     -0.115469       0 -0.018006  0.001676  0.000334  0.000029 -0.000025   \n",
       "304     -0.113153       0 -0.018052  0.001675  0.000334  0.000029 -0.000025   \n",
       "320     -0.107262       0 -0.018100  0.001674  0.000333  0.000029 -0.000025   \n",
       "336     -0.106966       0 -0.018147  0.001674  0.000333  0.000029 -0.000025   \n",
       "352     -0.101446       0 -0.018195  0.001673  0.000333  0.000029 -0.000025   \n",
       "368     -0.095448       0 -0.018243  0.001672  0.000333  0.000030 -0.000025   \n",
       "384     -0.088291       0 -0.018291  0.001671  0.000332  0.000030 -0.000024   \n",
       "400     -0.085763       0 -0.018339  0.001670  0.000332  0.000030 -0.000024   \n",
       "416     -0.077268       0 -0.018386  0.001669  0.000332  0.000030 -0.000024   \n",
       "432     -0.074495       0 -0.018432  0.001668  0.000331  0.000030 -0.000024   \n",
       "448     -0.077641       0 -0.018477  0.001668  0.000331  0.000031 -0.000024   \n",
       "464     -0.081948       0 -0.018520  0.001667  0.000330  0.000031 -0.000024   \n",
       "...           ...     ...       ...       ...       ...       ...       ...   \n",
       "4499520 -0.057236       1 -0.001842 -0.000202  0.000561  0.000284  0.000022   \n",
       "4499536 -0.040785       1 -0.001888 -0.000222  0.000526  0.000297  0.000034   \n",
       "4499552 -0.056124       1 -0.001933 -0.000242  0.000490  0.000309  0.000046   \n",
       "4499568  0.068326       1 -0.001976 -0.000264  0.000454  0.000320  0.000057   \n",
       "4499584  0.133304       1 -0.002018 -0.000286  0.000418  0.000329  0.000067   \n",
       "4499600 -0.155511       1 -0.002059 -0.000308  0.000381  0.000337  0.000077   \n",
       "4499616  0.054381       1 -0.002098 -0.000331  0.000344  0.000344  0.000085   \n",
       "4499632 -0.041606       1 -0.002135 -0.000354  0.000308  0.000350  0.000092   \n",
       "4499648 -0.067594       1 -0.002172 -0.000378  0.000271  0.000354  0.000099   \n",
       "4499664 -0.233191       1 -0.002206 -0.000401  0.000235  0.000358  0.000105   \n",
       "4499680 -0.132197       1 -0.002240 -0.000424  0.000199  0.000360  0.000110   \n",
       "4499696  0.033573       1 -0.002272 -0.000447  0.000164  0.000362  0.000114   \n",
       "4499712 -0.157266       1 -0.002302 -0.000469  0.000130  0.000363  0.000118   \n",
       "4499728 -0.074805       1 -0.002332 -0.000491  0.000097  0.000363  0.000120   \n",
       "4499744  0.158661       1 -0.002359 -0.000512  0.000065  0.000362  0.000123   \n",
       "4499760  0.199231       1 -0.002386 -0.000533  0.000034  0.000361  0.000124   \n",
       "4499776 -0.096591       1 -0.002410 -0.000552  0.000004  0.000359  0.000125   \n",
       "4499792 -0.127679       1 -0.002434 -0.000571 -0.000024  0.000357  0.000126   \n",
       "4499808 -0.071689       1 -0.002456 -0.000588 -0.000050  0.000354  0.000126   \n",
       "4499824  0.113952       1 -0.002476 -0.000604 -0.000075  0.000352  0.000126   \n",
       "4499840 -0.090356       1 -0.002495 -0.000619 -0.000098  0.000349  0.000126   \n",
       "4499856  0.275647       1 -0.002513 -0.000633 -0.000120  0.000346  0.000125   \n",
       "4499872 -0.051416       1 -0.002528 -0.000645 -0.000139  0.000343  0.000124   \n",
       "4499888  0.031423       1 -0.002542 -0.000656 -0.000156  0.000340  0.000124   \n",
       "4499904 -0.001317       1 -0.002555 -0.000666 -0.000171  0.000338  0.000123   \n",
       "4499920  0.004717       1 -0.002565 -0.000674 -0.000184  0.000336  0.000122   \n",
       "4499936 -0.031453       1 -0.002574 -0.000681 -0.000194  0.000334  0.000122   \n",
       "4499952  0.074153       1 -0.002580 -0.000686 -0.000202  0.000332  0.000121   \n",
       "4499968  0.200016       1 -0.002585 -0.000690 -0.000208  0.000331  0.000121   \n",
       "4499984  0.063862       1 -0.002588 -0.000692 -0.000211  0.000330  0.000120   \n",
       "\n",
       "                5  \n",
       "0        0.000065  \n",
       "16       0.000065  \n",
       "32       0.000065  \n",
       "48       0.000065  \n",
       "64       0.000065  \n",
       "80       0.000065  \n",
       "96       0.000065  \n",
       "112      0.000065  \n",
       "128      0.000065  \n",
       "144      0.000065  \n",
       "160      0.000065  \n",
       "176      0.000065  \n",
       "192      0.000065  \n",
       "208      0.000066  \n",
       "224      0.000066  \n",
       "240      0.000066  \n",
       "256      0.000066  \n",
       "272      0.000066  \n",
       "288      0.000066  \n",
       "304      0.000066  \n",
       "320      0.000066  \n",
       "336      0.000066  \n",
       "352      0.000066  \n",
       "368      0.000066  \n",
       "384      0.000066  \n",
       "400      0.000066  \n",
       "416      0.000066  \n",
       "432      0.000067  \n",
       "448      0.000067  \n",
       "464      0.000067  \n",
       "...           ...  \n",
       "4499520  0.000242  \n",
       "4499536  0.000272  \n",
       "4499552  0.000300  \n",
       "4499568  0.000328  \n",
       "4499584  0.000356  \n",
       "4499600  0.000382  \n",
       "4499616  0.000407  \n",
       "4499632  0.000432  \n",
       "4499648  0.000455  \n",
       "4499664  0.000477  \n",
       "4499680  0.000498  \n",
       "4499696  0.000518  \n",
       "4499712  0.000537  \n",
       "4499728  0.000555  \n",
       "4499744  0.000572  \n",
       "4499760  0.000587  \n",
       "4499776  0.000601  \n",
       "4499792  0.000615  \n",
       "4499808  0.000627  \n",
       "4499824  0.000638  \n",
       "4499840  0.000648  \n",
       "4499856  0.000657  \n",
       "4499872  0.000665  \n",
       "4499888  0.000672  \n",
       "4499904  0.000678  \n",
       "4499920  0.000683  \n",
       "4499936  0.000687  \n",
       "4499952  0.000690  \n",
       "4499968  0.000692  \n",
       "4499984  0.000693  \n",
       "\n",
       "[843750 rows x 8 columns]"
      ]
     },
     "execution_count": 113,
     "metadata": {},
     "output_type": "execute_result"
    }
   ],
   "source": [
    "df"
   ]
  },
  {
   "cell_type": "code",
   "execution_count": null,
   "metadata": {},
   "outputs": [],
   "source": []
  }
 ],
 "metadata": {
  "kernelspec": {
   "display_name": "Python 3",
   "language": "python",
   "name": "python3"
  },
  "language_info": {
   "codemirror_mode": {
    "name": "ipython",
    "version": 3
   },
   "file_extension": ".py",
   "mimetype": "text/x-python",
   "name": "python",
   "nbconvert_exporter": "python",
   "pygments_lexer": "ipython3",
   "version": "3.6.8"
  }
 },
 "nbformat": 4,
 "nbformat_minor": 2
}
